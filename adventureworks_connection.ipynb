{
 "cells": [
  {
   "cell_type": "markdown",
   "id": "6097b4cc-1f25-44b8-ad1e-57464c9627bc",
   "metadata": {},
   "source": [
    "# Connessione al DB"
   ]
  },
  {
   "cell_type": "code",
   "execution_count": 10,
   "id": "39b8496a-e97a-4424-b3d1-d6a3d02136ff",
   "metadata": {},
   "outputs": [
    {
     "name": "stdout",
     "output_type": "stream",
     "text": [
      "connected\n"
     ]
    }
   ],
   "source": [
    "import os\n",
    "import dotenv\n",
    "import sqlalchemy\n",
    "import pandas as pd\n",
    "from pathlib import Path\n",
    "\n",
    "envpath = str(Path(os.path.abspath(\"\")).parents[0]) + '\\\\' + \".env\"\n",
    "envpath = envpath.replace('\\\\', '/')\n",
    "\n",
    "dotenv.load_dotenv(override = True , dotenv_path = envpath)\n",
    "\n",
    "AWDW_user = os.getenv(\"AWDW_user\")\n",
    "AWDW_pass = os.getenv(\"AWDW_pass\")\n",
    "AWDW_host = os.getenv(\"AWDW_host\")\n",
    "AWDW_dbname = os.getenv(\"AWDW_dbname\")\n",
    "\n",
    "connection_string = \"mysql+pymysql://\" + AWDW_user + \":\" + AWDW_pass + \"@\" + AWDW_host + \"/\" + AWDW_dbname\n",
    "\n",
    "db_engine = sqlalchemy.create_engine(connection_string)\n",
    "print(\"connected\")"
   ]
  }
 ],
 "metadata": {
  "kernelspec": {
   "display_name": "Python 3 (ipykernel)",
   "language": "python",
   "name": "python3"
  },
  "language_info": {
   "codemirror_mode": {
    "name": "ipython",
    "version": 3
   },
   "file_extension": ".py",
   "mimetype": "text/x-python",
   "name": "python",
   "nbconvert_exporter": "python",
   "pygments_lexer": "ipython3",
   "version": "3.12.7"
  }
 },
 "nbformat": 4,
 "nbformat_minor": 5
}
