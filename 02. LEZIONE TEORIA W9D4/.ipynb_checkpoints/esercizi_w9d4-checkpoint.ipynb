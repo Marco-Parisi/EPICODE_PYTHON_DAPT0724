{
 "cells": [
  {
   "cell_type": "code",
   "execution_count": 112,
   "id": "15944262-eaf4-4ca8-94ef-3adbe22b8b52",
   "metadata": {},
   "outputs": [
    {
     "name": "stdout",
     "output_type": "stream",
     "text": [
      "E\n",
      "p\n",
      "i\n",
      "c\n",
      "o\n",
      "d\n",
      "e\n"
     ]
    }
   ],
   "source": [
    "nome_scuola = \"Epicode\"\n",
    "i = 0\n",
    "while i < len(nome_scuola):\n",
    "    print(nome_scuola[i])\n",
    "    i += 1"
   ]
  },
  {
   "cell_type": "code",
   "execution_count": 113,
   "id": "155194a1-e3da-4cf7-a23b-bde5658efcf1",
   "metadata": {},
   "outputs": [
    {
     "name": "stdout",
     "output_type": "stream",
     "text": [
      "numero: 0\n",
      "numero: 1\n",
      "numero: 2\n",
      "numero: 3\n",
      "numero: 4\n",
      "numero: 5\n",
      "numero: 6\n",
      "numero: 7\n",
      "numero: 8\n",
      "numero: 9\n",
      "numero: 10\n",
      "numero: 11\n",
      "numero: 12\n",
      "numero: 13\n",
      "numero: 14\n",
      "numero: 15\n",
      "numero: 16\n",
      "numero: 17\n",
      "numero: 18\n",
      "numero: 19\n",
      "numero: 20\n"
     ]
    }
   ],
   "source": [
    "i = 0\n",
    "while i <= 20:\n",
    "    print(\"numero: \" + str(i))\n",
    "    i += 1"
   ]
  },
  {
   "cell_type": "code",
   "execution_count": 114,
   "id": "0e415bfa-1033-4cf1-b938-34195909c060",
   "metadata": {},
   "outputs": [
    {
     "name": "stdout",
     "output_type": "stream",
     "text": [
      "1\n",
      "2\n",
      "4\n",
      "8\n",
      "16\n",
      "32\n",
      "64\n",
      "128\n",
      "256\n",
      "512\n"
     ]
    }
   ],
   "source": [
    "i = 0\n",
    "while i < 10:\n",
    "    print(2**i)\n",
    "    i += 1"
   ]
  },
  {
   "cell_type": "code",
   "execution_count": 115,
   "id": "446f9bc6-23cd-4561-ae93-b4819ab9381c",
   "metadata": {},
   "outputs": [
    {
     "name": "stdin",
     "output_type": "stream",
     "text": [
      "Inserire la potenza N (-1 per uscire): 10\n"
     ]
    },
    {
     "name": "stdout",
     "output_type": "stream",
     "text": [
      "1\n",
      "2\n",
      "4\n",
      "8\n",
      "16\n",
      "32\n",
      "64\n",
      "128\n",
      "256\n",
      "512\n"
     ]
    },
    {
     "name": "stdin",
     "output_type": "stream",
     "text": [
      "Inserire la potenza N (-1 per uscire): 2\n"
     ]
    },
    {
     "name": "stdout",
     "output_type": "stream",
     "text": [
      "1\n",
      "2\n"
     ]
    },
    {
     "name": "stdin",
     "output_type": "stream",
     "text": [
      "Inserire la potenza N (-1 per uscire): -1\n"
     ]
    }
   ],
   "source": [
    "n = 0\n",
    "while n != -1:\n",
    "    n = input(\"Inserire la potenza N (-1 per uscire):\")\n",
    "    n = int(n)\n",
    "    if n != -1:\n",
    "        i = 0\n",
    "        while i < n:\n",
    "            print(2**(i))\n",
    "            i += 1"
   ]
  },
  {
   "cell_type": "code",
   "execution_count": 116,
   "id": "c90cc64f-b6b1-447b-b3ca-20fabe5cb607",
   "metadata": {},
   "outputs": [
    {
     "name": "stdout",
     "output_type": "stream",
     "text": [
      "1\n",
      "2\n",
      "4\n",
      "8\n",
      "16\n",
      "32\n",
      "64\n",
      "128\n",
      "256\n",
      "512\n",
      "1024\n",
      "2048\n",
      "4096\n",
      "8192\n",
      "16384\n",
      "32768\n",
      "65536\n",
      "131072\n"
     ]
    }
   ],
   "source": [
    "pot = i = 0\n",
    "while pot < 25e4:\n",
    "    pot = 2**i\n",
    "    i+=1\n",
    "    if pot < 25e4:\n",
    "        print(pot)"
   ]
  },
  {
   "cell_type": "code",
   "execution_count": 117,
   "id": "db86babe-da68-436d-9a05-e2e879d984f1",
   "metadata": {},
   "outputs": [
    {
     "name": "stdin",
     "output_type": "stream",
     "text": [
      "scrivere una stringa con almeno 6 caratteri:  ciao a tutti\n"
     ]
    },
    {
     "name": "stdout",
     "output_type": "stream",
     "text": [
      "cia...tti...\n"
     ]
    }
   ],
   "source": [
    "stringa = \"\" \n",
    "while len(stringa) < 6:\n",
    "    stringa = input(\"scrivere una stringa con almeno 6 caratteri: \")\n",
    "\n",
    "pr_stringa = stringa[:3] + \"...\" + stringa[-3:] + \"...\"\n",
    "print(pr_stringa)"
   ]
  },
  {
   "cell_type": "code",
   "execution_count": 118,
   "id": "bd81ef7f-995c-4208-bb63-b1264abf1f4f",
   "metadata": {},
   "outputs": [
    {
     "name": "stdin",
     "output_type": "stream",
     "text": [
      "inserire un numero maggiore di 1 (0 per uscire): 10\n"
     ]
    },
    {
     "name": "stdout",
     "output_type": "stream",
     "text": [
      "2\n",
      "5\n"
     ]
    },
    {
     "name": "stdin",
     "output_type": "stream",
     "text": [
      "inserire un numero maggiore di 1 (0 per uscire): 0\n"
     ]
    }
   ],
   "source": [
    "num = 1\n",
    "while num != 0:\n",
    "    num = input(\"inserire un numero maggiore di 1 (0 per uscire):\")\n",
    "    try:\n",
    "        num = int(num)\n",
    "        if num != 0:\n",
    "            fact = 2\n",
    "            while num > 1:\n",
    "                if num % fact == 0:\n",
    "                    print(fact)\n",
    "                    num /= fact\n",
    "                fact += 1\n",
    "    except:\n",
    "        print(\"non è stato inserito un numero!\")"
   ]
  },
  {
   "cell_type": "code",
   "execution_count": 119,
   "id": "1e3aafcd-ff21-4d35-b548-3dbf1dd021db",
   "metadata": {},
   "outputs": [
    {
     "name": "stdout",
     "output_type": "stream",
     "text": [
      "E\n",
      "p\n",
      "i\n",
      "c\n",
      "o\n",
      "d\n",
      "e\n"
     ]
    }
   ],
   "source": [
    "nome_scuola = \"Epicode\"\n",
    "\n",
    "for i in range(len(nome_scuola)):\n",
    "    print(nome_scuola[i])"
   ]
  },
  {
   "cell_type": "code",
   "execution_count": 120,
   "id": "aa85897d-4643-4086-b11f-843cb3e0b664",
   "metadata": {},
   "outputs": [
    {
     "name": "stdout",
     "output_type": "stream",
     "text": [
      "1\n",
      "2\n",
      "4\n",
      "8\n",
      "16\n",
      "32\n",
      "64\n",
      "128\n",
      "256\n",
      "512\n"
     ]
    }
   ],
   "source": [
    "for i in range(10):\n",
    "    print(2**i)"
   ]
  },
  {
   "cell_type": "code",
   "execution_count": 128,
   "id": "e693343a-7feb-45c4-a3dd-aa8037fafdc6",
   "metadata": {},
   "outputs": [
    {
     "name": "stdin",
     "output_type": "stream",
     "text": [
      "Inserire la potenza N (-1 per uscire): 10\n",
      "Inserire la base K > 1: 3\n"
     ]
    },
    {
     "name": "stdout",
     "output_type": "stream",
     "text": [
      "[1, 3, 9, 27, 81, 243, 729, 2187, 6561, 19683]\n"
     ]
    },
    {
     "name": "stdin",
     "output_type": "stream",
     "text": [
      "Inserire la potenza N (-1 per uscire): 5\n",
      "Inserire la base K > 1: 9\n"
     ]
    },
    {
     "name": "stdout",
     "output_type": "stream",
     "text": [
      "[1, 9, 81, 729, 6561]\n"
     ]
    },
    {
     "name": "stdin",
     "output_type": "stream",
     "text": [
      "Inserire la potenza N (-1 per uscire): -1\n"
     ]
    }
   ],
   "source": [
    "potenze = []\n",
    "j = k = n = 0\n",
    "while n != -1 :\n",
    "    n = input(\"Inserire la potenza N (-1 per uscire):\")\n",
    "    n = int(n)\n",
    "    if n != -1:\n",
    "        k = input(\"Inserire la base K > 1:\")\n",
    "    k = int(k)\n",
    "    if n != -1 and k > 1:\n",
    "        i = 0\n",
    "        while i < n:\n",
    "            potenze.append(k**(i))\n",
    "            i += 1\n",
    "        print(potenze)\n",
    "        potenze = []"
   ]
  },
  {
   "cell_type": "code",
   "execution_count": 122,
   "id": "cd24c926-c767-4a7b-b21f-b3a81cc021a6",
   "metadata": {},
   "outputs": [
    {
     "name": "stdin",
     "output_type": "stream",
     "text": [
      "Inserire la potenza N (-1 per uscire): 10\n",
      "Inserire la base K > 1: 5\n"
     ]
    },
    {
     "name": "stdout",
     "output_type": "stream",
     "text": [
      "[1, 5, 25, 125, 625, 3125, 15625, 78125, 390625, 1953125]\n"
     ]
    },
    {
     "name": "stdin",
     "output_type": "stream",
     "text": [
      "Inserire la potenza N (-1 per uscire): -1\n"
     ]
    }
   ],
   "source": [
    "potenze = []\n",
    "j = k = n = 0\n",
    "while n != -1 :\n",
    "    n = input(\"Inserire la potenza N (-1 per uscire):\")\n",
    "    n = int(n)\n",
    "    if n != -1:\n",
    "        k = input(\"Inserire la base K > 1:\")\n",
    "    k = int(k)\n",
    "    if n != -1 and k > 1:\n",
    "        for i in range(n):\n",
    "            potenze.append(k**(i))\n",
    "        print(potenze)\n",
    "        potenze = []"
   ]
  },
  {
   "cell_type": "code",
   "execution_count": 123,
   "id": "06261694-e9ba-4a7c-addc-aa16f2d12706",
   "metadata": {},
   "outputs": [
    {
     "name": "stdout",
     "output_type": "stream",
     "text": [
      "70.0\n"
     ]
    }
   ],
   "source": [
    "guadagni = [100, 90, 70, 40, 50, 80, 90, 120, 80, 20, 50, 50]\n",
    "somma = media = 0\n",
    "len_guad = len(guadagni)\n",
    "\n",
    "for i in range(len_guad):\n",
    "    somma += guadagni[i]\n",
    "\n",
    "media = somma / len_guad\n",
    "print(media)"
   ]
  },
  {
   "cell_type": "code",
   "execution_count": 124,
   "id": "a2efd607-17d8-4554-97f5-76c5af929bf9",
   "metadata": {},
   "outputs": [
    {
     "name": "stdout",
     "output_type": "stream",
     "text": [
      "numero di 'e' nella parola: Albergo = 1\n",
      "numero di 'e' nella parola: Sedia = 1\n",
      "numero di 'e' nella parola: Borgo = 0\n",
      "numero di 'e' nella parola: Petalo = 1\n",
      "numero di 'e' nella parola: Eremo = 1\n",
      "numero di 'e' nella parola: Belvedere = 4\n",
      "numero di 'e' nella parola: Semestre = 3\n",
      "numero di 'e' nella parola: Esteta = 1\n",
      "numero di 'e' nella parola: Sosta = 0\n",
      "numero di 'e' nella parola: Orpello = 1\n",
      "numero di 'e' nella parola: Abete = 2\n",
      "numero di 'e' nella parola: Orologio = 0\n",
      "numero di 'e' nella parola: Cesta = 1\n",
      "numero di 'e' nella parola: Ermellino = 1\n"
     ]
    }
   ],
   "source": [
    "parole = [\"Albergo\", \"Sedia\", \"Borgo\", \"Petalo\", \"Eremo\", \n",
    "          \"Belvedere\", \"Semestre\", \"Esteta\", \"Sosta\", \n",
    "          \"Orpello\", \"Abete\", \"Orologio\", \"Cesta\", \"Ermellino\"]\n",
    "\n",
    "for parola in parole:\n",
    "    e = 0\n",
    "    for car in parola:\n",
    "        if car == 'e':\n",
    "            e += 1\n",
    "    print(\"numero di \\'e\\' nella parola: \" + parola + \" = \" + str(e))"
   ]
  },
  {
   "cell_type": "code",
   "execution_count": 132,
   "id": "6c42f377-0346-4293-8e42-223eef1a95fa",
   "metadata": {},
   "outputs": [
    {
     "name": "stdout",
     "output_type": "stream",
     "text": [
      "{'Ada': 'Punto', 'Ben': 'Multipla', 'Charlie': 'Golf', 'Debbie': '107'}\n",
      "107\n"
     ]
    }
   ],
   "source": [
    "dizionario_auto = {\"Ada\": \"Punto\", \"Ben\": \"Multipla\", \n",
    "                   \"Charlie\": \"Golf\", \"Debbie\": \"107\"}\n",
    "\n",
    "print(dizionario_auto)\n",
    "print(dizionario_auto[\"Debbie\"])"
   ]
  },
  {
   "cell_type": "code",
   "execution_count": 133,
   "id": "9265a4d5-1cc3-4c05-808f-12abd5435a5b",
   "metadata": {},
   "outputs": [
    {
     "name": "stdout",
     "output_type": "stream",
     "text": [
      "Punto\n",
      "Golf\n",
      "107\n"
     ]
    }
   ],
   "source": [
    "for chiave in dizionario_auto:\n",
    "    if dizionario_auto[chiave] != \"Multipla\":\n",
    "        print(dizionario_auto[chiave])"
   ]
  },
  {
   "cell_type": "code",
   "execution_count": 134,
   "id": "c28e6eba-8d9e-4af4-a9f2-8fb3f35b5851",
   "metadata": {},
   "outputs": [
    {
     "name": "stdout",
     "output_type": "stream",
     "text": [
      "Polo\n"
     ]
    }
   ],
   "source": [
    "dizionario_auto = {\"Ada\": \"Punto\", \"Ben\": \"Multipla\", \n",
    "                   \"Charlie\": \"Golf\", \"Debbie\": \"107\", \"Emily\": \"A1\"}\n",
    "nuovi_proprietari = {\"Ben\": \"Polo\", \"Fred\": \"Octavia\", \n",
    "                     \"Grace\": \"Yaris\", \"Hugh\": \"Clio\"}\n",
    "dizionario_auto.update(nuovi_proprietari)\n",
    "print(dizionario_auto[\"Ben\"])"
   ]
  }
 ],
 "metadata": {
  "kernelspec": {
   "display_name": "Python 3 (ipykernel)",
   "language": "python",
   "name": "python3"
  },
  "language_info": {
   "codemirror_mode": {
    "name": "ipython",
    "version": 3
   },
   "file_extension": ".py",
   "mimetype": "text/x-python",
   "name": "python",
   "nbconvert_exporter": "python",
   "pygments_lexer": "ipython3",
   "version": "3.12.7"
  }
 },
 "nbformat": 4,
 "nbformat_minor": 5
}
