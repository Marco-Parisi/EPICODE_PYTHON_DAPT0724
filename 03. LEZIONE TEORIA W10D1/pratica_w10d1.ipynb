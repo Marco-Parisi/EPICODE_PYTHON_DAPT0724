{
 "cells": [
  {
   "cell_type": "markdown",
   "id": "45f2cf05-e218-46be-84fe-42590c185b9e",
   "metadata": {
    "jp-MarkdownHeadingCollapsed": true
   },
   "source": [
    "# Connessione al DB AdventureWorksDW"
   ]
  },
  {
   "cell_type": "code",
   "execution_count": 2,
   "id": "29a7d68d-2194-404b-913e-a3ed35ad5154",
   "metadata": {},
   "outputs": [],
   "source": [
    "import os\n",
    "import dotenv\n",
    "import sqlalchemy\n",
    "\n",
    "dotenv.load_dotenv(override=True)\n",
    "\n",
    "AWDW_user = os.getenv(\"AWDW_user\")\n",
    "AWDW_pass = os.getenv(\"AWDW_pass\")\n",
    "AWDW_host = os.getenv(\"AWDW_host\")\n",
    "AWDW_dbname = os.getenv(\"AWDW_dbname\")\n",
    "\n",
    "connection_string = \"mysql+pymysql://\" + AWDW_user + \":\" + AWDW_pass + \"@\" + AWDW_host + \"/\" + AWDW_dbname\n",
    "\n",
    "db_engine = sqlalchemy.create_engine(connection_string)"
   ]
  },
  {
   "cell_type": "code",
   "execution_count": 3,
   "id": "ac164575-9042-4c11-90b3-6c4dc9f185b7",
   "metadata": {},
   "outputs": [
    {
     "data": {
      "text/html": [
       "<div>\n",
       "<style scoped>\n",
       "    .dataframe tbody tr th:only-of-type {\n",
       "        vertical-align: middle;\n",
       "    }\n",
       "\n",
       "    .dataframe tbody tr th {\n",
       "        vertical-align: top;\n",
       "    }\n",
       "\n",
       "    .dataframe thead th {\n",
       "        text-align: right;\n",
       "    }\n",
       "</style>\n",
       "<table border=\"1\" class=\"dataframe\">\n",
       "  <thead>\n",
       "    <tr style=\"text-align: right;\">\n",
       "      <th></th>\n",
       "      <th>ProductKey</th>\n",
       "      <th>ProductAlternateKey</th>\n",
       "      <th>ProductSubcategoryKey</th>\n",
       "      <th>WeightUnitMeasureCode</th>\n",
       "      <th>SizeUnitMeasureCode</th>\n",
       "      <th>EnglishProductName</th>\n",
       "      <th>SpanishProductName</th>\n",
       "      <th>FrenchProductName</th>\n",
       "      <th>StandardCost</th>\n",
       "      <th>FinishedGoodsFlag</th>\n",
       "      <th>...</th>\n",
       "      <th>ChineseDescription</th>\n",
       "      <th>ArabicDescription</th>\n",
       "      <th>HebrewDescription</th>\n",
       "      <th>ThaiDescription</th>\n",
       "      <th>GermanDescription</th>\n",
       "      <th>JapaneseDescription</th>\n",
       "      <th>TurkishDescription</th>\n",
       "      <th>StartDate</th>\n",
       "      <th>EndDate</th>\n",
       "      <th>Status</th>\n",
       "    </tr>\n",
       "  </thead>\n",
       "  <tbody>\n",
       "    <tr>\n",
       "      <th>0</th>\n",
       "      <td>1</td>\n",
       "      <td>AR-5381</td>\n",
       "      <td>NaN</td>\n",
       "      <td>None</td>\n",
       "      <td>None</td>\n",
       "      <td>Adjustable Race</td>\n",
       "      <td></td>\n",
       "      <td></td>\n",
       "      <td>NaN</td>\n",
       "      <td>0</td>\n",
       "      <td>...</td>\n",
       "      <td>None</td>\n",
       "      <td>None</td>\n",
       "      <td>None</td>\n",
       "      <td>None</td>\n",
       "      <td>None</td>\n",
       "      <td>None</td>\n",
       "      <td>None</td>\n",
       "      <td>2003-07-01</td>\n",
       "      <td>NaT</td>\n",
       "      <td>Current</td>\n",
       "    </tr>\n",
       "    <tr>\n",
       "      <th>1</th>\n",
       "      <td>2</td>\n",
       "      <td>BA-8327</td>\n",
       "      <td>NaN</td>\n",
       "      <td>None</td>\n",
       "      <td>None</td>\n",
       "      <td>Bearing Ball</td>\n",
       "      <td></td>\n",
       "      <td></td>\n",
       "      <td>NaN</td>\n",
       "      <td>0</td>\n",
       "      <td>...</td>\n",
       "      <td>None</td>\n",
       "      <td>None</td>\n",
       "      <td>None</td>\n",
       "      <td>None</td>\n",
       "      <td>None</td>\n",
       "      <td>None</td>\n",
       "      <td>None</td>\n",
       "      <td>2003-07-01</td>\n",
       "      <td>NaT</td>\n",
       "      <td>Current</td>\n",
       "    </tr>\n",
       "    <tr>\n",
       "      <th>2</th>\n",
       "      <td>3</td>\n",
       "      <td>BE-2349</td>\n",
       "      <td>NaN</td>\n",
       "      <td>None</td>\n",
       "      <td>None</td>\n",
       "      <td>BB Ball Bearing</td>\n",
       "      <td></td>\n",
       "      <td></td>\n",
       "      <td>NaN</td>\n",
       "      <td>0</td>\n",
       "      <td>...</td>\n",
       "      <td>None</td>\n",
       "      <td>None</td>\n",
       "      <td>None</td>\n",
       "      <td>None</td>\n",
       "      <td>None</td>\n",
       "      <td>None</td>\n",
       "      <td>None</td>\n",
       "      <td>2003-07-01</td>\n",
       "      <td>NaT</td>\n",
       "      <td>Current</td>\n",
       "    </tr>\n",
       "    <tr>\n",
       "      <th>3</th>\n",
       "      <td>4</td>\n",
       "      <td>BE-2908</td>\n",
       "      <td>NaN</td>\n",
       "      <td>None</td>\n",
       "      <td>None</td>\n",
       "      <td>Headset Ball Bearings</td>\n",
       "      <td></td>\n",
       "      <td></td>\n",
       "      <td>NaN</td>\n",
       "      <td>0</td>\n",
       "      <td>...</td>\n",
       "      <td>None</td>\n",
       "      <td>None</td>\n",
       "      <td>None</td>\n",
       "      <td>None</td>\n",
       "      <td>None</td>\n",
       "      <td>None</td>\n",
       "      <td>None</td>\n",
       "      <td>2003-07-01</td>\n",
       "      <td>NaT</td>\n",
       "      <td>Current</td>\n",
       "    </tr>\n",
       "    <tr>\n",
       "      <th>4</th>\n",
       "      <td>5</td>\n",
       "      <td>BL-2036</td>\n",
       "      <td>NaN</td>\n",
       "      <td>None</td>\n",
       "      <td>None</td>\n",
       "      <td>Blade</td>\n",
       "      <td></td>\n",
       "      <td></td>\n",
       "      <td>NaN</td>\n",
       "      <td>0</td>\n",
       "      <td>...</td>\n",
       "      <td>None</td>\n",
       "      <td>None</td>\n",
       "      <td>None</td>\n",
       "      <td>None</td>\n",
       "      <td>None</td>\n",
       "      <td>None</td>\n",
       "      <td>None</td>\n",
       "      <td>2003-07-01</td>\n",
       "      <td>NaT</td>\n",
       "      <td>Current</td>\n",
       "    </tr>\n",
       "    <tr>\n",
       "      <th>...</th>\n",
       "      <td>...</td>\n",
       "      <td>...</td>\n",
       "      <td>...</td>\n",
       "      <td>...</td>\n",
       "      <td>...</td>\n",
       "      <td>...</td>\n",
       "      <td>...</td>\n",
       "      <td>...</td>\n",
       "      <td>...</td>\n",
       "      <td>...</td>\n",
       "      <td>...</td>\n",
       "      <td>...</td>\n",
       "      <td>...</td>\n",
       "      <td>...</td>\n",
       "      <td>...</td>\n",
       "      <td>...</td>\n",
       "      <td>...</td>\n",
       "      <td>...</td>\n",
       "      <td>...</td>\n",
       "      <td>...</td>\n",
       "      <td>...</td>\n",
       "    </tr>\n",
       "    <tr>\n",
       "      <th>601</th>\n",
       "      <td>602</td>\n",
       "      <td>BB-8107</td>\n",
       "      <td>5.0</td>\n",
       "      <td>G</td>\n",
       "      <td>None</td>\n",
       "      <td>ML Bottom Bracket</td>\n",
       "      <td>Eje de pedalier GM</td>\n",
       "      <td>Axe de pédalier ML</td>\n",
       "      <td>44.95</td>\n",
       "      <td>1</td>\n",
       "      <td>...</td>\n",
       "      <td>铝合金车圈；大直径脚蹬轴。</td>\n",
       "      <td>فناجين من سبيكة الألومنيوم؛ ذات محور دوران كبي...</td>\n",
       "      <td>כיסויים מסגסוגת אלומיניום; ציר רחב-קוטר.</td>\n",
       "      <td>ดุมอลูมิเนียมอัลลอยด์ แกนเพลาขนาดใหญ่</td>\n",
       "      <td>Außenringe aus Aluminiumlegierung; Radachse mi...</td>\n",
       "      <td>アルミニウム合金カップ、大径スピンドル。</td>\n",
       "      <td>Alüminyum alaşımı orta göbekler; geniş çaplı mil.</td>\n",
       "      <td>2013-07-01</td>\n",
       "      <td>NaT</td>\n",
       "      <td>Current</td>\n",
       "    </tr>\n",
       "    <tr>\n",
       "      <th>602</th>\n",
       "      <td>603</td>\n",
       "      <td>BB-9108</td>\n",
       "      <td>5.0</td>\n",
       "      <td>G</td>\n",
       "      <td>None</td>\n",
       "      <td>HL Bottom Bracket</td>\n",
       "      <td>Eje de pedalier GA</td>\n",
       "      <td>Axe de pédalier HL</td>\n",
       "      <td>53.94</td>\n",
       "      <td>1</td>\n",
       "      <td>...</td>\n",
       "      <td>铝合金车圈和空心轴。</td>\n",
       "      <td>فناجين من سبيكة الألومنيوم ومحور أجوف.</td>\n",
       "      <td>כיסויים מסגסוגת אלומיניום וציר חלול.</td>\n",
       "      <td>ดุมอลูมิเนียมอัลลอยด์และเพลากลวง</td>\n",
       "      <td>Außenringe aus Aluminiumlegierung und hohle Ac...</td>\n",
       "      <td>アルミニウム合金カップとホロー アクスル。</td>\n",
       "      <td>Alüminyum alaşımı orta göbekler ve içi boş aks.</td>\n",
       "      <td>2013-07-01</td>\n",
       "      <td>NaT</td>\n",
       "      <td>Current</td>\n",
       "    </tr>\n",
       "    <tr>\n",
       "      <th>603</th>\n",
       "      <td>604</td>\n",
       "      <td>BK-R19B-44</td>\n",
       "      <td>2.0</td>\n",
       "      <td>LB</td>\n",
       "      <td>CM</td>\n",
       "      <td>Road-750 Black, 44</td>\n",
       "      <td>Carretera: 750, negra, 44</td>\n",
       "      <td>Vélo de route 750 noir, 44</td>\n",
       "      <td>343.65</td>\n",
       "      <td>1</td>\n",
       "      <td>...</td>\n",
       "      <td>入门级成人自行车；确保越野旅行或公路骑乘的舒适。快拆式车毂和轮缘。</td>\n",
       "      <td>إنها دراجة مناسبة للمبتدئين من البالغين؛ فهي ت...</td>\n",
       "      <td>אופני מבוגרים למתחילים; מציעים רכיבה נוחה \"מחו...</td>\n",
       "      <td>จักรยานระดับเริ่มต้นสำหรับผู้ใหญ่ ให้ความสบายใ...</td>\n",
       "      <td>Ein Erwachsenenrad für Einsteiger; bietet Komf...</td>\n",
       "      <td>エントリー レベルに対応する、クロスカントリーにも街への買い物にも快適な、大人の自転車。ハブ...</td>\n",
       "      <td>\"Başlangıç seviyesinde yetişkin bisikleti, kır...</td>\n",
       "      <td>2013-07-01</td>\n",
       "      <td>NaT</td>\n",
       "      <td>Current</td>\n",
       "    </tr>\n",
       "    <tr>\n",
       "      <th>604</th>\n",
       "      <td>605</td>\n",
       "      <td>BK-R19B-48</td>\n",
       "      <td>2.0</td>\n",
       "      <td>LB</td>\n",
       "      <td>CM</td>\n",
       "      <td>Road-750 Black, 48</td>\n",
       "      <td>Carretera: 750, negra, 48</td>\n",
       "      <td>Vélo de route 750 noir, 48</td>\n",
       "      <td>343.65</td>\n",
       "      <td>1</td>\n",
       "      <td>...</td>\n",
       "      <td>入门级成人自行车；确保越野旅行或公路骑乘的舒适。快拆式车毂和轮缘。</td>\n",
       "      <td>إنها دراجة مناسبة للمبتدئين من البالغين؛ فهي ت...</td>\n",
       "      <td>אופני מבוגרים למתחילים; מציעים רכיבה נוחה \"מחו...</td>\n",
       "      <td>จักรยานระดับเริ่มต้นสำหรับผู้ใหญ่ ให้ความสบายใ...</td>\n",
       "      <td>Ein Erwachsenenrad für Einsteiger; bietet Komf...</td>\n",
       "      <td>エントリー レベルに対応する、クロスカントリーにも街への買い物にも快適な、大人の自転車。ハブ...</td>\n",
       "      <td>\"Başlangıç seviyesinde yetişkin bisikleti, kır...</td>\n",
       "      <td>2013-07-01</td>\n",
       "      <td>NaT</td>\n",
       "      <td>Current</td>\n",
       "    </tr>\n",
       "    <tr>\n",
       "      <th>605</th>\n",
       "      <td>606</td>\n",
       "      <td>BK-R19B-52</td>\n",
       "      <td>2.0</td>\n",
       "      <td>LB</td>\n",
       "      <td>CM</td>\n",
       "      <td>Road-750 Black, 52</td>\n",
       "      <td>Carretera: 750, negra, 52</td>\n",
       "      <td>Vélo de route 750 noir, 52</td>\n",
       "      <td>343.65</td>\n",
       "      <td>1</td>\n",
       "      <td>...</td>\n",
       "      <td>入门级成人自行车；确保越野旅行或公路骑乘的舒适。快拆式车毂和轮缘。</td>\n",
       "      <td>إنها دراجة مناسبة للمبتدئين من البالغين؛ فهي ت...</td>\n",
       "      <td>אופני מבוגרים למתחילים; מציעים רכיבה נוחה \"מחו...</td>\n",
       "      <td>จักรยานระดับเริ่มต้นสำหรับผู้ใหญ่ ให้ความสบายใ...</td>\n",
       "      <td>Ein Erwachsenenrad für Einsteiger; bietet Komf...</td>\n",
       "      <td>エントリー レベルに対応する、クロスカントリーにも街への買い物にも快適な、大人の自転車。ハブ...</td>\n",
       "      <td>\"Başlangıç seviyesinde yetişkin bisikleti, kır...</td>\n",
       "      <td>2013-07-01</td>\n",
       "      <td>NaT</td>\n",
       "      <td>Current</td>\n",
       "    </tr>\n",
       "  </tbody>\n",
       "</table>\n",
       "<p>606 rows × 36 columns</p>\n",
       "</div>"
      ],
      "text/plain": [
       "     ProductKey ProductAlternateKey  ProductSubcategoryKey  \\\n",
       "0             1             AR-5381                    NaN   \n",
       "1             2             BA-8327                    NaN   \n",
       "2             3             BE-2349                    NaN   \n",
       "3             4             BE-2908                    NaN   \n",
       "4             5             BL-2036                    NaN   \n",
       "..          ...                 ...                    ...   \n",
       "601         602             BB-8107                    5.0   \n",
       "602         603             BB-9108                    5.0   \n",
       "603         604          BK-R19B-44                    2.0   \n",
       "604         605          BK-R19B-48                    2.0   \n",
       "605         606          BK-R19B-52                    2.0   \n",
       "\n",
       "    WeightUnitMeasureCode SizeUnitMeasureCode     EnglishProductName  \\\n",
       "0                    None                None        Adjustable Race   \n",
       "1                    None                None           Bearing Ball   \n",
       "2                    None                None        BB Ball Bearing   \n",
       "3                    None                None  Headset Ball Bearings   \n",
       "4                    None                None                  Blade   \n",
       "..                    ...                 ...                    ...   \n",
       "601                     G                None      ML Bottom Bracket   \n",
       "602                     G                None      HL Bottom Bracket   \n",
       "603                    LB                  CM     Road-750 Black, 44   \n",
       "604                    LB                  CM     Road-750 Black, 48   \n",
       "605                    LB                  CM     Road-750 Black, 52   \n",
       "\n",
       "            SpanishProductName           FrenchProductName  StandardCost  \\\n",
       "0                                                                    NaN   \n",
       "1                                                                    NaN   \n",
       "2                                                                    NaN   \n",
       "3                                                                    NaN   \n",
       "4                                                                    NaN   \n",
       "..                         ...                         ...           ...   \n",
       "601         Eje de pedalier GM          Axe de pédalier ML         44.95   \n",
       "602         Eje de pedalier GA          Axe de pédalier HL         53.94   \n",
       "603  Carretera: 750, negra, 44  Vélo de route 750 noir, 44        343.65   \n",
       "604  Carretera: 750, negra, 48  Vélo de route 750 noir, 48        343.65   \n",
       "605  Carretera: 750, negra, 52  Vélo de route 750 noir, 52        343.65   \n",
       "\n",
       "     FinishedGoodsFlag  ...                 ChineseDescription  \\\n",
       "0                    0  ...                               None   \n",
       "1                    0  ...                               None   \n",
       "2                    0  ...                               None   \n",
       "3                    0  ...                               None   \n",
       "4                    0  ...                               None   \n",
       "..                 ...  ...                                ...   \n",
       "601                  1  ...                      铝合金车圈；大直径脚蹬轴。   \n",
       "602                  1  ...                         铝合金车圈和空心轴。   \n",
       "603                  1  ...  入门级成人自行车；确保越野旅行或公路骑乘的舒适。快拆式车毂和轮缘。   \n",
       "604                  1  ...  入门级成人自行车；确保越野旅行或公路骑乘的舒适。快拆式车毂和轮缘。   \n",
       "605                  1  ...  入门级成人自行车；确保越野旅行或公路骑乘的舒适。快拆式车毂和轮缘。   \n",
       "\n",
       "                                     ArabicDescription  \\\n",
       "0                                                 None   \n",
       "1                                                 None   \n",
       "2                                                 None   \n",
       "3                                                 None   \n",
       "4                                                 None   \n",
       "..                                                 ...   \n",
       "601  فناجين من سبيكة الألومنيوم؛ ذات محور دوران كبي...   \n",
       "602             فناجين من سبيكة الألومنيوم ومحور أجوف.   \n",
       "603  إنها دراجة مناسبة للمبتدئين من البالغين؛ فهي ت...   \n",
       "604  إنها دراجة مناسبة للمبتدئين من البالغين؛ فهي ت...   \n",
       "605  إنها دراجة مناسبة للمبتدئين من البالغين؛ فهي ت...   \n",
       "\n",
       "                                     HebrewDescription  \\\n",
       "0                                                 None   \n",
       "1                                                 None   \n",
       "2                                                 None   \n",
       "3                                                 None   \n",
       "4                                                 None   \n",
       "..                                                 ...   \n",
       "601           כיסויים מסגסוגת אלומיניום; ציר רחב-קוטר.   \n",
       "602               כיסויים מסגסוגת אלומיניום וציר חלול.   \n",
       "603  אופני מבוגרים למתחילים; מציעים רכיבה נוחה \"מחו...   \n",
       "604  אופני מבוגרים למתחילים; מציעים רכיבה נוחה \"מחו...   \n",
       "605  אופני מבוגרים למתחילים; מציעים רכיבה נוחה \"מחו...   \n",
       "\n",
       "                                       ThaiDescription  \\\n",
       "0                                                 None   \n",
       "1                                                 None   \n",
       "2                                                 None   \n",
       "3                                                 None   \n",
       "4                                                 None   \n",
       "..                                                 ...   \n",
       "601              ดุมอลูมิเนียมอัลลอยด์ แกนเพลาขนาดใหญ่   \n",
       "602                   ดุมอลูมิเนียมอัลลอยด์และเพลากลวง   \n",
       "603  จักรยานระดับเริ่มต้นสำหรับผู้ใหญ่ ให้ความสบายใ...   \n",
       "604  จักรยานระดับเริ่มต้นสำหรับผู้ใหญ่ ให้ความสบายใ...   \n",
       "605  จักรยานระดับเริ่มต้นสำหรับผู้ใหญ่ ให้ความสบายใ...   \n",
       "\n",
       "                                     GermanDescription  \\\n",
       "0                                                 None   \n",
       "1                                                 None   \n",
       "2                                                 None   \n",
       "3                                                 None   \n",
       "4                                                 None   \n",
       "..                                                 ...   \n",
       "601  Außenringe aus Aluminiumlegierung; Radachse mi...   \n",
       "602  Außenringe aus Aluminiumlegierung und hohle Ac...   \n",
       "603  Ein Erwachsenenrad für Einsteiger; bietet Komf...   \n",
       "604  Ein Erwachsenenrad für Einsteiger; bietet Komf...   \n",
       "605  Ein Erwachsenenrad für Einsteiger; bietet Komf...   \n",
       "\n",
       "                                   JapaneseDescription  \\\n",
       "0                                                 None   \n",
       "1                                                 None   \n",
       "2                                                 None   \n",
       "3                                                 None   \n",
       "4                                                 None   \n",
       "..                                                 ...   \n",
       "601                               アルミニウム合金カップ、大径スピンドル。   \n",
       "602                              アルミニウム合金カップとホロー アクスル。   \n",
       "603  エントリー レベルに対応する、クロスカントリーにも街への買い物にも快適な、大人の自転車。ハブ...   \n",
       "604  エントリー レベルに対応する、クロスカントリーにも街への買い物にも快適な、大人の自転車。ハブ...   \n",
       "605  エントリー レベルに対応する、クロスカントリーにも街への買い物にも快適な、大人の自転車。ハブ...   \n",
       "\n",
       "                                    TurkishDescription  StartDate EndDate  \\\n",
       "0                                                 None 2003-07-01     NaT   \n",
       "1                                                 None 2003-07-01     NaT   \n",
       "2                                                 None 2003-07-01     NaT   \n",
       "3                                                 None 2003-07-01     NaT   \n",
       "4                                                 None 2003-07-01     NaT   \n",
       "..                                                 ...        ...     ...   \n",
       "601  Alüminyum alaşımı orta göbekler; geniş çaplı mil. 2013-07-01     NaT   \n",
       "602    Alüminyum alaşımı orta göbekler ve içi boş aks. 2013-07-01     NaT   \n",
       "603  \"Başlangıç seviyesinde yetişkin bisikleti, kır... 2013-07-01     NaT   \n",
       "604  \"Başlangıç seviyesinde yetişkin bisikleti, kır... 2013-07-01     NaT   \n",
       "605  \"Başlangıç seviyesinde yetişkin bisikleti, kır... 2013-07-01     NaT   \n",
       "\n",
       "      Status  \n",
       "0    Current  \n",
       "1    Current  \n",
       "2    Current  \n",
       "3    Current  \n",
       "4    Current  \n",
       "..       ...  \n",
       "601  Current  \n",
       "602  Current  \n",
       "603  Current  \n",
       "604  Current  \n",
       "605  Current  \n",
       "\n",
       "[606 rows x 36 columns]"
      ]
     },
     "metadata": {},
     "output_type": "display_data"
    }
   ],
   "source": [
    "query = \"SELECT * FROM dimproduct\"\n",
    "\n",
    "tabella = pd.read_sql(query, db_engine)\n",
    "\n",
    "display(tabella)"
   ]
  },
  {
   "cell_type": "markdown",
   "id": "0c280347-e9c3-49f3-b15a-1122e1f201c6",
   "metadata": {
    "jp-MarkdownHeadingCollapsed": true
   },
   "source": [
    "## Connessione al DB Locale"
   ]
  },
  {
   "cell_type": "code",
   "execution_count": 4,
   "id": "1a448546-5373-4095-a25c-0eb4a78e6dcb",
   "metadata": {},
   "outputs": [],
   "source": [
    "\n",
    "local_host = \"127.0.0.1:3306\"\n",
    "AWDW_localpass = os.getenv(\"AWDW_localpass\")\n",
    "\n",
    "connection_string = \"mysql+pymysql://root:\" + AWDW_localpass + \"@\" + local_host + \"/\" + AWDW_dbname\n",
    "\n",
    "local_db_engine = sqlalchemy.create_engine(connection_string)"
   ]
  },
  {
   "cell_type": "code",
   "execution_count": 5,
   "id": "fb58903d-48b7-4bd7-8182-515e5204f509",
   "metadata": {},
   "outputs": [
    {
     "data": {
      "text/html": [
       "<div>\n",
       "<style scoped>\n",
       "    .dataframe tbody tr th:only-of-type {\n",
       "        vertical-align: middle;\n",
       "    }\n",
       "\n",
       "    .dataframe tbody tr th {\n",
       "        vertical-align: top;\n",
       "    }\n",
       "\n",
       "    .dataframe thead th {\n",
       "        text-align: right;\n",
       "    }\n",
       "</style>\n",
       "<table border=\"1\" class=\"dataframe\">\n",
       "  <thead>\n",
       "    <tr style=\"text-align: right;\">\n",
       "      <th></th>\n",
       "      <th>ProductKey</th>\n",
       "      <th>ProductAlternateKey</th>\n",
       "      <th>ProductSubcategoryKey</th>\n",
       "      <th>WeightUnitMeasureCode</th>\n",
       "      <th>SizeUnitMeasureCode</th>\n",
       "      <th>EnglishProductName</th>\n",
       "      <th>SpanishProductName</th>\n",
       "      <th>FrenchProductName</th>\n",
       "      <th>StandardCost</th>\n",
       "      <th>FinishedGoodsFlag</th>\n",
       "      <th>...</th>\n",
       "      <th>ChineseDescription</th>\n",
       "      <th>ArabicDescription</th>\n",
       "      <th>HebrewDescription</th>\n",
       "      <th>ThaiDescription</th>\n",
       "      <th>GermanDescription</th>\n",
       "      <th>JapaneseDescription</th>\n",
       "      <th>TurkishDescription</th>\n",
       "      <th>StartDate</th>\n",
       "      <th>EndDate</th>\n",
       "      <th>Status</th>\n",
       "    </tr>\n",
       "  </thead>\n",
       "  <tbody>\n",
       "    <tr>\n",
       "      <th>0</th>\n",
       "      <td>1</td>\n",
       "      <td>AR-5381</td>\n",
       "      <td>NaN</td>\n",
       "      <td>None</td>\n",
       "      <td>None</td>\n",
       "      <td>Adjustable Race</td>\n",
       "      <td></td>\n",
       "      <td></td>\n",
       "      <td>NaN</td>\n",
       "      <td>0</td>\n",
       "      <td>...</td>\n",
       "      <td>None</td>\n",
       "      <td>None</td>\n",
       "      <td>None</td>\n",
       "      <td>None</td>\n",
       "      <td>None</td>\n",
       "      <td>None</td>\n",
       "      <td>None</td>\n",
       "      <td>2003-07-01</td>\n",
       "      <td>NaT</td>\n",
       "      <td>Current</td>\n",
       "    </tr>\n",
       "    <tr>\n",
       "      <th>1</th>\n",
       "      <td>2</td>\n",
       "      <td>BA-8327</td>\n",
       "      <td>NaN</td>\n",
       "      <td>None</td>\n",
       "      <td>None</td>\n",
       "      <td>Bearing Ball</td>\n",
       "      <td></td>\n",
       "      <td></td>\n",
       "      <td>NaN</td>\n",
       "      <td>0</td>\n",
       "      <td>...</td>\n",
       "      <td>None</td>\n",
       "      <td>None</td>\n",
       "      <td>None</td>\n",
       "      <td>None</td>\n",
       "      <td>None</td>\n",
       "      <td>None</td>\n",
       "      <td>None</td>\n",
       "      <td>2003-07-01</td>\n",
       "      <td>NaT</td>\n",
       "      <td>Current</td>\n",
       "    </tr>\n",
       "    <tr>\n",
       "      <th>2</th>\n",
       "      <td>3</td>\n",
       "      <td>BE-2349</td>\n",
       "      <td>NaN</td>\n",
       "      <td>None</td>\n",
       "      <td>None</td>\n",
       "      <td>BB Ball Bearing</td>\n",
       "      <td></td>\n",
       "      <td></td>\n",
       "      <td>NaN</td>\n",
       "      <td>0</td>\n",
       "      <td>...</td>\n",
       "      <td>None</td>\n",
       "      <td>None</td>\n",
       "      <td>None</td>\n",
       "      <td>None</td>\n",
       "      <td>None</td>\n",
       "      <td>None</td>\n",
       "      <td>None</td>\n",
       "      <td>2003-07-01</td>\n",
       "      <td>NaT</td>\n",
       "      <td>Current</td>\n",
       "    </tr>\n",
       "    <tr>\n",
       "      <th>3</th>\n",
       "      <td>4</td>\n",
       "      <td>BE-2908</td>\n",
       "      <td>NaN</td>\n",
       "      <td>None</td>\n",
       "      <td>None</td>\n",
       "      <td>Headset Ball Bearings</td>\n",
       "      <td></td>\n",
       "      <td></td>\n",
       "      <td>NaN</td>\n",
       "      <td>0</td>\n",
       "      <td>...</td>\n",
       "      <td>None</td>\n",
       "      <td>None</td>\n",
       "      <td>None</td>\n",
       "      <td>None</td>\n",
       "      <td>None</td>\n",
       "      <td>None</td>\n",
       "      <td>None</td>\n",
       "      <td>2003-07-01</td>\n",
       "      <td>NaT</td>\n",
       "      <td>Current</td>\n",
       "    </tr>\n",
       "    <tr>\n",
       "      <th>4</th>\n",
       "      <td>5</td>\n",
       "      <td>BL-2036</td>\n",
       "      <td>NaN</td>\n",
       "      <td>None</td>\n",
       "      <td>None</td>\n",
       "      <td>Blade</td>\n",
       "      <td></td>\n",
       "      <td></td>\n",
       "      <td>NaN</td>\n",
       "      <td>0</td>\n",
       "      <td>...</td>\n",
       "      <td>None</td>\n",
       "      <td>None</td>\n",
       "      <td>None</td>\n",
       "      <td>None</td>\n",
       "      <td>None</td>\n",
       "      <td>None</td>\n",
       "      <td>None</td>\n",
       "      <td>2003-07-01</td>\n",
       "      <td>NaT</td>\n",
       "      <td>Current</td>\n",
       "    </tr>\n",
       "    <tr>\n",
       "      <th>...</th>\n",
       "      <td>...</td>\n",
       "      <td>...</td>\n",
       "      <td>...</td>\n",
       "      <td>...</td>\n",
       "      <td>...</td>\n",
       "      <td>...</td>\n",
       "      <td>...</td>\n",
       "      <td>...</td>\n",
       "      <td>...</td>\n",
       "      <td>...</td>\n",
       "      <td>...</td>\n",
       "      <td>...</td>\n",
       "      <td>...</td>\n",
       "      <td>...</td>\n",
       "      <td>...</td>\n",
       "      <td>...</td>\n",
       "      <td>...</td>\n",
       "      <td>...</td>\n",
       "      <td>...</td>\n",
       "      <td>...</td>\n",
       "      <td>...</td>\n",
       "    </tr>\n",
       "    <tr>\n",
       "      <th>601</th>\n",
       "      <td>602</td>\n",
       "      <td>BB-8107</td>\n",
       "      <td>5.0</td>\n",
       "      <td>G</td>\n",
       "      <td>None</td>\n",
       "      <td>ML Bottom Bracket</td>\n",
       "      <td>Eje de pedalier GM</td>\n",
       "      <td>Axe de pÃ©dalier ML</td>\n",
       "      <td>44.95</td>\n",
       "      <td>1</td>\n",
       "      <td>...</td>\n",
       "      <td>éåéè½¦åï¼å¤§ç´å¾èè¹¬è½´ã</td>\n",
       "      <td>ÙÙØ§Ø¬ÙÙ Ù",
       "Ù Ø³Ø¨ÙÙØ© Ø§ÙØ£ÙÙÙ",
       "ÙÙÙ...</td>\n",
       "      <td>×××¡×××× ××¡××¡×××ª ×××××× ××...</td>\n",
       "      <td>à¸à¸¸à¸¡à¸­à¸¥à¸¹à¸¡à¸´à¹à¸à¸µà¸¢à¸¡à¸­à¸±à...</td>\n",
       "      <td>AuÃenringe aus Aluminiumlegierung; Radachse m...</td>\n",
       "      <td>ã¢ã«ããã¦ã åéã«ãããå¤§å¾ã¹ã...</td>\n",
       "      <td>AlÃ¼minyum alaÅÄ±mÄ± orta gÃ¶bekler; geniÅ Ã...</td>\n",
       "      <td>2013-07-01</td>\n",
       "      <td>NaT</td>\n",
       "      <td>Current</td>\n",
       "    </tr>\n",
       "    <tr>\n",
       "      <th>602</th>\n",
       "      <td>603</td>\n",
       "      <td>BB-9108</td>\n",
       "      <td>5.0</td>\n",
       "      <td>G</td>\n",
       "      <td>None</td>\n",
       "      <td>HL Bottom Bracket</td>\n",
       "      <td>Eje de pedalier GA</td>\n",
       "      <td>Axe de pÃ©dalier HL</td>\n",
       "      <td>53.94</td>\n",
       "      <td>1</td>\n",
       "      <td>...</td>\n",
       "      <td>éåéè½¦ååç©ºå¿è½´ã</td>\n",
       "      <td>ÙÙØ§Ø¬ÙÙ Ù",
       "Ù Ø³Ø¨ÙÙØ© Ø§ÙØ£ÙÙÙ",
       "ÙÙÙ...</td>\n",
       "      <td>×××¡×××× ××¡××¡×××ª ×××××× ××...</td>\n",
       "      <td>à¸à¸¸à¸¡à¸­à¸¥à¸¹à¸¡à¸´à¹à¸à¸µà¸¢à¸¡à¸­à¸±à...</td>\n",
       "      <td>AuÃenringe aus Aluminiumlegierung und hohle A...</td>\n",
       "      <td>ã¢ã«ããã¦ã åéã«ããã¨ãã­ã¼ ...</td>\n",
       "      <td>AlÃ¼minyum alaÅÄ±mÄ± orta gÃ¶bekler ve iÃ§i b...</td>\n",
       "      <td>2013-07-01</td>\n",
       "      <td>NaT</td>\n",
       "      <td>Current</td>\n",
       "    </tr>\n",
       "    <tr>\n",
       "      <th>603</th>\n",
       "      <td>604</td>\n",
       "      <td>BK-R19B-44</td>\n",
       "      <td>2.0</td>\n",
       "      <td>LB</td>\n",
       "      <td>CM</td>\n",
       "      <td>Road-750 Black, 44</td>\n",
       "      <td>Carretera: 750, negra, 44</td>\n",
       "      <td>VÃ©lo de route 750 noir, 44</td>\n",
       "      <td>343.65</td>\n",
       "      <td>1</td>\n",
       "      <td>...</td>\n",
       "      <td>å",
       "¥é¨çº§æäººèªè¡è½¦ï¼ç¡®ä¿è¶éæ",
       "è¡æ...</td>\n",
       "      <td>Ø¥ÙÙØ§ Ø¯Ø±Ø§Ø¬Ø© Ù",
       "ÙØ§Ø³Ø¨Ø© ÙÙÙ",
       "Ø¨ØªØ¯Ø...</td>\n",
       "      <td>×××¤× × ×××××¨×× ×××ª×××××; ×...</td>\n",
       "      <td>à¸à¸±à¸à¸£à¸¢à¸²à¸à¸£à¸°à¸à¸±à¸à¹à¸£à¸´à...</td>\n",
       "      <td>Ein Erwachsenenrad fÃ¼r Einsteiger; bietet Kom...</td>\n",
       "      <td>ã¨ã³ããªã¼ ã¬ãã«ã«å¯¾å¿ãããã¯...</td>\n",
       "      <td>\"BaÅlangÄ±Ã§ seviyesinde yetiÅkin bisikleti,...</td>\n",
       "      <td>2013-07-01</td>\n",
       "      <td>NaT</td>\n",
       "      <td>Current</td>\n",
       "    </tr>\n",
       "    <tr>\n",
       "      <th>604</th>\n",
       "      <td>605</td>\n",
       "      <td>BK-R19B-48</td>\n",
       "      <td>2.0</td>\n",
       "      <td>LB</td>\n",
       "      <td>CM</td>\n",
       "      <td>Road-750 Black, 48</td>\n",
       "      <td>Carretera: 750, negra, 48</td>\n",
       "      <td>VÃ©lo de route 750 noir, 48</td>\n",
       "      <td>343.65</td>\n",
       "      <td>1</td>\n",
       "      <td>...</td>\n",
       "      <td>å",
       "¥é¨çº§æäººèªè¡è½¦ï¼ç¡®ä¿è¶éæ",
       "è¡æ...</td>\n",
       "      <td>Ø¥ÙÙØ§ Ø¯Ø±Ø§Ø¬Ø© Ù",
       "ÙØ§Ø³Ø¨Ø© ÙÙÙ",
       "Ø¨ØªØ¯Ø...</td>\n",
       "      <td>×××¤× × ×××××¨×× ×××ª×××××; ×...</td>\n",
       "      <td>à¸à¸±à¸à¸£à¸¢à¸²à¸à¸£à¸°à¸à¸±à¸à¹à¸£à¸´à...</td>\n",
       "      <td>Ein Erwachsenenrad fÃ¼r Einsteiger; bietet Kom...</td>\n",
       "      <td>ã¨ã³ããªã¼ ã¬ãã«ã«å¯¾å¿ãããã¯...</td>\n",
       "      <td>\"BaÅlangÄ±Ã§ seviyesinde yetiÅkin bisikleti,...</td>\n",
       "      <td>2013-07-01</td>\n",
       "      <td>NaT</td>\n",
       "      <td>Current</td>\n",
       "    </tr>\n",
       "    <tr>\n",
       "      <th>605</th>\n",
       "      <td>606</td>\n",
       "      <td>BK-R19B-52</td>\n",
       "      <td>2.0</td>\n",
       "      <td>LB</td>\n",
       "      <td>CM</td>\n",
       "      <td>Road-750 Black, 52</td>\n",
       "      <td>Carretera: 750, negra, 52</td>\n",
       "      <td>VÃ©lo de route 750 noir, 52</td>\n",
       "      <td>343.65</td>\n",
       "      <td>1</td>\n",
       "      <td>...</td>\n",
       "      <td>å",
       "¥é¨çº§æäººèªè¡è½¦ï¼ç¡®ä¿è¶éæ",
       "è¡æ...</td>\n",
       "      <td>Ø¥ÙÙØ§ Ø¯Ø±Ø§Ø¬Ø© Ù",
       "ÙØ§Ø³Ø¨Ø© ÙÙÙ",
       "Ø¨ØªØ¯Ø...</td>\n",
       "      <td>×××¤× × ×××××¨×× ×××ª×××××; ×...</td>\n",
       "      <td>à¸à¸±à¸à¸£à¸¢à¸²à¸à¸£à¸°à¸à¸±à¸à¹à¸£à¸´à...</td>\n",
       "      <td>Ein Erwachsenenrad fÃ¼r Einsteiger; bietet Kom...</td>\n",
       "      <td>ã¨ã³ããªã¼ ã¬ãã«ã«å¯¾å¿ãããã¯...</td>\n",
       "      <td>\"BaÅlangÄ±Ã§ seviyesinde yetiÅkin bisikleti,...</td>\n",
       "      <td>2013-07-01</td>\n",
       "      <td>NaT</td>\n",
       "      <td>Current</td>\n",
       "    </tr>\n",
       "  </tbody>\n",
       "</table>\n",
       "<p>606 rows × 36 columns</p>\n",
       "</div>"
      ],
      "text/plain": [
       "     ProductKey ProductAlternateKey  ProductSubcategoryKey  \\\n",
       "0             1             AR-5381                    NaN   \n",
       "1             2             BA-8327                    NaN   \n",
       "2             3             BE-2349                    NaN   \n",
       "3             4             BE-2908                    NaN   \n",
       "4             5             BL-2036                    NaN   \n",
       "..          ...                 ...                    ...   \n",
       "601         602             BB-8107                    5.0   \n",
       "602         603             BB-9108                    5.0   \n",
       "603         604          BK-R19B-44                    2.0   \n",
       "604         605          BK-R19B-48                    2.0   \n",
       "605         606          BK-R19B-52                    2.0   \n",
       "\n",
       "    WeightUnitMeasureCode SizeUnitMeasureCode     EnglishProductName  \\\n",
       "0                    None                None        Adjustable Race   \n",
       "1                    None                None           Bearing Ball   \n",
       "2                    None                None        BB Ball Bearing   \n",
       "3                    None                None  Headset Ball Bearings   \n",
       "4                    None                None                  Blade   \n",
       "..                    ...                 ...                    ...   \n",
       "601                     G                None      ML Bottom Bracket   \n",
       "602                     G                None      HL Bottom Bracket   \n",
       "603                    LB                  CM     Road-750 Black, 44   \n",
       "604                    LB                  CM     Road-750 Black, 48   \n",
       "605                    LB                  CM     Road-750 Black, 52   \n",
       "\n",
       "            SpanishProductName            FrenchProductName  StandardCost  \\\n",
       "0                                                                     NaN   \n",
       "1                                                                     NaN   \n",
       "2                                                                     NaN   \n",
       "3                                                                     NaN   \n",
       "4                                                                     NaN   \n",
       "..                         ...                          ...           ...   \n",
       "601         Eje de pedalier GM          Axe de pÃ©dalier ML         44.95   \n",
       "602         Eje de pedalier GA          Axe de pÃ©dalier HL         53.94   \n",
       "603  Carretera: 750, negra, 44  VÃ©lo de route 750 noir, 44        343.65   \n",
       "604  Carretera: 750, negra, 48  VÃ©lo de route 750 noir, 48        343.65   \n",
       "605  Carretera: 750, negra, 52  VÃ©lo de route 750 noir, 52        343.65   \n",
       "\n",
       "     FinishedGoodsFlag  ...  \\\n",
       "0                    0  ...   \n",
       "1                    0  ...   \n",
       "2                    0  ...   \n",
       "3                    0  ...   \n",
       "4                    0  ...   \n",
       "..                 ...  ...   \n",
       "601                  1  ...   \n",
       "602                  1  ...   \n",
       "603                  1  ...   \n",
       "604                  1  ...   \n",
       "605                  1  ...   \n",
       "\n",
       "                                    ChineseDescription  \\\n",
       "0                                                 None   \n",
       "1                                                 None   \n",
       "2                                                 None   \n",
       "3                                                 None   \n",
       "4                                                 None   \n",
       "..                                                 ...   \n",
       "601            éåéè½¦åï¼å¤§ç´å¾èè¹¬è½´ã   \n",
       "602                     éåéè½¦ååç©ºå¿è½´ã   \n",
       "603  å\n",
       "¥é¨çº§æäººèªè¡è½¦ï¼ç¡®ä¿è¶éæ\n",
       "è¡æ...   \n",
       "604  å\n",
       "¥é¨çº§æäººèªè¡è½¦ï¼ç¡®ä¿è¶éæ\n",
       "è¡æ...   \n",
       "605  å\n",
       "¥é¨çº§æäººèªè¡è½¦ï¼ç¡®ä¿è¶éæ\n",
       "è¡æ...   \n",
       "\n",
       "                                     ArabicDescription  \\\n",
       "0                                                 None   \n",
       "1                                                 None   \n",
       "2                                                 None   \n",
       "3                                                 None   \n",
       "4                                                 None   \n",
       "..                                                 ...   \n",
       "601  ÙÙØ§Ø¬ÙÙ Ù\n",
       "Ù Ø³Ø¨ÙÙØ© Ø§ÙØ£ÙÙÙ\n",
       "ÙÙÙ...   \n",
       "602  ÙÙØ§Ø¬ÙÙ Ù\n",
       "Ù Ø³Ø¨ÙÙØ© Ø§ÙØ£ÙÙÙ\n",
       "ÙÙÙ...   \n",
       "603  Ø¥ÙÙØ§ Ø¯Ø±Ø§Ø¬Ø© Ù\n",
       "ÙØ§Ø³Ø¨Ø© ÙÙÙ\n",
       "Ø¨ØªØ¯Ø...   \n",
       "604  Ø¥ÙÙØ§ Ø¯Ø±Ø§Ø¬Ø© Ù\n",
       "ÙØ§Ø³Ø¨Ø© ÙÙÙ\n",
       "Ø¨ØªØ¯Ø...   \n",
       "605  Ø¥ÙÙØ§ Ø¯Ø±Ø§Ø¬Ø© Ù\n",
       "ÙØ§Ø³Ø¨Ø© ÙÙÙ\n",
       "Ø¨ØªØ¯Ø...   \n",
       "\n",
       "                                     HebrewDescription  \\\n",
       "0                                                 None   \n",
       "1                                                 None   \n",
       "2                                                 None   \n",
       "3                                                 None   \n",
       "4                                                 None   \n",
       "..                                                 ...   \n",
       "601  ×××¡×××× ××¡××¡×××ª ×××××× ××...   \n",
       "602  ×××¡×××× ××¡××¡×××ª ×××××× ××...   \n",
       "603  ×××¤× × ×××××¨×× ×××ª×××××; ×...   \n",
       "604  ×××¤× × ×××××¨×× ×××ª×××××; ×...   \n",
       "605  ×××¤× × ×××××¨×× ×××ª×××××; ×...   \n",
       "\n",
       "                                       ThaiDescription  \\\n",
       "0                                                 None   \n",
       "1                                                 None   \n",
       "2                                                 None   \n",
       "3                                                 None   \n",
       "4                                                 None   \n",
       "..                                                 ...   \n",
       "601  à¸à¸¸à¸¡à¸­à¸¥à¸¹à¸¡à¸´à¹à¸à¸µà¸¢à¸¡à¸­à¸±à...   \n",
       "602  à¸à¸¸à¸¡à¸­à¸¥à¸¹à¸¡à¸´à¹à¸à¸µà¸¢à¸¡à¸­à¸±à...   \n",
       "603  à¸à¸±à¸à¸£à¸¢à¸²à¸à¸£à¸°à¸à¸±à¸à¹à¸£à¸´à...   \n",
       "604  à¸à¸±à¸à¸£à¸¢à¸²à¸à¸£à¸°à¸à¸±à¸à¹à¸£à¸´à...   \n",
       "605  à¸à¸±à¸à¸£à¸¢à¸²à¸à¸£à¸°à¸à¸±à¸à¹à¸£à¸´à...   \n",
       "\n",
       "                                     GermanDescription  \\\n",
       "0                                                 None   \n",
       "1                                                 None   \n",
       "2                                                 None   \n",
       "3                                                 None   \n",
       "4                                                 None   \n",
       "..                                                 ...   \n",
       "601  AuÃenringe aus Aluminiumlegierung; Radachse m...   \n",
       "602  AuÃenringe aus Aluminiumlegierung und hohle A...   \n",
       "603  Ein Erwachsenenrad fÃ¼r Einsteiger; bietet Kom...   \n",
       "604  Ein Erwachsenenrad fÃ¼r Einsteiger; bietet Kom...   \n",
       "605  Ein Erwachsenenrad fÃ¼r Einsteiger; bietet Kom...   \n",
       "\n",
       "                                   JapaneseDescription  \\\n",
       "0                                                 None   \n",
       "1                                                 None   \n",
       "2                                                 None   \n",
       "3                                                 None   \n",
       "4                                                 None   \n",
       "..                                                 ...   \n",
       "601  ã¢ã«ããã¦ã åéã«ãããå¤§å¾ã¹ã...   \n",
       "602  ã¢ã«ããã¦ã åéã«ããã¨ãã­ã¼ ...   \n",
       "603  ã¨ã³ããªã¼ ã¬ãã«ã«å¯¾å¿ãããã¯...   \n",
       "604  ã¨ã³ããªã¼ ã¬ãã«ã«å¯¾å¿ãããã¯...   \n",
       "605  ã¨ã³ããªã¼ ã¬ãã«ã«å¯¾å¿ãããã¯...   \n",
       "\n",
       "                                    TurkishDescription  StartDate EndDate  \\\n",
       "0                                                 None 2003-07-01     NaT   \n",
       "1                                                 None 2003-07-01     NaT   \n",
       "2                                                 None 2003-07-01     NaT   \n",
       "3                                                 None 2003-07-01     NaT   \n",
       "4                                                 None 2003-07-01     NaT   \n",
       "..                                                 ...        ...     ...   \n",
       "601  AlÃ¼minyum alaÅÄ±mÄ± orta gÃ¶bekler; geniÅ Ã... 2013-07-01     NaT   \n",
       "602  AlÃ¼minyum alaÅÄ±mÄ± orta gÃ¶bekler ve iÃ§i b... 2013-07-01     NaT   \n",
       "603  \"BaÅlangÄ±Ã§ seviyesinde yetiÅkin bisikleti,... 2013-07-01     NaT   \n",
       "604  \"BaÅlangÄ±Ã§ seviyesinde yetiÅkin bisikleti,... 2013-07-01     NaT   \n",
       "605  \"BaÅlangÄ±Ã§ seviyesinde yetiÅkin bisikleti,... 2013-07-01     NaT   \n",
       "\n",
       "      Status  \n",
       "0    Current  \n",
       "1    Current  \n",
       "2    Current  \n",
       "3    Current  \n",
       "4    Current  \n",
       "..       ...  \n",
       "601  Current  \n",
       "602  Current  \n",
       "603  Current  \n",
       "604  Current  \n",
       "605  Current  \n",
       "\n",
       "[606 rows x 36 columns]"
      ]
     },
     "metadata": {},
     "output_type": "display_data"
    }
   ],
   "source": [
    "query = \"SELECT * FROM dimproduct\"\n",
    "\n",
    "tabella = pd.read_sql(query, local_db_engine)\n",
    "\n",
    "display(tabella)"
   ]
  },
  {
   "cell_type": "markdown",
   "id": "d93ab91f-8c9b-44cc-8652-cb5f363e3353",
   "metadata": {},
   "source": [
    "# Esercizi"
   ]
  },
  {
   "cell_type": "markdown",
   "id": "438f91ef-6afe-4b56-bab8-38d532536d1f",
   "metadata": {
    "jp-MarkdownHeadingCollapsed": true
   },
   "source": [
    "## Esercizio 1\n",
    "Abbiamo una lista di liste: \n",
    "\n",
    "mat = [[0, 1, 2, 3, 4], [5, 6, 7, 8, 9], [10, 11, 12, 13, 14]] \n",
    "\n",
    "Che tipo di struttura dati o matematica potrebbe rappresentare? Notare che tutte le liste \"interne\" sono della stessa dimensione Come facciamo per accedere ad un elemento in particolare?"
   ]
  },
  {
   "cell_type": "code",
   "execution_count": 5,
   "id": "c0af5e87-d94f-4e14-9d93-b9089e2bdb41",
   "metadata": {},
   "outputs": [
    {
     "name": "stdout",
     "output_type": "stream",
     "text": [
      "|   0   1   2   3   4\t|\n",
      "|   5   6   7   8   9\t|\n",
      "|  10  11  12  13  14\t|\n"
     ]
    }
   ],
   "source": [
    "import math\n",
    "import numpy as np\n",
    "import pandas as pd\n",
    "# importo la libreria latex per stampare formalmente la matrice\n",
    "from IPython.display import display, Latex, Markdown\n",
    "\n",
    "mat = [[0, 1, 2, 3, 4], [5, 6, 7, 8, 9], [10, 11, 12, 13, 14]]\n",
    "# mat rappresenta una matrice 3x5\n",
    "\n",
    "### Stampa normale\n",
    "mat_riga = \"|\"\n",
    "for i in range(len(mat[:])):\n",
    "    for j in range(len(mat[0])):\n",
    "        mat_riga += \"{:4d}\".format(mat[i][j]) \n",
    "        # l'indice i rappresenta le righe, j le colonne\n",
    "        # posso accedere agli elementi tramite i e j\n",
    "    print(mat_riga + \"\\t|\")\n",
    "    mat_riga = \"|\""
   ]
  },
  {
   "cell_type": "code",
   "execution_count": 17,
   "id": "acf2ee2e-76f4-4a28-8dfe-9c7dcd4ce816",
   "metadata": {
    "scrolled": true
   },
   "outputs": [
    {
     "data": {
      "text/latex": [
       "\\[ \\begin{bmatrix} 0 & 1 & 2 & 3 & 4 \\\\ 5 & 6 & 7 & 8 & 9 \\\\ 10 & 11 & 12 & 13 & 14 \\end{bmatrix} \\]"
      ],
      "text/plain": [
       "<IPython.core.display.Latex object>"
      ]
     },
     "metadata": {},
     "output_type": "display_data"
    }
   ],
   "source": [
    "### Stampa formale con latex\n",
    "\n",
    "# aggiungo gli elementi della matrice iterando su mat come prima\n",
    "latex_matrix = \"\\\\begin{bmatrix} \" + \" \\\\\\\\ \".join(\n",
    "    \" & \".join( str(mat[i][j]) for j in range(len( mat[0] )) )\n",
    "    for i in range(len( mat )) ) + \" \\\\end{bmatrix}\"\n",
    "\n",
    "display(Latex(f\"\\\\[ {latex_matrix} \\\\]\"))"
   ]
  },
  {
   "cell_type": "markdown",
   "id": "78517113-17c9-46ae-ba3e-1fb9ad5864ea",
   "metadata": {
    "jp-MarkdownHeadingCollapsed": true
   },
   "source": [
    "## Esercizio 2\n",
    "Importiamo il modulo math e proviamo a usare le funzioni .sin() .cos() .factorial() e la variabile .pi la riconoscete?"
   ]
  },
  {
   "cell_type": "markdown",
   "id": "e96152c8-0000-4fb0-9fb8-6a38265dbae7",
   "metadata": {
    "jp-MarkdownHeadingCollapsed": true
   },
   "source": [
    "### Funzioni trigonometriche"
   ]
  },
  {
   "cell_type": "code",
   "execution_count": 27,
   "id": "627db1c1-f7ec-439b-8aa4-826bcc44bc46",
   "metadata": {},
   "outputs": [
    {
     "name": "stdin",
     "output_type": "stream",
     "text": [
      "inserire un valore di x in gradi (0-360°):  90\n"
     ]
    },
    {
     "data": {
      "text/latex": [
       "\n",
       "$sin(90.0^\\circ)=1.0$"
      ],
      "text/plain": [
       "<IPython.core.display.Latex object>"
      ]
     },
     "metadata": {},
     "output_type": "display_data"
    },
    {
     "data": {
      "text/latex": [
       "$cos(90.0^\\circ)=0.0$"
      ],
      "text/plain": [
       "<IPython.core.display.Latex object>"
      ]
     },
     "metadata": {},
     "output_type": "display_data"
    },
    {
     "name": "stdout",
     "output_type": "stream",
     "text": [
      "arrotondamento a 5 decimali\n"
     ]
    },
    {
     "data": {
      "text/markdown": [
       "#### Identità trigonometrica"
      ],
      "text/plain": [
       "<IPython.core.display.Markdown object>"
      ]
     },
     "metadata": {},
     "output_type": "display_data"
    },
    {
     "data": {
      "text/latex": [
       "$sin^2(90.0^\\circ) + cos^2(90.0^\\circ) = 1 \\quad \\rightarrow \\quad         1.0$"
      ],
      "text/plain": [
       "<IPython.core.display.Latex object>"
      ]
     },
     "metadata": {},
     "output_type": "display_data"
    }
   ],
   "source": [
    "import math\n",
    "\n",
    "x = input(\"inserire un valore di x in gradi (0-360°): \")\n",
    "x = float(x)\n",
    "x_rad = x * math.pi / 180.0 # converto in radianti\n",
    "\n",
    "round_dec = 5\n",
    "sin_x = round(math.sin(x_rad), round_dec)\n",
    "cos_x = round(math.cos(x_rad), round_dec)\n",
    "\n",
    "display(Latex(f\"\\n$sin({x}^\\\\circ)={sin_x}$\"))\n",
    "display(Latex(f\"$cos({x}^\\\\circ)={cos_x}$\"))\n",
    "print(\"arrotondamento a\", round_dec, \"decimali\")\n",
    "\n",
    "display(Markdown(f\"#### Identità trigonometrica\"))\n",
    "display(Latex(f\"$sin^2({x}^\\\\circ) + cos^2({x}^\\\\circ) = 1 \\\\quad \\\\rightarrow \\\\quad \\\n",
    "        {round(sin_x ** 2 + cos_x ** 2, round_dec)}$\"))"
   ]
  },
  {
   "cell_type": "markdown",
   "id": "1b835eb5-b5b3-4405-9035-f7d8b7213b03",
   "metadata": {
    "jp-MarkdownHeadingCollapsed": true
   },
   "source": [
    "### Fattoriale vs Quadrato"
   ]
  },
  {
   "cell_type": "code",
   "execution_count": 24,
   "id": "dd2f9449-358a-4511-a574-398990f21058",
   "metadata": {},
   "outputs": [
    {
     "data": {
      "text/markdown": [
       "##### Quadrato"
      ],
      "text/plain": [
       "<IPython.core.display.Markdown object>"
      ]
     },
     "metadata": {},
     "output_type": "display_data"
    },
    {
     "name": "stdout",
     "output_type": "stream",
     "text": [
      "1^2  ---- 1\n",
      "2^2  -------- 4\n",
      "3^2  ------------ 9\n",
      "4^2  ---------------- 16\n",
      "5^2  -------------------- 25\n"
     ]
    },
    {
     "data": {
      "text/markdown": [
       "##### Fattoriale"
      ],
      "text/plain": [
       "<IPython.core.display.Markdown object>"
      ]
     },
     "metadata": {},
     "output_type": "display_data"
    },
    {
     "name": "stdout",
     "output_type": "stream",
     "text": [
      "1!   ---- 1\n",
      "2!   ---- 2\n",
      "3!   -------- 6\n",
      "4!   ------------------------ 24\n",
      "5!   ------------------------------------------------------------------------------------------------ 120\n"
     ]
    },
    {
     "data": {
      "text/markdown": [
       "#### Il fattoriale cresce molto più velocemente dell'elevamento al quadrato"
      ],
      "text/plain": [
       "<IPython.core.display.Markdown object>"
      ]
     },
     "metadata": {},
     "output_type": "display_data"
    }
   ],
   "source": [
    "# Fattoriale\n",
    "\n",
    "i_range = range(1, 6) \n",
    "scale = 4 # per aumentare la spazialità dei tratti -\n",
    "\n",
    "display(Markdown(f\"##### Quadrato\"))\n",
    "for i in i_range:\n",
    "    sqr = int(math.pow(i, 2))\n",
    "    print(f\"{i}^2 \",\"-\" * int(sqr / i * scale), sqr)\n",
    "    \n",
    "display(Markdown(f\"##### Fattoriale\"))\n",
    "for i in i_range:\n",
    "    fact = math.factorial(i)\n",
    "    print(f\"{i}!  \", \"-\" * int(fact / i * scale), fact)\n",
    "    \n",
    "display(Markdown(f\"#### Il fattoriale cresce molto più velocemente dell'elevamento al quadrato\"))"
   ]
  },
  {
   "cell_type": "markdown",
   "id": "9264850f-0b71-418d-874c-92335ae9916f",
   "metadata": {
    "jp-MarkdownHeadingCollapsed": true
   },
   "source": [
    "## Esercizio 3\n",
    "Proviamo a eseguire \n",
    "`math.degrees(math.pi)` \n",
    "Qual è e cosa significa il risultato? \n",
    "Per saperne di più su questa funzione possiamo usare \n",
    "`help(math.degrees)`"
   ]
  },
  {
   "cell_type": "code",
   "execution_count": 10,
   "id": "b4b9be05-7336-417b-a90e-cb0137c9b84f",
   "metadata": {},
   "outputs": [
    {
     "name": "stdout",
     "output_type": "stream",
     "text": [
      "180.0\n",
      "3.141592653589793\n",
      "3.141592653589793\n"
     ]
    }
   ],
   "source": [
    "pi_deg = math.degrees(math.pi) # converte i radianti in gradi\n",
    "pi_rad = math.radians(pi_deg) # converte i gradi in radianti\n",
    "\n",
    "print(pi_deg)\n",
    "print(pi_rad)\n",
    "print(math.pi)"
   ]
  },
  {
   "cell_type": "markdown",
   "id": "8e3ac483-1e13-452c-ad12-939cd1766bb0",
   "metadata": {
    "jp-MarkdownHeadingCollapsed": true
   },
   "source": [
    "## Esercizio 4\n",
    "L'azienda Object SpA ha creato una lista di quanti oggetti ha venduto ogni mese nell'ultimo anno: \n",
    "\n",
    "`lst = [2000, 5500, 7200, 4320, 1280, 1900, 2500, 3900, 6410, 8150, 7100, 5350]`\n",
    "\n",
    "trasformiamola in un array NumPy (casting): `lst = np.array(lst)` e rispondiamo alle domande del CEO della Object SpA: \n",
    "- qual è stata la vendita massima mensile? E quella minima?\n",
    "- quali sono le vendite mensili maggiori di 5000 oggetti? E quante ne sono?\n",
    "- quali sono le vendite minori di 3000 oggetti?\n",
    "- in media quanti oggetti sono stati venduti al mese?"
   ]
  },
  {
   "cell_type": "code",
   "execution_count": 11,
   "id": "982110ae-07a6-4649-93e5-1ced12d6d400",
   "metadata": {},
   "outputs": [
    {
     "name": "stdout",
     "output_type": "stream",
     "text": [
      "- Vendita massima mensile: 8150\n",
      "- Vendita minima mensile: 1280\n",
      "- Vendite maggiori di 5000: [5500 7200 6410 8150 7100 5350] ; totale =  6\n",
      "- Vendita minori di 3000: [2000 1280 1900 2500]\n",
      "- Vendita medie: 4634.166666666667\n"
     ]
    }
   ],
   "source": [
    "lst = [2000, 5500, 7200, 4320, 1280, 1900, 2500, 3900, 6410, 8150, 7100, 5350]\n",
    "\n",
    "np_lst = np.array(lst)\n",
    "\n",
    "print(\"- Vendita massima mensile:\", np_lst.max())\n",
    "print(\"- Vendita minima mensile:\", np_lst.min())\n",
    "\n",
    "print(\"- Vendite maggiori di 5000:\", np_lst[np_lst > 5000], \"; totale = \", len(np_lst[np_lst > 5000]))\n",
    "\n",
    "print(\"- Vendita minori di 3000:\", np_lst[np_lst < 3000])\n",
    "\n",
    "print(\"- Vendita medie:\", np_lst.mean())"
   ]
  },
  {
   "cell_type": "markdown",
   "id": "fd59e7bd-b684-432b-ac07-af71882aa3e7",
   "metadata": {
    "jp-MarkdownHeadingCollapsed": true
   },
   "source": [
    "## Esercizio 5\n",
    "Consideriamo il seguente dizionario: \n",
    "\n",
    "fatturati_dict = {1997: 12_000, 1998: 15_000, 1999: 20_000, 2000: 23_000, 2001: 25_000, 2002: 17_000, 2003: 14_000, 2004: 21_000} \n",
    "\n",
    "Consideriamo ora la seguente Series: \n",
    "\n",
    "fatturati_series = pd.Series([12_000, 15_000, 20_000, 23_000, 25_000, 17_000, 14_000, 21_000], index=range(1997, 2005)) \n",
    "\n",
    "Possiamo accedere alle stesse informazioni nello stesso modo: \n",
    "\n",
    "fatturati_dict[1997]\n",
    "\n",
    "fatturati_series[1997] \n",
    "\n",
    "Dunque qual è la differenza tra i due tipi di dato?\n",
    "Cosa potremmo fare con la Series che non possiamo fare con il dizionario?"
   ]
  },
  {
   "cell_type": "code",
   "execution_count": 6,
   "id": "dfc7cbd8-2100-4aa7-8f61-acc717a4e46b",
   "metadata": {},
   "outputs": [
    {
     "data": {
      "text/markdown": [
       "### Slicing"
      ],
      "text/plain": [
       "<IPython.core.display.Markdown object>"
      ]
     },
     "metadata": {},
     "output_type": "display_data"
    },
    {
     "name": "stdout",
     "output_type": "stream",
     "text": [
      "1997    12000\n",
      "1998    15000\n",
      "1999    20000\n",
      "2000    23000\n",
      "dtype: int64\n"
     ]
    },
    {
     "data": {
      "text/markdown": [
       "### Operazioni su tutta la serie senza iterare"
      ],
      "text/plain": [
       "<IPython.core.display.Markdown object>"
      ]
     },
     "metadata": {},
     "output_type": "display_data"
    },
    {
     "name": "stdout",
     "output_type": "stream",
     "text": [
      "1997    1200000\n",
      "1998    1500000\n",
      "1999    2000000\n",
      "2000    2300000\n",
      "2001    2500000\n",
      "2002    1700000\n",
      "2003    1400000\n",
      "2004    2100000\n",
      "dtype: int64\n"
     ]
    },
    {
     "data": {
      "text/markdown": [
       "### Statisctica descrittiva (funzioni media, min, max ecc.)"
      ],
      "text/plain": [
       "<IPython.core.display.Markdown object>"
      ]
     },
     "metadata": {},
     "output_type": "display_data"
    },
    {
     "name": "stdout",
     "output_type": "stream",
     "text": [
      "count        8.000000\n",
      "mean     18375.000000\n",
      "std       4596.194078\n",
      "min      12000.000000\n",
      "25%      14750.000000\n",
      "50%      18500.000000\n",
      "75%      21500.000000\n",
      "max      25000.000000\n",
      "dtype: float64\n"
     ]
    }
   ],
   "source": [
    "fatturati_dict = {1997: 12_000, 1998: 15_000, 1999: 20_000, 2000: 23_000, 2001: 25_000, 2002: 17_000, 2003: 14_000, 2004: 21_000}\n",
    "fatturati_series = pd.Series([12_000, 15_000, 20_000, 23_000, 25_000, 17_000, 14_000, 21_000], index=range(1997, 2005))\n",
    "\n",
    "display(Markdown(f\"### Slicing\"))\n",
    "print(fatturati_series.loc[1997:2000])\n",
    "    \n",
    "display(Markdown(f\"### Operazioni su tutta la serie senza iterare\"))\n",
    "print(fatturati_series * 100)\n",
    "    \n",
    "display(Markdown(f\"### Statisctica descrittiva (funzioni media, min, max ecc.)\"))\n",
    "print(fatturati_series.describe())"
   ]
  },
  {
   "cell_type": "markdown",
   "id": "b899a012-e317-44e3-aed4-efb37ea1941f",
   "metadata": {
    "jp-MarkdownHeadingCollapsed": true
   },
   "source": [
    "## Esercizio 6\n",
    "Esercizio L'azienda Object SpA ha un dataset con tutti gli stipendi dei dipendenti, memorizzato in un ndarray: \n",
    "\n",
    "import numpy as np \n",
    "\n",
    "stipendi = np.array( [100, 200, 300, 400, 500, 600, 700, 800, 900, 1000] ) \n",
    "\n",
    "L'azienda ci chiede di raddoppiare tutti gli stipendi;\n",
    "facciamolo in due modi: \n",
    "\n",
    "• con un ciclo for\n",
    "\n",
    "• con il masking"
   ]
  },
  {
   "cell_type": "code",
   "execution_count": 62,
   "id": "d4449c0a-0b43-47e8-a8fd-bc26af15fc8f",
   "metadata": {},
   "outputs": [
    {
     "name": "stdout",
     "output_type": "stream",
     "text": [
      "[ 200  400  600  800 1000 1200 1400 1600 1800 2000]\n"
     ]
    }
   ],
   "source": [
    "stipendi = np.array( [100, 200, 300, 400, 500, 600, 700, 800, 900, 1000])\n",
    "\n",
    "# ciclo for\n",
    "for i in range(len(stipendi)):\n",
    "    stipendi[i] *= 2\n",
    "    \n",
    "print(stipendi)"
   ]
  },
  {
   "cell_type": "code",
   "execution_count": 61,
   "id": "e1bb373a-0181-42ec-b6d4-9729055b2755",
   "metadata": {},
   "outputs": [
    {
     "name": "stdout",
     "output_type": "stream",
     "text": [
      "[ 200  400  600  800 1000 1200 1400 1600 1800 2000]\n"
     ]
    }
   ],
   "source": [
    "stipendi = np.array( [100, 200, 300, 400, 500, 600, 700, 800, 900, 1000])\n",
    "\n",
    "# masking\n",
    "print(stipendi * 2)"
   ]
  },
  {
   "cell_type": "markdown",
   "id": "a8deb15b-b9ce-470a-a6fd-356b6ab3d070",
   "metadata": {
    "jp-MarkdownHeadingCollapsed": true
   },
   "source": [
    "## Esercizio 7\n",
    "Scrivere un programma che, data una lista di numeri, fornisca in output i tre numeri più grandi; gestire il caso in cui la lista sia più corta di tre, e quando uno o più dei numeri selezionati sono uguali."
   ]
  },
  {
   "cell_type": "code",
   "execution_count": 136,
   "id": "dfbe93dc-f7ef-4d7d-ba3b-f7f93b96c507",
   "metadata": {},
   "outputs": [
    {
     "name": "stdin",
     "output_type": "stream",
     "text": [
      "Inserire il valore numero 1 della lista ('e' per terminare): e\n"
     ]
    },
    {
     "name": "stdout",
     "output_type": "stream",
     "text": [
      "-- La lista è più corta di 3 elementi!\n"
     ]
    },
    {
     "name": "stdin",
     "output_type": "stream",
     "text": [
      "Inserire il valore numero 1 della lista ('e' per terminare): 1\n",
      "Inserire il valore numero 2 della lista ('e' per terminare): 2\n",
      "Inserire il valore numero 3 della lista ('e' per terminare): 3\n",
      "Inserire il valore numero 4 della lista ('e' per terminare): e\n"
     ]
    },
    {
     "name": "stdout",
     "output_type": "stream",
     "text": [
      "==== Primi tre numeri più grandi della lista:  [3. 2. 1.]\n"
     ]
    }
   ],
   "source": [
    "num_lst = np.array([])\n",
    "loop_exit = False\n",
    "i = 0\n",
    "\n",
    "while loop_exit == False:\n",
    "    num = input(f\"Inserire il valore numero {i+1} della lista ('e' per terminare):\")\n",
    "    \n",
    "    try:\n",
    "        num = int(num)\n",
    "        if len(num_lst) > 0 and len(num_lst[num_lst == num]) > 0:\n",
    "            print(\"-- Numero già inserito\")\n",
    "        else:\n",
    "            num_lst = np.append(num_lst, num)\n",
    "            i += 1\n",
    "    except:\n",
    "        if num == \"e\":\n",
    "            if i < 3:\n",
    "                print(\"-- La lista è più corta di 3 elementi!\")\n",
    "            else:\n",
    "                loop_exit = True\n",
    "        else:    \n",
    "            print(\"-- Non è un numero!\")\n",
    "\n",
    "num_lst = np.sort(-num_lst) * -1\n",
    "print(\"==== Primi tre numeri più grandi della lista: \", num_lst[:3])"
   ]
  },
  {
   "cell_type": "markdown",
   "id": "348eb91a-1e85-45ad-a679-d448ec13b432",
   "metadata": {
    "jp-MarkdownHeadingCollapsed": true
   },
   "source": [
    "## Esercizio 8\n",
    "Scrivere un programma che \n",
    "- in input acquisisce una lista di numeri e un numero K\n",
    "- in output, dovrà restituire la media di tutti i numeri nella lista maggiori o uguali a K\n",
    "- se non ce ne dovesse essere nessuno, dovrà stampare a schermo un messaggio adeguato."
   ]
  },
  {
   "cell_type": "code",
   "execution_count": 10,
   "id": "52a76b9b-be68-42f4-a4e2-81df5f147d57",
   "metadata": {},
   "outputs": [
    {
     "name": "stdin",
     "output_type": "stream",
     "text": [
      "Inserire il valore numero 1 della lista ('e' per terminare): 44\n",
      "Inserire il valore numero 2 della lista ('e' per terminare): 1020\n",
      "Inserire il valore numero 3 della lista ('e' per terminare): 10\n",
      "Inserire il valore numero 4 della lista ('e' per terminare): 60\n",
      "Inserire il valore numero 5 della lista ('e' per terminare): 76\n",
      "Inserire il valore numero 6 della lista ('e' per terminare): 203\n",
      "Inserire il valore numero 7 della lista ('e' per terminare): 42\n",
      "Inserire il valore numero 8 della lista ('e' per terminare): 103\n",
      "Inserire il valore numero 9 della lista ('e' per terminare): 99\n",
      "Inserire il valore numero 10 della lista ('e' per terminare): 75\n",
      "Inserire il valore numero 11 della lista ('e' per terminare): 12\n",
      "Inserire il valore numero 12 della lista ('e' per terminare): e\n",
      "Inserire il valore di K:  1\n"
     ]
    },
    {
     "name": "stdout",
     "output_type": "stream",
     "text": [
      "==== Media dei numeri maggiori o uguali a K=1 : 158.54545454545453\n"
     ]
    }
   ],
   "source": [
    "num_lst = np.array([])\n",
    "loop_exit = False\n",
    "i = 0\n",
    "\n",
    "while loop_exit == False:\n",
    "    num = input(f\"Inserire il valore numero {i+1} della lista ('e' per terminare):\")\n",
    "    try:\n",
    "        num = int(num)\n",
    "        num_lst = np.append(num_lst, num)\n",
    "        i += 1\n",
    "    except:\n",
    "        if num == \"e\":         \n",
    "            if len(num_lst) > 1:\n",
    "                loop_exit = True\n",
    "            else:\n",
    "                print(\"-- Nessun numero inserito\")\n",
    "        else:    \n",
    "            print(\"-- Non è un numero!\")\n",
    "            \n",
    "loop_exit = False           \n",
    "while loop_exit == False:\n",
    "    k = input(f\"Inserire il valore di K: \")\n",
    "    try:\n",
    "        k = int(k)\n",
    "        loop_exit = True\n",
    "    except:\n",
    "        print(\"-- Non è un numero!\")\n",
    "        \n",
    "num_lst_beq_k = num_lst[ num_lst >= k ]\n",
    "\n",
    "if len(num_lst_beq_k) > 0:\n",
    "    print(f\"==== Media dei numeri maggiori o uguali a K={k} :\", num_lst_beq_k.mean())\n",
    "else:\n",
    "    print(f\"-- Tutti i valori della lista sono minori di K={k}\")"
   ]
  },
  {
   "cell_type": "markdown",
   "id": "46dc2a8e-8756-4c4c-acc6-6ad2632ee23c",
   "metadata": {
    "jp-MarkdownHeadingCollapsed": true
   },
   "source": [
    "## Esercizio 9\n",
    "Scrivere un programma che, data una lista di numeri, come output stamperà lo stesso numero di asterischi su righe diverse, ottenendo una semplice visualizzazione grafica Esempio, supponendo di avere il seguente input: \n",
    "\n",
    "numeri = [5, 2, 3, 4] \n",
    "\n",
    "L'output sarà: ***** ** *** ****"
   ]
  },
  {
   "cell_type": "code",
   "execution_count": 100,
   "id": "0aae8bec-cc60-4ff3-a881-2547ab099eee",
   "metadata": {},
   "outputs": [
    {
     "name": "stdout",
     "output_type": "stream",
     "text": [
      "****\n",
      "*\n",
      "*****\n",
      "*************\n",
      "*****************\n",
      "****************************\n",
      "**************************\n",
      "**************************\n",
      "************************************\n",
      "************************************\n",
      "************************\n",
      "*****************************\n",
      "****************\n",
      "************\n",
      "*********\n",
      "*********\n",
      "****\n",
      "***\n",
      "*\n",
      "*\n"
     ]
    }
   ],
   "source": [
    "numeri = np.random.normal(0, 0.5, 300)\n",
    "num_hist, num_bin = np.histogram(numeri, bins=20)\n",
    "\n",
    "for num in num_hist:\n",
    "    print(\"*\" * int(num))"
   ]
  },
  {
   "cell_type": "code",
   "execution_count": 102,
   "id": "c309b766-5968-479e-8b1b-e5008d3ea39e",
   "metadata": {},
   "outputs": [
    {
     "name": "stdout",
     "output_type": "stream",
     "text": [
      "***\n",
      "****\n",
      "**********\n",
      "**\n",
      "******************************************\n",
      "*******\n"
     ]
    }
   ],
   "source": [
    "numeri = [3, 4, 10, 2, 42, 7]\n",
    "\n",
    "for num in numeri:\n",
    "    print(\"*\" * num)"
   ]
  },
  {
   "cell_type": "markdown",
   "id": "e3a11245-30c4-446a-a87a-986b7df3834e",
   "metadata": {
    "jp-MarkdownHeadingCollapsed": true
   },
   "source": [
    "## Esercizio 10\n",
    "\n",
    "Abbiamo una lista di codici fiscali: \n",
    "\n",
    "lista_cf = [\"ABCDEF95G01A123B\", \"GHIJKL91M02A321C\", \"MNOPQR89S03A456D\", \"STUVWX95Z04A654E\", \"XYZABC01D05A789F\", \"DEFGHI95J06A987G\"] \n",
    "\n",
    "- trovare i codici fiscali che contengono \"95\", metterli in una lista, e alla fine stamparla;\n",
    "- inoltre, per ognuno di essi, stampare a video i caratteri relativi al nome e quelli relativi al cognome."
   ]
  },
  {
   "cell_type": "code",
   "execution_count": 103,
   "id": "93715f0e-4bd4-43fb-b5fa-c096c1e9c36f",
   "metadata": {},
   "outputs": [
    {
     "name": "stdout",
     "output_type": "stream",
     "text": [
      "['ABCDEF95G01A123B', 'STUVWX95Z04A654E', 'DEFGHI95J06A987G']\n",
      "Nome:\t DEF\n",
      "Cognome: ABC\n",
      "Nome:\t VWX\n",
      "Cognome: STU\n",
      "Nome:\t GHI\n",
      "Cognome: DEF\n"
     ]
    }
   ],
   "source": [
    "lista_cf = [\"ABCDEF95G01A123B\", \"GHIJKL91M02A321C\", \"MNOPQR89S03A456D\", \"STUVWX95Z04A654E\", \"XYZABC01D05A789F\", \"DEFGHI95J06A987G\"]\n",
    "lista_95 = []\n",
    "\n",
    "for cf in lista_cf:\n",
    "    for i in range(len(cf)-1):\n",
    "        if cf[i] == \"9\" and cf[i+1] == \"5\":\n",
    "            lista_95.append(cf)\n",
    "            break\n",
    "            \n",
    "print(lista_95)\n",
    "\n",
    "for cf in lista_95:\n",
    "    print(\"Nome:\\t\", cf[3:6])\n",
    "    print(\"Cognome:\", cf[:3])"
   ]
  },
  {
   "cell_type": "code",
   "execution_count": 104,
   "id": "e34b4e0b-1177-4f13-915b-47444b01dae3",
   "metadata": {},
   "outputs": [
    {
     "name": "stdout",
     "output_type": "stream",
     "text": [
      "['ABCDEF95G01A123B', 'STUVWX95Z04A654E', 'DEFGHI95J06A987G']\n",
      "Nome:\t DEF\n",
      "Cognome: ABC\n",
      "Nome:\t VWX\n",
      "Cognome: STU\n",
      "Nome:\t GHI\n",
      "Cognome: DEF\n"
     ]
    }
   ],
   "source": [
    "lista_cf = [\"ABCDEF95G01A123B\", \"GHIJKL91M02A321C\", \"MNOPQR89S03A456D\", \"STUVWX95Z04A654E\", \"XYZABC01D05A789F\", \"DEFGHI95J06A987G\"]\n",
    "lista_95 = []\n",
    "\n",
    "for cf in lista_cf:\n",
    "    if \"95\" in cf:\n",
    "        lista_95.append(cf)\n",
    "            \n",
    "print(lista_95)\n",
    "\n",
    "for cf in lista_95:\n",
    "    print(\"Nome:\\t\", cf[3:6])\n",
    "    print(\"Cognome:\", cf[:3])"
   ]
  },
  {
   "cell_type": "markdown",
   "id": "f627602d-f1e8-49b3-976a-af8463fcd7da",
   "metadata": {
    "jp-MarkdownHeadingCollapsed": true
   },
   "source": [
    "## Esercizio 11\n",
    "\n",
    "Abbiamo tre liste della stessa lunghezza, dove ogni elemento nella medesima posizione si riferisce ai dati dello stesso studente:\n",
    "\n",
    "studenti = [\"Alex\", \"Bob\", \"Cindy\", \"Dan\", \"Emma\", \"Faith\", \"Grace\", \"Henry\"] \n",
    "\n",
    "corsi = [\"Cybersecurity\", \"Data Analyst\", \"Backend\", \"Frontend\", \"Data Analyst\", \"Backend\", \"Frontend\", \"Cybersecurity\"] \n",
    "\n",
    "edizioni = [1, 2, 3, 2, 2, 1, 3, 3] \n",
    "\n",
    "- Stampare a video tutti e soli gli studenti che frequentano una prima edizione; non tutti i dati potrebbero essere necessari."
   ]
  },
  {
   "cell_type": "code",
   "execution_count": 106,
   "id": "0cec0422-e42a-42ea-a5a9-940a97c545d9",
   "metadata": {},
   "outputs": [
    {
     "name": "stdout",
     "output_type": "stream",
     "text": [
      "['Alex' 'Faith']\n",
      "['Cybersecurity' 'Backend']\n"
     ]
    }
   ],
   "source": [
    "studenti = [\"Alex\", \"Bob\", \"Cindy\", \"Dan\", \"Emma\", \"Faith\", \"Grace\", \"Henry\"] \n",
    "corsi = [\"Cybersecurity\", \"Data Analyst\", \"Backend\", \"Frontend\", \"Data Analyst\", \"Backend\", \"Frontend\", \"Cybersecurity\"] \n",
    "edizioni = [1, 2, 3, 2, 2, 1, 3, 3] \n",
    "\n",
    "edizione_corso = pd.Series(corsi, edizioni)\n",
    "edizione_studenti = pd.Series(studenti, edizioni)\n",
    "\n",
    "anno_edizione = 1\n",
    "print(edizione_studenti[ anno_edizione ].values)\n",
    "print(edizione_corso[ anno_edizione ].values)"
   ]
  },
  {
   "cell_type": "markdown",
   "id": "4254e778-9587-4e35-a9d8-e411a9f1ec87",
   "metadata": {
    "jp-MarkdownHeadingCollapsed": true
   },
   "source": [
    "## Esercizio 12\n",
    "\n",
    "Abbiamo una lista di stringhe di prezzi in dollari, che erroneamente sono stati scritti con il simbolo dell'euro: \n",
    "\n",
    "prezzi = [\"100 €\", \"200 €\", \"500 €\", \"10 €\", \"50 €\", \"70 €\"] \n",
    "\n",
    "cambiare il simbolo dell'euro (€) in quello del dollaro ($) per ogni stringa nella lista; \n",
    "il risultato sarà memorizzato in un'altra lista."
   ]
  },
  {
   "cell_type": "code",
   "execution_count": 109,
   "id": "f26bb101-ba61-4a90-87f2-e6c892141145",
   "metadata": {},
   "outputs": [
    {
     "name": "stdout",
     "output_type": "stream",
     "text": [
      "['100 $', '200 $', '500 $', '10 $', '50 $', '70 $']\n"
     ]
    }
   ],
   "source": [
    "prezzi = [\"100 €\", \"200 €\", \"500 €\", \"10 €\", \"50 €\", \"70 €\"]\n",
    "prezzi_dollaro = []\n",
    "\n",
    "for prezzo in prezzi:\n",
    "    new_prezzo = \"\"\n",
    "    for car in prezzo:\n",
    "        if car != \"€\":\n",
    "            new_prezzo += car\n",
    "        else:\n",
    "            new_prezzo += \"$\"\n",
    "    prezzi_dollaro.append(new_prezzo)\n",
    "\n",
    "print(prezzi_dollaro)"
   ]
  },
  {
   "cell_type": "markdown",
   "id": "b8ecccd9-6614-4445-96e3-bf9960d75585",
   "metadata": {
    "jp-MarkdownHeadingCollapsed": true
   },
   "source": [
    "## Esercizio 13\n",
    "\n",
    "Abbiamo una lista di studenti: \n",
    "\n",
    "studenti = [\"Alex\", \"Bob\", \"Cindy\", \"Dan\", \"Emma\", \"Faith\", \"Grace\", \"Henry\", \"Isabelle\", \"John\"] \n",
    "\n",
    "vogliamo dividere gli studenti in due squadre per un campionato di Uno nel seguente modo: selezioneremo i nomi in posizione pari per un squadra, e i nomi in posizione dispari per l'altra. \n",
    "\n",
    "Creiamo due liste per ogni squadra, e alla fine visualizziamole."
   ]
  },
  {
   "cell_type": "code",
   "execution_count": 110,
   "id": "db242341-7ae1-4005-95ad-d1fc1a06ea3d",
   "metadata": {},
   "outputs": [
    {
     "name": "stdout",
     "output_type": "stream",
     "text": [
      "Squadra 1:\t ['Bob', 'Dan', 'Faith', 'Henry', 'John']\n",
      "Squadra 2:\t ['Alex', 'Cindy', 'Emma', 'Grace', 'Isabelle']\n"
     ]
    }
   ],
   "source": [
    "studenti = [\"Alex\", \"Bob\", \"Cindy\", \"Dan\", \"Emma\", \"Faith\", \"Grace\", \"Henry\", \"Isabelle\", \"John\"]\n",
    "squadra_pari = []\n",
    "squadra_dispari = []\n",
    "\n",
    "for i in range(len(studenti)):\n",
    "    if i % 2 == 0:\n",
    "        squadra_dispari.append(studenti[i])\n",
    "    else:\n",
    "        squadra_pari.append(studenti[i])\n",
    "\n",
    "print(\"Squadra 1:\\t\",squadra_pari)\n",
    "print(\"Squadra 2:\\t\",squadra_dispari)"
   ]
  },
  {
   "cell_type": "markdown",
   "id": "e91decea-81f8-4958-855e-4be2d8a7f572",
   "metadata": {
    "jp-MarkdownHeadingCollapsed": true
   },
   "source": [
    "## Esercizio 14\n",
    "Abbiamo una lista con i guadagni degli ultimi 12 mesi (supponiamo da Gennaio a Dicembre): \n",
    "\n",
    "guadagni = [100, 90, 70, 40, 50, 80, 90, 120, 80, 20, 50, 50] \n",
    "\n",
    "dobbiamo confrontare, stampando tutto a video, il guadagno di ogni mese con la media dei guadagni precedenti, e specificare nell'output se il guadagno attuale è maggiore o minore della media dei precedenti. \n",
    "\n",
    "Esempio di un possibile output:\n",
    "\n",
    "Mese 1: 100 € Mese 2: 90 € (media prec: 100 € - il guadagno attuale è minore) Mese 3: 70 € (media prec: 95 € - il guadagno attuale è minore)"
   ]
  },
  {
   "cell_type": "code",
   "execution_count": 210,
   "id": "34b32dd9-d32c-4b3f-9cc4-f6e0e879bb62",
   "metadata": {},
   "outputs": [
    {
     "name": "stdout",
     "output_type": "stream",
     "text": [
      "Guad. mese 1:\t100\t(media prec: 100.00 ---> il guadagno attuale è maggiore)\n",
      "Guad. mese 2:\t 90\t(media prec:  95.00 ---> il guadagno attuale è minore)\n",
      "Guad. mese 3:\t 70\t(media prec:  86.67 ---> il guadagno attuale è minore)\n",
      "Guad. mese 4:\t 40\t(media prec:  75.00 ---> il guadagno attuale è minore)\n",
      "Guad. mese 5:\t 50\t(media prec:  70.00 ---> il guadagno attuale è minore)\n",
      "Guad. mese 6:\t 80\t(media prec:  71.67 ---> il guadagno attuale è maggiore)\n",
      "Guad. mese 7:\t 90\t(media prec:  74.29 ---> il guadagno attuale è maggiore)\n",
      "Guad. mese 8:\t120\t(media prec:  80.00 ---> il guadagno attuale è maggiore)\n",
      "Guad. mese 9:\t 80\t(media prec:  80.00 ---> il guadagno attuale è maggiore)\n",
      "Guad. mese 10:\t 20\t(media prec:  74.00 ---> il guadagno attuale è minore)\n",
      "Guad. mese 11:\t 50\t(media prec:  71.82 ---> il guadagno attuale è minore)\n",
      "Guad. mese 12:\t 50\t(media prec:  70.00 ---> il guadagno attuale è minore)\n"
     ]
    }
   ],
   "source": [
    "guadagni = [100, 90, 70, 40, 50, 80, 90, 120, 80, 20, 50, 50]\n",
    "guadagni = np.array(guadagni)\n",
    "mesi = []\n",
    "\n",
    "for i in range(len(guadagni)):\n",
    "    mean = guadagni[:i+1].mean()\n",
    "    guad = guadagni[i]\n",
    "    print(f\"Guad. mese {i+1}:\\t{guad:3d}\\t(media prec: {\"{:6.2f}\".format(mean)} ---> il guadagno attuale è {\"minore\" if guad < mean else \"maggiore\"})\")"
   ]
  }
 ],
 "metadata": {
  "kernelspec": {
   "display_name": "Python 3 (ipykernel)",
   "language": "python",
   "name": "python3"
  },
  "language_info": {
   "codemirror_mode": {
    "name": "ipython",
    "version": 3
   },
   "file_extension": ".py",
   "mimetype": "text/x-python",
   "name": "python",
   "nbconvert_exporter": "python",
   "pygments_lexer": "ipython3",
   "version": "3.12.7"
  }
 },
 "nbformat": 4,
 "nbformat_minor": 5
}
