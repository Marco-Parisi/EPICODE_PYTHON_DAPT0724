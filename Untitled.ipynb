{
 "cells": [
  {
   "cell_type": "code",
   "execution_count": 42,
   "id": "afb570eb-667a-49e8-9710-7c4d8af10d29",
   "metadata": {},
   "outputs": [
    {
     "name": "stdout",
     "output_type": "stream",
     "text": [
      "3.1430913\n"
     ]
    }
   ],
   "source": [
    "def fun(z):\n",
    "    return z**2 + 0.25\n",
    "\n",
    "eps = 1e-14\n",
    "z = 0\n",
    "\n",
    "for i in range(10000000000):\n",
    "    if z <= 2.0:\n",
    "        z = fun(z + eps)\n",
    "    else:\n",
    "        print(str(i)[0]+'.'+str(i)[1:])\n",
    "        break"
   ]
  }
 ],
 "metadata": {
  "kernelspec": {
   "display_name": "Python 3 (ipykernel)",
   "language": "python",
   "name": "python3"
  },
  "language_info": {
   "codemirror_mode": {
    "name": "ipython",
    "version": 3
   },
   "file_extension": ".py",
   "mimetype": "text/x-python",
   "name": "python",
   "nbconvert_exporter": "python",
   "pygments_lexer": "ipython3",
   "version": "3.12.3"
  }
 },
 "nbformat": 4,
 "nbformat_minor": 5
}
