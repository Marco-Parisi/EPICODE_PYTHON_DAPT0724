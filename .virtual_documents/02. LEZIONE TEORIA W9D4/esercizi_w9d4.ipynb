nome_scuola = "Epicode"
i = 0
while i < len(nome_scuola):
    print(nome_scuola[i])
    i += 1


i = 0
while i <= 20:
    print("numero: " + str(i))
    i += 1


i = 0
while i < 10:
    print(2**i)
    i += 1


n = 0
while n != -1:
    n = input("Inserire la potenza N (-1 per uscire):")
    n = int(n)
    if n != -1:
        i = 0
        while i < n:
            print(2**(i))
            i += 1


pot = i = 0
while pot < 25e4:
    pot = 2**i
    i+=1
    if pot < 25e4:
        print(pot)


stringa = "" 
while len(stringa) < 6:
    stringa = input("scrivere una stringa con almeno 6 caratteri: ")

pr_stringa = stringa[:3] + "..." + stringa[-3:] + "..."
print(pr_stringa)


num = 1
while num != 0:
    num = input("inserire un numero maggiore di 1 (0 per uscire):")
    try:
        num = int(num)
        if num != 0:
            fact = 2
            while num > 1:
                if num % fact == 0:
                    print(fact)
                    num /= fact
                fact += 1
    except:
        print("non è stato inserito un numero!")


nome_scuola = "Epicode"

for i in range(len(nome_scuola)):
    print(nome_scuola[i])


for i in range(10):
    print(2**i)


potenze = []
j = k = n = 0
while n != -1 :
    n = input("Inserire la potenza N (-1 per uscire):")
    n = int(n)
    if n != -1:
        k = input("Inserire la base K > 1:")
    k = int(k)
    if n != -1 and k > 1:
        i = 0
        while i < n:
            potenze.append(k**(i))
            i += 1
        print(potenze)
        potenze = []


potenze = []
j = k = n = 0
while n != -1 :
    n = input("Inserire la potenza N (-1 per uscire):")
    n = int(n)
    if n != -1:
        k = input("Inserire la base K > 1:")
    k = int(k)
    if n != -1 and k > 1:
        for i in range(n):
            potenze.append(k**(i))
        print(potenze)
        potenze = []


guadagni = [100, 90, 70, 40, 50, 80, 90, 120, 80, 20, 50, 50]
somma = media = 0
len_guad = len(guadagni)

for i in range(len_guad):
    somma += guadagni[i]

media = somma / len_guad
print(media)


parole = ["Albergo", "Sedia", "Borgo", "Petalo", "Eremo", 
          "Belvedere", "Semestre", "Esteta", "Sosta", 
          "Orpello", "Abete", "Orologio", "Cesta", "Ermellino"]

for parola in parole:
    e = 0
    for car in parola:
        if car == 'e':
            e += 1
    print("numero di \'e\' nella parola: " + parola + " = " + str(e))


dizionario_auto = {"Ada": "Punto", "Ben": "Multipla", 
                   "Charlie": "Golf", "Debbie": "107"}

print(dizionario_auto)
print(dizionario_auto["Debbie"])


for chiave in dizionario_auto:
    if dizionario_auto[chiave] != "Multipla":
        print(dizionario_auto[chiave])


dizionario_auto = {"Ada": "Punto", "Ben": "Multipla", 
                   "Charlie": "Golf", "Debbie": "107", "Emily": "A1"}
nuovi_proprietari = {"Ben": "Polo", "Fred": "Octavia", 
                     "Grace": "Yaris", "Hugh": "Clio"}
dizionario_auto.update(nuovi_proprietari)
print(dizionario_auto["Ben"])
