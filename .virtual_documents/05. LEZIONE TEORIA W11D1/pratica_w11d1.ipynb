


#import warnings
#warnings.filterwarnings("ignore")

import pandas as pd

cmi_df = pd.read_csv('club_map_italy.csv', encoding="latin1", sep=";")

print("Dimensione del dataset:", cmi_df.shape)
print("\nNomi delle colonne (metadati):", cmi_df.columns.values, sep="\n")


print("\nPrimo elemento:")
display(cmi_df.head(1))

print("Ultimo elemento:")
display(cmi_df.tail(1))

print("Elemento casuale:")
display(cmi_df.sample(1))


cmi_df = cmi_df.rename( columns = {"Anno inserimento": "AnnoInserimento"} )
print("Anni di inserimento presenti:", sorted(cmi_df.AnnoInserimento.unique()))


lon_filter = cmi_df['Longitudine'].between(9, 10, inclusive = 'both')
lat_filter = cmi_df['Latitudine'].between(45, 46, inclusive = 'both')
print("Attività nel quadrato long: 9-10; lat: 45-46: ", len(cmi_df[ lon_filter & lat_filter ]))


print("Attività nella provicina di Vicenza:", len(cmi_df[ cmi_df["Provincia"] == "VICENZA" ]))


cmi_df['Nome'] = cmi_df['Nome']
eno_filter = cmi_df["Nome"].str.lower().str.contains("enoteca")

print("Enoteche totali:", len(cmi_df[ eno_filter ]))
display(cmi_df[ eno_filter ].Nome)


print("Attività nel Lazio e Abruzzo:", len(cmi_df[ (cmi_df["Regione"] == "Lazio") | (cmi_df["Regione"] == "Abruzzo") ]))





insurance_df = pd.read_csv('insurance.csv')

print("Dimensione del dataset:", insurance_df.shape)
print("5 righe a caso:")
display(insurance_df.sample(5))


print("Media per ", insurance_df.groupby("region")["charges"].mean(), sep='')


print("Media per ", insurance_df.groupby("smoker")["charges"].mean(), sep='')


print("Media per ", insurance_df.groupby("sex")["charges"].mean(), sep='')


print("Statistica descrittiva di 'bmi':")
print(insurance_df['bmi'].describe())


insurance_df['bmi_quartile'] = pd.qcut(insurance_df['bmi'], q=4)

print('Minimo, massimo e media di charges rispetto al quartile di bmi:')
display(insurance_df.groupby('bmi_quartile')['charges'].agg(['min', 'max', 'mean']))


for i in range(1, 4):
    charges_quart = insurance_df[ insurance_df['bmi'] <= insurance_df['bmi'].quantile( i/4.0 ) ]['charges']
    print(f"Quartile {i/4.0}: \tmin={charges_quart.min()}\tmax={charges_quart.max()}\t  mean={charges_quart.mean()}")





iris_df = pd.read_csv('iris.csv')
print(iris_df.columns)


print(f"Lunghezza media dei petali: {iris_df['petal_length'].agg('mean'):.3f}\n")
print("Lunghezza media dei petali per ", iris_df.groupby('species')['petal_length'].agg('mean'), sep='')


print("Lunghezza media, minima e massima dei seoali per species:")
iris_df.groupby('species')['sepal_width'].agg(['mean', 'min', 'max'])





wine_df = pd.read_csv('wine.csv')
print(wine_df.columns)


wine_alcohol_mean = wine_df['alcohol'].mean()
wine_alcohol_mean_quality = wine_df.groupby('quality')['alcohol'].mean()

print('Media di concentrazione alcolica totale:', wine_alcohol_mean)
print('Media di concentrazione alcolica per', wine_alcohol_mean_quality)


print('Differenze rispetto alla media', abs(wine_alcohol_mean_quality - wine_alcohol_mean))


print("Differenza conc. alcolica per tipo di vino:\n", wine_df.groupby('type')['alcohol'].mean())


wine_ph_mean = wine_df['pH'].mean()
wine_ph_mean_quality = wine_df.groupby('quality')['pH'].mean()

print('Media del pH totale:', wine_ph_mean)
print('Media del pH per', wine_ph_mean_quality)
print("\nDifferenza pH per tipo di vino:\n", wine_df.groupby('type')['pH'].mean())


wine_sulphates_mean = wine_df['sulphates'].mean()
wine_sulphates_mean_quality = wine_df.groupby('quality')['sulphates'].mean()

print('Media del pH totale:', wine_sulphates_mean)
print('Media del pH per', wine_sulphates_mean_quality)
print("\nDifferenza pH per tipo di vino:\n", wine_df.groupby('type')['sulphates'].mean())





boston_df = pd.read_csv('boston.csv')

print('Prezzo medio delle case a seconda della distanza dal fiume Charles:')
print(boston_df.groupby('chas')['medv'].mean())


from pandas.plotting import scatter_matrix

display(boston_df[['crim', 'medv']].corr())

_ = scatter_matrix(boston_df[['crim', 'medv']])
print("Il tasso di criminalità e il prezzo medio delle case presentano una discreta correlazione negativa.")
print("Al diminuire del prezzo medio aumenta il tasso di criminalità.")


print('Media del numero di stanze rispetto al rapporto alunni-insegnanti:')
boston_df.groupby('ptratio')['rm'].mean()


print('Media del numero di stanze rispetto al valore delle case:')
boston_df.groupby('medv')['rm'].mean()


print('Correlazione tra numero di stanze e valore delle case:')
boston_df_medv_rm = pd.DataFrame(boston_df.groupby(['medv'])['rm'].mean()).reset_index()

display(boston_df_medv_rm.corr())

_ = scatter_matrix(boston_df_medv_rm)
print("La correlazione è positiva, all'aumentare del valore medio delle case aumenta il numero di stanze.")


import matplotlib.pyplot as plt
print('Media del numero di stanze rispetto al valore delle case:')
boston_df_rad_stats = pd.DataFrame(boston_df.groupby(['rad'])[['rm', 'age', 'tax']].mean()).reset_index()

display(boston_df_rad_stats.corr())

display(boston_df_rad_stats)

# normalizzazione min-max dei dati per plot degli andamenti di age e tax
boston_df_rad_stats_norm = (boston_df_rad_stats[['age', 'tax']] - boston_df_rad_stats[['age', 'tax']].min()) / (boston_df_rad_stats[['age', 'tax']].max() - boston_df_rad_stats[['age', 'tax']].min())
boston_df_rad_stats_norm['rad'] = boston_df_rad_stats['rad']
boston_df_rad_stats_norm.plot(x='rad', y=['age', 'tax'])
plt.show()





employees_df = pd.DataFrame({ 'employee_id': [101, 102, 103, 104, 105], 'name': ['Alice', 'Bob', 'Charlie', 'David', 'Emma'], 'department_id': [1, 2, 1, 2, 3] })
departments_df = pd.DataFrame({ 'department_id': [1, 2, 3], 'department_name': ['HR', 'IT', 'Finance'], 'location': ['New York', 'San Francisco', 'Chicago'] })

pd.merge(left = employees_df, right = departments_df, how = 'left', on = 'department_id')


departments_df = departments_df.set_index('department_id')
employees_df = employees_df.set_index('department_id')

employees_df.join(departments_df)





from pathlib import Path
import os

path = str(Path(os.path.abspath("")).parents[0]) + '\\' + "adventureworks_connection.ipynb"
path = path.replace('\\', '/')
get_ipython().run_line_magic("run", " {path}")


adw_dimemployee = pd.read_sql('SELECT * FROM dimemployee', db_engine)
adw_dimemployee_st = pd.read_sql('SELECT * FROM dimemployeesalesterritory', db_engine)
 
print('adw_dimemployee shape:', adw_dimemployee.shape)
print('adw_dimemployee columns:', adw_dimemployee.columns)
print('adw_dimemployee_st shape:', adw_dimemployee_st.shape)
print('adw_dimemployee_st columns:', adw_dimemployee_st.columns)


print(adw_dimemployee['EmployeeKey'].nunique())
print(adw_dimemployee_st['EmployeeKey'].nunique())


adw_dimemployee = adw_dimemployee.set_index('EmployeeKey')
adw_dimemployee_st = adw_dimemployee_st.set_index('EmployeeKey')


adw_dimemployee_join = adw_dimemployee_st.join(adw_dimemployee)

print('join shape:', adw_dimemployee_join.shape)
print('join columns:', adw_dimemployee_join.columns)
adw_dimemployee_join.sample(5)


adw_dimsalesterritory = pd.read_sql('SELECT * FROM dimsalesterritory', db_engine)

print('adw_dimsalesterritory shape:', adw_dimsalesterritory.shape)
print('adw_dimsalesterritory columns:', adw_dimsalesterritory.columns)


adw_dimemployee_st_join = pd.merge(left = adw_dimemployee_join, right = adw_dimsalesterritory, on = 'SalesTerritoryKey', how = 'inner')


adw_dimemployee_st_join.shape


print('Employee per country: ')
adw_dimemployee_st_join.groupby('SalesTerritoryCountry').SalesTerritoryCountry.count()


print('Employee per region: ')
adw_dimemployee_st_join.groupby('SalesTerritoryRegion').SalesTerritoryRegion.count()


print('BaseRate medio per country: ')
adw_dimemployee_st_join.groupby('SalesTerritoryCountry').BaseRate.mean()
