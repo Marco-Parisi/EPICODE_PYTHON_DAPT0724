





nums = [1, 5, 2, -3, 10, 99, 12, 6, -21]

# 1. Leggo il primo valore e lo salvo
saved_num = nums[0]

i = 0
while i<len(nums)-1:
    # 2. Confronto il valore corrente con il successivo
    if(nums[i] > nums[i + 1]):      
        # 3. Se il valore sucessivo è maggiore di quello corrente, li scambio di posto
        saved_num = nums[i] 
        nums[i] = nums[i + 1]
        nums[i + 1] = saved_num
        # 3. e torno al primo valore
        i = 0
    else:
        # 4. vado al valore successivo e torno al punto 2
        i += 1
        
print(nums) 





print("Mediana: " + str(nums[int(len(nums)/2)]))





studenti = [
    "Alice Rossi", "Luca Bianchi", "Giulia Verdi", "Matteo Neri", "Sara Ferrari",
    "Marco Galli", "Francesca Costa", "Alessandro Romano", "Martina Santoro", "Andrea Russo",
    "Chiara Esposito", "Davide De Luca", "Elena Greco", "Giovanni Moretti", "Anna Fontana",
    "Paolo Lombardi", "Lucia Marini", "Carlo Ricci", "Marta Caruso", "Francesco Rizzo",
    "Giovanna Pellegrini", "Stefano Barbieri", "Simona Mancini", "Nicola Marino", "Federica Conti"
]

print(studenti)

studenti_aggiuntivi = [ "Mario Rossi", "Paolo Bonolis", "Luca Giurato"]

studenti_complessivi = studenti + studenti_aggiuntivi
print(studenti_complessivi)





epicode = "Epicode"
print(epicode)





x = 10
print(x)
x += 2
print(x)
x *= 3
print(x)





str1 = "Windows"
str2 = "Excel"
str3 = "Powerpoint"
str4 = "Word"

print(len(str1))
print(len(str2))
print(len(str3))
print(len(str4))





print("Secondi in un anno civile: " + str(4 * 365 * 24 * 3600))
print("Secondi in un anno bisestile: " + str(366 * 24 * 3600))
print("Differenza anno civile-anno solare: " + str( (365 * 24 * 3600) - (365 * ((23 * 3600) + 3364.091)) ))
print("Secondi in un giorno: " + str(1 * 24 * 3600))





my_string = "I am studying Python,"
print(my_string)

my_string_upper = my_string.upper();
print(my_string_upper)

my_string_lower = my_string.lower();
print(my_string_lower)

my_string = my_string.replace("Python", "a lot")
print(my_string)

print(my_string.strip(","))

print(my_string.split(" "))





studenti = ["Alex", "Bob", "Cindy", "Dan", "Emma", "Faith", "Grace", "Henry"]
corsi = ["Cybersecurity", "Data Analyst", "Backend", "Frontend", "Data Analyst", "Backend"]

