


import os
import dotenv
import sqlalchemy

dotenv.load_dotenv(override=True)

AWDW_user = os.getenv("AWDW_user")
AWDW_pass = os.getenv("AWDW_pass")
AWDW_host = os.getenv("AWDW_host")
AWDW_dbname = os.getenv("AWDW_dbname")

connection_string = "mysql+pymysql://" + AWDW_user + ":" + AWDW_pass + "@" + AWDW_host + "/" + AWDW_dbname

db_engine = sqlalchemy.create_engine(connection_string)


query = "SELECT * FROM dimproduct"

tabella = pd.read_sql(query, db_engine)

display(tabella)






local_host = "127.0.0.1:3306"
AWDW_localpass = os.getenv("AWDW_localpass")

connection_string = "mysql+pymysql://root:" + AWDW_localpass + "@" + local_host + "/" + AWDW_dbname

local_db_engine = sqlalchemy.create_engine(connection_string)


query = "SELECT * FROM dimproduct"

tabella = pd.read_sql(query, local_db_engine)

display(tabella)








import math
import numpy as np
import pandas as pd
# importo la libreria latex per stampare formalmente la matrice
from IPython.display import display, Latex, Markdown

mat = [[0, 1, 2, 3, 4], [5, 6, 7, 8, 9], [10, 11, 12, 13, 14]]
# mat rappresenta una matrice 3x5

### Stampa normale
mat_riga = "|"
for i in range(len(mat[:])):
    for j in range(len(mat[0])):
        mat_riga += "{:4d}".format(mat[i][j]) 
        # l'indice i rappresenta le righe, j le colonne
        # posso accedere agli elementi tramite i e j
    print(mat_riga + "\t|")
    mat_riga = "|"


### Stampa formale con latex

# aggiungo gli elementi della matrice iterando su mat come prima
latex_matrix = "\\begin{bmatrix} " + " \\\\ ".join(
    " & ".join( str(mat[i][j]) for j in range(len( mat[0] )) )
    for i in range(len( mat )) ) + " \\end{bmatrix}"

display(Latex(f"\\[ {latex_matrix} \\]"))








import math

x = input("inserire un valore di x in gradi (0-360°): ")
x = float(x)
x_rad = x * math.pi / 180.0 # converto in radianti

round_dec = 5
sin_x = round(math.sin(x_rad), round_dec)
cos_x = round(math.cos(x_rad), round_dec)

display(Latex(f"\n$sin({x}^\\circ)={sin_x}$"))
display(Latex(f"$cos({x}^\\circ)={cos_x}$"))
print("arrotondamento a", round_dec, "decimali")

display(Markdown(f"#### Identità trigonometrica"))
display(Latex(f"$sin^2({x}^\\circ) + cos^2({x}^\\circ) = 1 \\quad \\rightarrow \\quad \
        {round(sin_x ** 2 + cos_x ** 2, round_dec)}$"))





# Fattoriale

i_range = range(1, 6) 
scale = 4 # per aumentare la spazialità dei tratti -

display(Markdown(f"##### Quadrato"))
for i in i_range:
    sqr = int(math.pow(i, 2))
    print(f"{i}^2 ","-" * int(sqr / i * scale), sqr)
    
display(Markdown(f"##### Fattoriale"))
for i in i_range:
    fact = math.factorial(i)
    print(f"{i}!  ", "-" * int(fact / i * scale), fact)
    
display(Markdown(f"#### Il fattoriale cresce molto più velocemente dell'elevamento al quadrato"))





pi_deg = math.degrees(math.pi) # converte i radianti in gradi
pi_rad = math.radians(pi_deg) # converte i gradi in radianti

print(pi_deg)
print(pi_rad)
print(math.pi)





lst = [2000, 5500, 7200, 4320, 1280, 1900, 2500, 3900, 6410, 8150, 7100, 5350]

np_lst = np.array(lst)

print("- Vendita massima mensile:", np_lst.max())
print("- Vendita minima mensile:", np_lst.min())

print("- Vendite maggiori di 5000:", np_lst[np_lst > 5000], "; totale = ", len(np_lst[np_lst > 5000]))

print("- Vendita minori di 3000:", np_lst[np_lst < 3000])

print("- Vendita medie:", np_lst.mean())





fatturati_dict = {1997: 12_000, 1998: 15_000, 1999: 20_000, 2000: 23_000, 2001: 25_000, 2002: 17_000, 2003: 14_000, 2004: 21_000}
fatturati_series = pd.Series([12_000, 15_000, 20_000, 23_000, 25_000, 17_000, 14_000, 21_000], index=range(1997, 2005))

display(Markdown(f"### Slicing"))
print(fatturati_series.loc[1997:2000])
    
display(Markdown(f"### Operazioni su tutta la serie senza iterare"))
print(fatturati_series * 100)
    
display(Markdown(f"### Statisctica descrittiva (funzioni media, min, max ecc.)"))
print(fatturati_series.describe())





stipendi = np.array( [100, 200, 300, 400, 500, 600, 700, 800, 900, 1000])

# ciclo for
for i in range(len(stipendi)):
    stipendi[i] *= 2
    
print(stipendi)


stipendi = np.array( [100, 200, 300, 400, 500, 600, 700, 800, 900, 1000])

# masking
print(stipendi * 2)





num_lst = np.array([])
loop_exit = False
i = 0

while loop_exit == False:
    num = input(f"Inserire il valore numero {i+1} della lista ('e' per terminare):")
    
    try:
        num = int(num)
        if len(num_lst) > 0 and len(num_lst[num_lst == num]) > 0:
            print("-- Numero già inserito")
        else:
            num_lst = np.append(num_lst, num)
            i += 1
    except:
        if num == "e":
            if i < 3:
                print("-- La lista è più corta di 3 elementi!")
            else:
                loop_exit = True
        else:    
            print("-- Non è un numero!")

num_lst = np.sort(-num_lst) * -1
print("==== Primi tre numeri più grandi della lista: ", num_lst[:3])





num_lst = np.array([])
loop_exit = False
i = 0

while loop_exit == False:
    num = input(f"Inserire il valore numero {i+1} della lista ('e' per terminare):")
    try:
        num = int(num)
        num_lst = np.append(num_lst, num)
        i += 1
    except:
        if num == "e":         
            if len(num_lst) > 1:
                loop_exit = True
            else:
                print("-- Nessun numero inserito")
        else:    
            print("-- Non è un numero!")
            
loop_exit = False           
while loop_exit == False:
    k = input(f"Inserire il valore di K: ")
    try:
        k = int(k)
        loop_exit = True
    except:
        print("-- Non è un numero!")
        
num_lst_beq_k = num_lst[ num_lst >= k ]

if len(num_lst_beq_k) > 0:
    print(f"==== Media dei numeri maggiori o uguali a K={k} :", num_lst_beq_k.mean())
else:
    print(f"-- Tutti i valori della lista sono minori di K={k}")





numeri = np.random.normal(0, 0.5, 300)
num_hist, num_bin = np.histogram(numeri, bins=20)

for num in num_hist:
    print("*" * int(num))


numeri = [3, 4, 10, 2, 42, 7]

for num in numeri:
    print("*" * num)





lista_cf = ["ABCDEF95G01A123B", "GHIJKL91M02A321C", "MNOPQR89S03A456D", "STUVWX95Z04A654E", "XYZABC01D05A789F", "DEFGHI95J06A987G"]
lista_95 = []

for cf in lista_cf:
    for i in range(len(cf)-1):
        if cf[i] == "9" and cf[i+1] == "5":
            lista_95.append(cf)
            break
            
print(lista_95)

for cf in lista_95:
    print("Nome:\t", cf[3:6])
    print("Cognome:", cf[:3])


lista_cf = ["ABCDEF95G01A123B", "GHIJKL91M02A321C", "MNOPQR89S03A456D", "STUVWX95Z04A654E", "XYZABC01D05A789F", "DEFGHI95J06A987G"]
lista_95 = []

for cf in lista_cf:
    if "95" in cf:
        lista_95.append(cf)
            
print(lista_95)

for cf in lista_95:
    print("Nome:\t", cf[3:6])
    print("Cognome:", cf[:3])





studenti = ["Alex", "Bob", "Cindy", "Dan", "Emma", "Faith", "Grace", "Henry"] 
corsi = ["Cybersecurity", "Data Analyst", "Backend", "Frontend", "Data Analyst", "Backend", "Frontend", "Cybersecurity"] 
edizioni = [1, 2, 3, 2, 2, 1, 3, 3] 

edizione_corso = pd.Series(corsi, edizioni)
edizione_studenti = pd.Series(studenti, edizioni)

anno_edizione = 1
print(edizione_studenti[ anno_edizione ].values)
print(edizione_corso[ anno_edizione ].values)





prezzi = ["100 €", "200 €", "500 €", "10 €", "50 €", "70 €"]
prezzi_dollaro = []

for prezzo in prezzi:
    new_prezzo = ""
    for car in prezzo:
        if car != "€":
            new_prezzo += car
        else:
            new_prezzo += "$"
    prezzi_dollaro.append(new_prezzo)

print(prezzi_dollaro)





studenti = ["Alex", "Bob", "Cindy", "Dan", "Emma", "Faith", "Grace", "Henry", "Isabelle", "John"]
squadra_pari = []
squadra_dispari = []

for i in range(len(studenti)):
    if i % 2 == 0:
        squadra_dispari.append(studenti[i])
    else:
        squadra_pari.append(studenti[i])

print("Squadra 1:\t",squadra_pari)
print("Squadra 2:\t",squadra_dispari)





guadagni = [100, 90, 70, 40, 50, 80, 90, 120, 80, 20, 50, 50]
guadagni = np.array(guadagni)
mesi = []

for i in range(len(guadagni)):
    mean = guadagni[:i+1].mean()
    guad = guadagni[i]
    print(f"Guad. mese {i+1}:\t{guad:3d}\t(media prec: {"{:6.2f}".format(mean)} ---> il guadagno attuale è {"minore" if guad < mean else "maggiore"})")
