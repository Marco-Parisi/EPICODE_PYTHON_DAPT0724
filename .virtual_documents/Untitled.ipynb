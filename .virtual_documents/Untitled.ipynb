


import os
import dotenv
import sqlalchemy
import pandas as pd
from pathlib import Path

envpath = str(Path(os.path.abspath("")).parents[0]) + '\\' + ".env"
envpath = envpath.replace('\\', '/')

dotenv.load_dotenv(override = True , dotenv_path = envpath)

AWDW_user = os.getenv("AWDW_user")
AWDW_pass = os.getenv("AWDW_pass")
AWDW_host = os.getenv("AWDW_host")
AWDW_dbname = os.getenv("AWDW_dbname")

connection_string = "mysql+pymysql://" + AWDW_user + ":" + AWDW_pass + "@" + AWDW_host + "/" + AWDW_dbname

db_engine = sqlalchemy.create_engine(connection_string)
print("connected")
