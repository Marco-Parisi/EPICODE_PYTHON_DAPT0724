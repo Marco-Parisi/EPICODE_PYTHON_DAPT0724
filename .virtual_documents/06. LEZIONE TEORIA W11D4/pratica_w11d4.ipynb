


from pathlib import Path
import pandas as pd
import numpy as np
import os

path = str(Path(os.path.abspath("")).parents[0]) + '\\' + "adventureworks_connection.ipynb"
path = path.replace('\\', '/')
get_ipython().run_line_magic("run", " {path}")


adw_dimproduct = pd.read_sql('SELECT * FROM dimproduct', db_engine)

print('adw_dimproduct shape:', adw_dimproduct.shape)
print('adw_dimproduct columns:', adw_dimproduct.columns)


adw_dimproduct['DealerPrice'].round(2).round(0)#.dropna().astype(int)


adw_dimproduct['DealerPrice'].clip(0, 1000)





years = 5
a = pd.DataFrame({"Mese": list("GFMAMGLASOND"*years), "Anno": np.repeat(list(range(years)), 12), "Guadagni": np.random.randint(800, 5000, 12*years)})

a.cumsum()


a['year_cumsum'] = a.groupby('Anno').Guadagni.cumsum()
a





adw_dimcustomer = pd.read_sql('SELECT * FROM dimcustomer', db_engine)

print('adw_dimcustomer shape:', adw_dimcustomer.shape)
print('adw_dimcustomer columns:', adw_dimcustomer.columns)


adw_dimcustomer.FirstName = adw_dimcustomer.FirstName.str.lower()
adw_dimcustomer.LastName = adw_dimcustomer.LastName.str.upper()
adw_dimcustomer[['FirstName','LastName']]


adw_dimcustomer.EmailAddress.str.split('@')


adw_dimcustomer.Phone.str.split(' ')


email_flt = adw_dimcustomer.EmailAddress.str.contains('21')
adw_dimcustomer.EmailAddress[ email_flt ]





email_flt_20 = adw_dimcustomer.EmailAddress.str.contains('20')
email_flt_10 = adw_dimcustomer.EmailAddress.str.contains('10')

adw_dimcustomer.EmailAddress[ email_flt_20 | email_flt_10 ]


adw_dimcustomer.EmailAddress.str.len()


adw_dimcustomer.EmailAddress.sort_values()[:10]


adw_dimcustomer.EmailAddress.sort_values()[-10:]


adw_dimcustomer.EmailAddress = adw_dimcustomer.EmailAddress.str.replace("adventure-works.com", "aw-db.com")
adw_dimcustomer.EmailAddress


adw_dimcustomer.AddressLine1[ adw_dimcustomer.AddressLine1.str.contains("Street") ]





parent_folder = str(Path(os.path.abspath("")).parents[0]) + '\\'
facebook_df = pd.read_csv(parent_folder + 'datasets/beginner_datasets/facebook.csv')

facebook_df


facebook_df['status_published'] = pd.to_datetime(facebook_df['status_published'])


months_group = facebook_df['status_published'].dt.month
facebook_df['status_published'].groupby(months_group).count().sort_values()


years_group = facebook_df['status_published'].dt.year
facebook_df['status_published'].groupby(years_group).count().sort_values()


days_group = facebook_df['status_published'].dt.day
facebook_df['status_published'].groupby(days_group).count().sort_values()


daysofweek_group = facebook_df['status_published'].dt.dayofweek
facebook_df['status_published'].groupby(daysofweek_group).count().sort_values()


daysofyear_group = facebook_df['status_published'].dt.dayofyear
facebook_df['status_published'].groupby(daysofyear_group).count().sort_values()





post_year_flt = facebook_df['status_published'].dt.year == 2012

facebook_df[ post_year_flt ].sample(5)


post_year_flt = facebook_df['status_published'].dt.year == 2018
post_month_flt = facebook_df['status_published'].dt.month == 5

facebook_df[ post_year_flt & post_month_flt ]


post_weekdays_flt = facebook_df['status_published'].dt.dayofweek < 5
post_weekend_flt = facebook_df['status_published'].dt.dayofweek >= 5

print('numero di post nel weekend: ', facebook_df[ post_weekend_flt ].shape[0])
print('numero di post negli altri giorni: ', facebook_df[ post_weekdays_flt ].shape[0])


post_year = facebook_df['status_published'].dt.year
facebook_df_year = facebook_df.groupby(post_year)

display('Primo post per ogni anno:', facebook_df_year.head(1))
display('Ultimo post per ogni anno:', facebook_df_year.tail(1))


print('Tipi di post:', facebook_df['status_type'].unique(), '\tnum:', facebook_df['status_type'].nunique())
print(facebook_df.groupby('status_type').status_type.count())





pokemon_df = pd.read_csv(parent_folder + 'datasets/beginner_datasets/pokemon.csv')

pokemon_df


pokemon_df.isnull().sum()


pokemon_df[ pokemon_df[ 'Type 2' ].isnull() ][ 'Type 2' ] = pokemon_df[ pokemon_df[ 'Type 2' ].isnull() ][ 'Type 2' ].replace(np.nan, '-')
pokemon_df
























