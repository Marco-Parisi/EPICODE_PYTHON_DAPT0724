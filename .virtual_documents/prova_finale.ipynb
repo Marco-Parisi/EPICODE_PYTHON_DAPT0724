





import requests
import numpy as np
import pandas as pd
import seaborn as sns
import matplotlib as mpl
import matplotlib.pyplot as plt
import matplotlib.ticker as mtick

# style del grafico
mpl.rcParams["axes.formatter.use_mathtext"] = True
mpl.rcParams['font.size'] = 12
mpl.rcParams['legend.facecolor'] = 'white'
sns.set_style("darkgrid", {'grid.color': ".6", 'grid.linestyle' : ":", 'axes.edgecolor': 'gray'})








covid_df = pd.read_csv('owid-covid-data.csv')

# stampa dello shape del dataset per verificare il numero di righe e di colonne
print(f'Dimensioni del dataset (righe, colonne) --> {covid_df.shape}\n')

# 3 righe casuali
display(covid_df.sample(3))





# get delle descrizioni dei metadati sul README.md di github
try:
    dataset_readme = requests.get('https://raw.githubusercontent.com/owid/covid-19-data/refs/heads/master/public/data/README.md').text
except:
    dataset_readme = meta_info = ''
    
# stampa dei metadati    
print("METADATI:")
for meta in sorted(covid_df.columns.values):
    
    if dataset_readme:
        meta_info = dataset_readme[dataset_readme.index(f'`{meta}`'):]
        meta_info = meta_info[meta_info.index('|') + 1:]
        meta_info = ' -->' + meta_info[:meta_info.index('|') - 1]

    print('-'*len(meta))
    print(f'\033[01m{meta}\033[0m\033[31m{meta_info}\033[0m')








# check dei valori nella colonna 'continent'
covid_df.continent.unique()


# raggruppamento per continente con aggregazione 'somma'
# il valore 'nan' non viene considerato nel raggruppamento
cont_tot_cases = covid_df.groupby('continent').new_cases.sum()
print("Numero di casi per ogni continente dall'inizio della pandemia:",
      cont_tot_cases.astype(int).to_string().replace('continent','\n'))





# check dei valori della colonna 'location' in corrispondenza per i valori nulli di 'continent'
covid_df[ covid_df.continent.isna() == True ].location.unique()


# raggruppamento con aggregazione 'somma' su new_cases per i valori 'nan' di 'continent'
cont_nan_loc = covid_df[ covid_df.continent.isna() == True ].groupby('location').new_cases.sum()
cont_nan_loc.astype(int)


print(f'Analisi raggruppamento \'continent\' uguale a \'nan\':')
print(f' - totale per i valori di \'location\' uguali a \'world\':\t\t {cont_nan_loc.iloc[-1]:.0f}')
print(f' - totale per i valori di \'location\' nella colonna \'continent\':\t {cont_nan_loc[cont_tot_cases.index].sum():.0f}')
print(f'Somma dei casi per continente (visti in precedenza):\t\t {cont_tot_cases.sum():.0f}')





# drop dei valori nulli
covid_df = covid_df.dropna(subset='continent')
covid_df.continent.isna().value_counts()





# calcolo della percentuale dei casi per continente
cont_tot_cases = (cont_tot_cases / cont_tot_cases.sum() * 100)
print('Percentuale dei casi totali nel mondo divisi per continente:', (round(cont_tot_cases, 2).astype(str) + ' %').to_string().replace('continent', ''))

# plot
plt.figure(figsize=(8,4.5))
ax = sns.barplot(cont_tot_cases.to_frame(), x='continent', y='new_cases', hue='continent', hatch='...', alpha=0.7)

# percentuali nel barplot
for cont in ax.containers:
    ax.bar_label(cont, fmt='%.2f%%', weight='bold', fontname='Consolas', size=14)
    
# labels degli assi
ax.set(xlabel='', ylabel='Total cases')
ax.yaxis.set_major_formatter(mtick.FormatStrFormatter('%1.0f%%'))
plt.margins(y=0.1)
plt.show()








# check valori nulli sulle date
covid_df.date.isna().value_counts()


# conversione colonna 'date' in datetime
covid_df.date = pd.to_datetime(covid_df.date)


# filtri per data = 2022 e per location = Italy
date_flt = covid_df.date.dt.year == 2022
italy_flt = covid_df.location.str.contains('Italy')

# plot
covid_df[ date_flt & italy_flt ].plot( x = 'date', y = 'total_cases', figsize=(7,4.5))
plt.legend(loc='upper left', labels=['Total Cases'])
plt.title('Evoluzione dei casi totali in Italia nel 2022', fontsize=12, fontweight='bold', fontname='Consolas')
plt.xlabel('Date')
plt.show()





# filtri per i dati uguali a 0
new_cases_flt = covid_df[ date_flt & italy_flt ].new_cases != 0

# plot
covid_df[ date_flt & italy_flt & new_cases_flt ].plot( x = 'date', y = 'new_cases', figsize=(7,4.5))
plt.legend(loc='upper right', labels=['New Cases'])
plt.title('Andamento dei nuovi casi in Italia nel 2022', fontsize=12, fontweight='bold', fontname='Consolas')
plt.xlabel('Date')
plt.show()





# filtro per le date richieste
start_date_flt = covid_df.date >= pd.to_datetime("2022/05/01")
end_date_flt = covid_df.date <= pd.to_datetime("2023/04/01")
date_flt = start_date_flt & end_date_flt

# filtro per le nazioni richieste
loc_flt = covid_df.location.str.contains('Italy|Germany|France')

# boxplot
fig, ax = plt.subplots(1, 2, figsize=(9,6), width_ratios=[3, 1.25], sharey=True)
plt.subplots_adjust(wspace = 0.05)
fig.suptitle('Differenza pazienti ICU dal 05/2022 al 04/2023', fontsize=12, fontweight='bold', y=0.925, fontname='Consolas')

sns.boxplot(covid_df[ loc_flt & date_flt ], y='icu_patients', x='location', hue='location', ax=ax[0], boxprops=dict(alpha=.6))
ax[0].set(ylabel = 'ICU Patients', xlabel = '')
ax[0].xaxis.tick_bottom()
ax[0].yaxis.tick_left() 

# istogramma
sns.histplot(covid_df[ loc_flt & date_flt ], y='icu_patients', hue='location', bins=30, ax=ax[1]).set(ylabel='')
ax[1].get_legend().set_title('')
ax[1].yaxis.tick_left() 
ax[1].yaxis.set_label_position("right")
plt.show()








fig, ax = plt.subplots(1, 2, figsize=(9,6), width_ratios=[3, 1.25])
plt.subplots_adjust(wspace = 0.05)
fig.suptitle('Andamento dei pazienti ICU dal 05/2022 al 04/2023', fontsize=14, fontweight='bold', y=0.925, fontname='Consolas')

# plot andamento 'icu_patients' per ogni nazione
sns.lineplot(covid_df[ loc_flt & date_flt ], x='date', y='icu_patients', hue='location', ax=ax[0]).set(xlabel='', ylabel='ICU Patients')
ax[0].legend(title='')

# plot grafico a barre del totale di 'icu_patients' per ogni nazione
sns.barplot(covid_df[ loc_flt & date_flt ], hatch='...', x='location', y='icu_patients',
                 hue='location', estimator='sum', alpha=0.7, errorbar=None, ax=ax[1])
ax[1].set(xlabel='', ylabel='Total ICU Patients')
ax[1].yaxis.set_label_position("right")
ax[1].yaxis.tick_right()
ax[1].ticklabel_format(axis="y", style="sci", scilimits=(0,0))

# scritte del totale sulle barre
for cont in ax[1].containers:
    ax[1].bar_label(cont, fmt='%d', weight='bold', fontname='Consolas', size=12) 
plt.show()








# filtri data e nazioni
date_flt = covid_df.date.dt.year == 2023
loc_flt = covid_df.location.str.contains('Italy|Germany|France|Spain')

# stampa dei dati
print('Pazienti ospedalizzati:')
print(covid_df[ loc_flt & date_flt ].groupby('location').hosp_patients.sum().astype(int).to_string().replace('location\n',''))

ax = sns.barplot(covid_df[ loc_flt & date_flt ], hatch='...', x='location', y='hosp_patients',
                 hue='location', estimator='sum', alpha=0.7, errorbar=None)

# scritte del totale sulle barre
for cont in ax.containers:
    ax.bar_label(cont, fmt='%d', weight='bold', fontname='Consolas', size=12) 
ax.set(xlabel='', ylabel='Hosp. Patients')    
plt.show()








print('Ammissioni ospedaliere settimanali:')
print(covid_df[ loc_flt & date_flt ].groupby('location').weekly_hosp_admissions.sum().to_string().replace('location\n',''))

ax = sns.barplot(covid_df[ loc_flt & date_flt ], hatch='...', x='location', y='weekly_hosp_admissions',
                 hue='location', estimator='sum', alpha=0.7, errorbar=None)

# scritte del totale sulle barre
for cont in ax.containers:
    ax.bar_label(cont, fmt='%d', weight='bold', fontname='Consolas', size=12) 
ax.set(xlabel='', ylabel='Weekly Hosp. Admissions')    
plt.show()



