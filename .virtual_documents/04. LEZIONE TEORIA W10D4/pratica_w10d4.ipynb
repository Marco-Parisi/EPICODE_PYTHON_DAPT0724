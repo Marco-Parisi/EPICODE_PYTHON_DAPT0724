


import os
import dotenv
import sqlalchemy
import pandas as pd
from IPython.display import Markdown

dotenv.load_dotenv(override=True)

AWDW_user = os.getenv("AWDW_user")
AWDW_pass = os.getenv("AWDW_pass")
AWDW_host = os.getenv("AWDW_host")
AWDW_dbname = os.getenv("AWDW_dbname")

connection_string = "mysql+pymysql://" + AWDW_user + ":" + AWDW_pass + "@" + AWDW_host + "/" + AWDW_dbname

db_engine = sqlalchemy.create_engine(connection_string)





query = "SELECT * FROM dimproduct"

dimproduct = pd.read_sql(query, db_engine)
print("Dati totali:", dimproduct.shape)
print("Metadati :", dimproduct.columns.values)


display(Markdown("## Prima riga:"))
display(dimproduct.head(1))


display(Markdown("## Ultima riga:"))
display(dimproduct.tail(1))


display(Markdown("## 5 righe casuali:"))
display(dimproduct.sample(5))


print("Colori totali:", dimproduct['Color'].nunique(), dimproduct['Color'].unique())





weight = dimproduct['Weight']
dealerprice = dimproduct['DealerPrice']

print("Peso medio dei prodotti:", weight.mean())
print("Peso minimo:", weight.min())
print("Peso massimo:", weight.max())
print("Num. prodotti che pesano più di 100:", weight[weight > 100].shape[0])

print("Costo medio prodotti:", dealerprice.mean())
print("Quartile dei prezzi:", dealerprice.quantile(q=0.25))





filtro_blu = dimproduct['Color'] == "Blue"
filtro_rosso = dimproduct['Color'] == "Red"
filtro_nero = dimproduct['Color'] == "Black"

print("Prezzo medio prodotti di colore blu:", dealerprice[filtro_blu].mean())
print("Prezzo medio prodotti di colore rosso o nero:", dealerprice[filtro_rosso | filtro_nero].mean())


filtro_taglia = dimproduct['Size'] == "42"
filtro_peso = dimproduct['Weight'] > 10

print("Prezzo max dei prodotti taglia 42 e peso > 10 Kg:", dealerprice[filtro_taglia & filtro_peso].max())


filtro_argento = dimproduct['Color'] == "Silver"

table = dimproduct[filtro_taglia & filtro_peso & filtro_argento][['EnglishProductName','StandardCost']]
display(table[ table['StandardCost'].notnull() ])


display(dimproduct[['StandardCost', 'DealerPrice']].tail(20))
print("Differenza\n", dimproduct['DealerPrice'].tail(20) - dimproduct['StandardCost'].tail(20), sep="")





amazon_df = pd.read_csv('amazon.csv')

print("Dimensione del dataset:", amazon_df.shape)
print("\nDieci righe a caso:", amazon_df.sample(10), sep="\n")

print("\nNomi delle colonne:", amazon_df.columns.values, sep="\n")

positive = amazon_df['Positive']

print("\nRecensioni negative:",positive[ positive == 0 ].count())
print("Recensioni positive:",positive[ positive == 1 ].count())





diabetes_df = pd.read_csv('diabetes.csv')

print("Dimensione del dataset:", diabetes_df.shape)
display(Markdown("### 5 righe a caso:"))
display(diabetes_df.sample(5))


from pandas.plotting import scatter_matrix
from sklearn.preprocessing import LabelEncoder

display(diabetes_df.describe())
#display(diabetes.corr())

le = LabelEncoder()
labels = le.fit(diabetes_df.columns)

diabetes_df_copy = diabetes_df.copy()
diabetes_df_copy.columns = labels.transform(diabetes_df.columns)

_ = scatter_matrix(diabetes_df_copy)


fasce_eta = [20, 29, 30, 39, 40, 50]

for i in range(0, len(fasce_eta)-1, 2):
    filtro = diabetes_df['Age (years)'].between(fasce_eta[i], fasce_eta[i+1], inclusive='both')
    p_mean = diabetes_df[filtro]['Diastolic blood pressure (mm Hg)'].mean()
    print(f"Pressione diastolica media per la fascia {fasce_eta[i:i+2]}: ", p_mean)





insurance_df = pd.read_csv('insurance.csv')

print("Dimensione del dataset:", insurance_df.shape)
display(Markdown("### 5 righe a caso:"))
display(insurance_df.sample(5))


for region in insurance_df['region'].unique():
    mean = insurance_df[ insurance_df['region'] == region]['charges'].mean()
    print(f"Media di charges per la regione '{region}': ", mean)


for smoker in insurance_df['smoker'].unique():
    mean = insurance_df[ insurance_df['smoker'] == smoker]['charges'].mean()
    print(f"Media di charges per i {"non " if smoker == 'no' else ""}fumatori: ", mean)


for sex in insurance_df['sex'].unique():
    mean = insurance_df[ insurance_df['sex'] == sex]['charges'].mean()
    print(f"Media di charges per {"uomini" if sex == 'male' else "donne"}: ", mean)


print("Statistica descrittiva di 'bmi':")
print(insurance_df['bmi'].describe())


for i in range(1, 4):
    charges_quart = insurance_df[ insurance_df['bmi'] <= insurance_df['bmi'].quantile( i/4.0 ) ]['charges']
    print(f"Quartile {i/4.0}: \tmin={charges_quart.min()}\tmax={charges_quart.max()}\t  mean={charges_quart.mean()}")





pokemon_df = pd.read_csv('pokemon.csv')

print("Dimensione del dataset:", pokemon_df.shape)
display(Markdown("### 5 righe a caso:"))
display(pokemon_df.sample(5))


# la prima colonna potrebbe essere un'indice?
print("Differenza tra numero di righe e valori unici della prima colonna:")
print(pokemon_df.shape[0] - pokemon_df["#"].nunique(), "valori ripetuti")
display(pokemon_df.tail(4))

# le varianti di uno stesso pokemon hanno indice uguale
pokemon_df.index = pokemon_df["#"]
pokemon_df.pop("#")
display(pokemon_df.tail(4))





filtro_legendary = pokemon_df["Legendary"] == True

display(Markdown("# Pokemon Leggendari:"))
display(pokemon_df[ filtro_legendary ])


filtro_type1_grass = pokemon_df["Type 1"] == "Grass"

display(Markdown("# Pokemon Leggendari di tipo 1 Grass:"))
display(pokemon_df[ filtro_legendary & filtro_type1_grass])


filtro_type1_ice = pokemon_df["Type 1"] == "Ice"
filtro_type1_fire = pokemon_df["Type 1"] == "Fire"

display(Markdown("# Pokemon Leggendari di tipo 1 Ice o Fire:"))
display(pokemon_df[ filtro_legendary & (filtro_type1_ice | filtro_type1_fire) ])


# per non perdere la colonna # la inserisco nel df
pokemon_df.insert(0, "#", pokemon_df.index)
# swap e pop della colonna Name
pokemon_df.index = pokemon_df["Name"]
pokemon_df.pop("Name")
pokemon_df


filtro_attack = pokemon_df["Attack"] > 50
filtro_hp = pokemon_df["HP"] < 60
filtro_gen = pokemon_df["Generation"] == 1

display(Markdown("# Pokemon prima generazione con attacco > 50 e HP < 60:"))
display(pokemon_df[ filtro_gen & filtro_attack & filtro_hp ])
