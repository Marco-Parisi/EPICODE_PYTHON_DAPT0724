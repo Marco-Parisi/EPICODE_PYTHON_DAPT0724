{
 "cells": [
  {
   "cell_type": "markdown",
   "id": "7c25bf28-216b-4baf-80fe-b185f0c8c5b4",
   "metadata": {
    "jp-MarkdownHeadingCollapsed": true
   },
   "source": [
    "# Esercizio 1"
   ]
  },
  {
   "cell_type": "markdown",
   "id": "b72316b4-549d-4d25-ba82-d81a24770364",
   "metadata": {},
   "source": [
    "### Task 1: Ordinare in modo crescente un set di numeri\n",
    "1. Leggo il primo valore valore.\n",
    "2. Confronto il valore corrente con il successivo:\n",
    "3. Se è il valore corrente è piu piccolo del successivo, li scambio di posto e torno al punto 1.\n",
    "4. Vado al valore successivo e torno al punto 2."
   ]
  },
  {
   "cell_type": "code",
   "execution_count": 46,
   "id": "842c3bf0-ef05-4d88-98b1-f9916cc3d76e",
   "metadata": {},
   "outputs": [
    {
     "name": "stdout",
     "output_type": "stream",
     "text": [
      "[-21, -3, 1, 2, 5, 6, 10, 12, 99]\n"
     ]
    }
   ],
   "source": [
    "nums = [1, 5, 2, -3, 10, 99, 12, 6, -21]\n",
    "\n",
    "# 1. Leggo il primo valore e lo salvo\n",
    "saved_num = nums[0]\n",
    "\n",
    "i = 0\n",
    "while i<len(nums)-1:\n",
    "    # 2. Confronto il valore corrente con il successivo\n",
    "    if(nums[i] > nums[i + 1]):      \n",
    "        # 3. Se il valore sucessivo è maggiore di quello corrente, li scambio di posto\n",
    "        saved_num = nums[i] \n",
    "        nums[i] = nums[i + 1]\n",
    "        nums[i + 1] = saved_num\n",
    "        # 3. e torno al primo valore\n",
    "        i = 0\n",
    "    else:\n",
    "        # 4. vado al valore successivo e torno al punto 2\n",
    "        i += 1\n",
    "        \n",
    "print(nums) "
   ]
  },
  {
   "cell_type": "markdown",
   "id": "1e637ad4-60f3-47a7-a4cf-a382bdf82fa2",
   "metadata": {},
   "source": [
    "### Task 2: Trovo il valore mediano di un set di numeri\n",
    "1. Ordino in modo crescente (o decrescente) il set di numeri\n",
    "2. Prendo il valore corrispondente a metà della lista"
   ]
  },
  {
   "cell_type": "code",
   "execution_count": 45,
   "id": "0734b8d4-21a4-49b1-880f-1dc035dc5b0f",
   "metadata": {},
   "outputs": [
    {
     "name": "stdout",
     "output_type": "stream",
     "text": [
      "Mediana: 5\n"
     ]
    }
   ],
   "source": [
    "print(\"Mediana: \" + str(nums[int(len(nums)/2)]))"
   ]
  },
  {
   "cell_type": "markdown",
   "id": "f1a40275-1c30-45d8-9fa6-c20e2df5c7ad",
   "metadata": {
    "jp-MarkdownHeadingCollapsed": true
   },
   "source": [
    "# Esercizio 2 (studenti)"
   ]
  },
  {
   "cell_type": "code",
   "execution_count": 48,
   "id": "3a2d8ac1-d7c3-4f86-b724-9f52e202b0e9",
   "metadata": {},
   "outputs": [
    {
     "name": "stdout",
     "output_type": "stream",
     "text": [
      "['Alice Rossi', 'Luca Bianchi', 'Giulia Verdi', 'Matteo Neri', 'Sara Ferrari', 'Marco Galli', 'Francesca Costa', 'Alessandro Romano', 'Martina Santoro', 'Andrea Russo', 'Chiara Esposito', 'Davide De Luca', 'Elena Greco', 'Giovanni Moretti', 'Anna Fontana', 'Paolo Lombardi', 'Lucia Marini', 'Carlo Ricci', 'Marta Caruso', 'Francesco Rizzo', 'Giovanna Pellegrini', 'Stefano Barbieri', 'Simona Mancini', 'Nicola Marino', 'Federica Conti']\n",
      "['Alice Rossi', 'Luca Bianchi', 'Giulia Verdi', 'Matteo Neri', 'Sara Ferrari', 'Marco Galli', 'Francesca Costa', 'Alessandro Romano', 'Martina Santoro', 'Andrea Russo', 'Chiara Esposito', 'Davide De Luca', 'Elena Greco', 'Giovanni Moretti', 'Anna Fontana', 'Paolo Lombardi', 'Lucia Marini', 'Carlo Ricci', 'Marta Caruso', 'Francesco Rizzo', 'Giovanna Pellegrini', 'Stefano Barbieri', 'Simona Mancini', 'Nicola Marino', 'Federica Conti', 'Mario Rossi', 'Paolo Bonolis', 'Luca Giurato']\n"
     ]
    }
   ],
   "source": [
    "studenti = [\n",
    "    \"Alice Rossi\", \"Luca Bianchi\", \"Giulia Verdi\", \"Matteo Neri\", \"Sara Ferrari\",\n",
    "    \"Marco Galli\", \"Francesca Costa\", \"Alessandro Romano\", \"Martina Santoro\", \"Andrea Russo\",\n",
    "    \"Chiara Esposito\", \"Davide De Luca\", \"Elena Greco\", \"Giovanni Moretti\", \"Anna Fontana\",\n",
    "    \"Paolo Lombardi\", \"Lucia Marini\", \"Carlo Ricci\", \"Marta Caruso\", \"Francesco Rizzo\",\n",
    "    \"Giovanna Pellegrini\", \"Stefano Barbieri\", \"Simona Mancini\", \"Nicola Marino\", \"Federica Conti\"\n",
    "]\n",
    "\n",
    "print(studenti)\n",
    "\n",
    "studenti_aggiuntivi = [ \"Mario Rossi\", \"Paolo Bonolis\", \"Luca Giurato\"]\n",
    "\n",
    "studenti_complessivi = studenti + studenti_aggiuntivi\n",
    "print(studenti_complessivi)"
   ]
  },
  {
   "cell_type": "markdown",
   "id": "8f9682ba-e5f2-43d6-9ad4-6f03c771f048",
   "metadata": {
    "jp-MarkdownHeadingCollapsed": true
   },
   "source": [
    "# Esercizio 3"
   ]
  },
  {
   "cell_type": "code",
   "execution_count": 49,
   "id": "8e07809e-66d6-4487-be8c-d7379046335c",
   "metadata": {},
   "outputs": [
    {
     "name": "stdout",
     "output_type": "stream",
     "text": [
      "Epicode\n"
     ]
    }
   ],
   "source": [
    "epicode = \"Epicode\"\n",
    "print(epicode)"
   ]
  },
  {
   "cell_type": "markdown",
   "id": "61152b63-a3a8-4032-943e-57a8a8fae761",
   "metadata": {
    "jp-MarkdownHeadingCollapsed": true
   },
   "source": [
    "# Esercizio 4"
   ]
  },
  {
   "cell_type": "code",
   "execution_count": 50,
   "id": "4587e723-65f6-4b46-941c-e5098543e488",
   "metadata": {},
   "outputs": [
    {
     "name": "stdout",
     "output_type": "stream",
     "text": [
      "10\n",
      "12\n",
      "36\n"
     ]
    }
   ],
   "source": [
    "x = 10\n",
    "print(x)\n",
    "x += 2\n",
    "print(x)\n",
    "x *= 3\n",
    "print(x)"
   ]
  },
  {
   "cell_type": "markdown",
   "id": "97967d80-b527-400e-a692-77327c85363c",
   "metadata": {
    "jp-MarkdownHeadingCollapsed": true
   },
   "source": [
    "# Esercizio 5"
   ]
  },
  {
   "cell_type": "code",
   "execution_count": 51,
   "id": "86f73ea1-245a-45d1-bde3-7c930b297c3a",
   "metadata": {},
   "outputs": [
    {
     "name": "stdout",
     "output_type": "stream",
     "text": [
      "7\n",
      "5\n",
      "10\n",
      "4\n"
     ]
    }
   ],
   "source": [
    "str1 = \"Windows\"\n",
    "str2 = \"Excel\"\n",
    "str3 = \"Powerpoint\"\n",
    "str4 = \"Word\"\n",
    "\n",
    "print(len(str1))\n",
    "print(len(str2))\n",
    "print(len(str3))\n",
    "print(len(str4))"
   ]
  },
  {
   "cell_type": "markdown",
   "id": "db126c1a-1cef-49fd-b083-71b4b530c05c",
   "metadata": {
    "jp-MarkdownHeadingCollapsed": true
   },
   "source": [
    "# Esercizio 6"
   ]
  },
  {
   "cell_type": "code",
   "execution_count": 66,
   "id": "838d6ac8-5f8e-4a1b-85b5-15a788a90abe",
   "metadata": {},
   "outputs": [
    {
     "name": "stdout",
     "output_type": "stream",
     "text": [
      "Secondi in un anno civile: 126144000\n",
      "Secondi in un anno bisestile: 31622400\n",
      "Differenza anno civile-anno solare: 86106.78500000015\n",
      "Secondi in un giorno: 86400\n"
     ]
    }
   ],
   "source": [
    "print(\"Secondi in un anno civile: \" + str(4 * 365 * 24 * 3600))\n",
    "print(\"Secondi in un anno bisestile: \" + str(366 * 24 * 3600))\n",
    "print(\"Differenza anno civile-anno solare: \" + str( (365 * 24 * 3600) - (365 * ((23 * 3600) + 3364.091)) ))\n",
    "print(\"Secondi in un giorno: \" + str(1 * 24 * 3600))"
   ]
  },
  {
   "cell_type": "markdown",
   "id": "fda169e7-8a33-4439-acf5-84065140421d",
   "metadata": {},
   "source": [
    "# Esercizio 7"
   ]
  },
  {
   "cell_type": "code",
   "execution_count": 76,
   "id": "e038cde2-d423-43fe-b5b4-440fa5d54cf4",
   "metadata": {},
   "outputs": [
    {
     "name": "stdout",
     "output_type": "stream",
     "text": [
      "I am studying Python,\n",
      "I AM STUDYING PYTHON,\n",
      "i am studying python,\n",
      "I am studying a lot,\n",
      "I am studying a lot\n",
      "['I', 'am', 'studying', 'a', 'lot,']\n"
     ]
    }
   ],
   "source": [
    "my_string = \"I am studying Python,\"\n",
    "print(my_string)\n",
    "\n",
    "my_string_upper = my_string.upper();\n",
    "print(my_string_upper)\n",
    "\n",
    "my_string_lower = my_string.lower();\n",
    "print(my_string_lower)\n",
    "\n",
    "my_string = my_string.replace(\"Python\", \"a lot\")\n",
    "print(my_string)\n",
    "\n",
    "print(my_string.strip(\",\"))\n",
    "\n",
    "print(my_string.split(\" \"))"
   ]
  },
  {
   "cell_type": "markdown",
   "id": "7331272b-a36f-4fd5-bfa5-62017022572b",
   "metadata": {},
   "source": [
    "# Esercizio 8"
   ]
  },
  {
   "cell_type": "code",
   "execution_count": null,
   "id": "c61c3491-c7f6-478e-a648-6e701e98e8b3",
   "metadata": {},
   "outputs": [],
   "source": [
    "studenti = [\"Alex\", \"Bob\", \"Cindy\", \"Dan\", \"Emma\", \"Faith\", \"Grace\", \"Henry\"]\n",
    "corsi = [\"Cybersecurity\", \"Data Analyst\", \"Backend\", \"Frontend\", \"Data Analyst\", \"Backend\"]\n"
   ]
  }
 ],
 "metadata": {
  "kernelspec": {
   "display_name": "Python 3 (ipykernel)",
   "language": "python",
   "name": "python3"
  },
  "language_info": {
   "codemirror_mode": {
    "name": "ipython",
    "version": 3
   },
   "file_extension": ".py",
   "mimetype": "text/x-python",
   "name": "python",
   "nbconvert_exporter": "python",
   "pygments_lexer": "ipython3",
   "version": "3.12.7"
  }
 },
 "nbformat": 4,
 "nbformat_minor": 5
}
