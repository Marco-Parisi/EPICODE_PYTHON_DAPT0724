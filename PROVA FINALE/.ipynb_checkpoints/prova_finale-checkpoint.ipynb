{
 "cells": [
  {
   "cell_type": "markdown",
   "id": "8b26f9a6-404c-4461-b2b1-4c4e42f6431a",
   "metadata": {},
   "source": [
    "# Analisi Diffusione COVID-19 \n",
    "Il committente richiede di avere un report su casi e vaccinazioni in diverse aree del mondo; a tal fine, richiede di utilizzare il dataset, curato da Our World in Data, all'indirizzo https://github.com/owid/covid-19-data/tree/master/public/data alla voce \" ! Download our complete COVID-19 dataset\" scaricare il dataset nel formato che si preferisce."
   ]
  },
  {
   "cell_type": "markdown",
   "id": "e26bade7-6e78-4cc9-a54c-d0b3d1925ee0",
   "metadata": {
    "jp-MarkdownHeadingCollapsed": true
   },
   "source": [
    "## Import e utility"
   ]
  },
  {
   "cell_type": "code",
   "execution_count": 40,
   "id": "d8184b81-9d5a-431f-8c54-b845479a644d",
   "metadata": {},
   "outputs": [],
   "source": [
    "import requests\n",
    "import numpy as np\n",
    "import pandas as pd\n",
    "import seaborn as sns\n",
    "import matplotlib as mpl\n",
    "import matplotlib.pyplot as plt\n",
    "import matplotlib.ticker as mtick\n",
    "\n",
    "# style del grafico\n",
    "mpl.rcParams[\"axes.formatter.use_mathtext\"] = True\n",
    "mpl.rcParams['font.size'] = 12\n",
    "mpl.rcParams['legend.facecolor'] = 'white'\n",
    "sns.set_style(\"darkgrid\", {'grid.color': \".6\", 'grid.linestyle' : \":\", 'axes.edgecolor': 'gray'})"
   ]
  },
  {
   "cell_type": "markdown",
   "id": "78337ea5-b036-498e-9301-8037b1eabb68",
   "metadata": {},
   "source": [
    "## 1. Si richiede di verificare le dimensioni del dataset e i relativi metadati"
   ]
  },
  {
   "cell_type": "markdown",
   "id": "9056765c-1af2-4f9d-a0bf-162cbf4855e2",
   "metadata": {},
   "source": [
    "### Caricamento ed esplorazione del dataset"
   ]
  },
  {
   "cell_type": "code",
   "execution_count": 41,
   "id": "56c4a5e2-1c80-49cd-830d-d9619ed15663",
   "metadata": {},
   "outputs": [
    {
     "ename": "FileNotFoundError",
     "evalue": "[Errno 2] No such file or directory: 'owid-covid-data.csv'",
     "output_type": "error",
     "traceback": [
      "\u001b[1;31m---------------------------------------------------------------------------\u001b[0m",
      "\u001b[1;31mFileNotFoundError\u001b[0m                         Traceback (most recent call last)",
      "Cell \u001b[1;32mIn[41], line 1\u001b[0m\n\u001b[1;32m----> 1\u001b[0m covid_df \u001b[38;5;241m=\u001b[39m pd\u001b[38;5;241m.\u001b[39mread_csv(\u001b[38;5;124m'\u001b[39m\u001b[38;5;124mowid-covid-data.csv\u001b[39m\u001b[38;5;124m'\u001b[39m)\n\u001b[0;32m      3\u001b[0m \u001b[38;5;66;03m# stampa dello shape del dataset per verificare il numero di righe e di colonne\u001b[39;00m\n\u001b[0;32m      4\u001b[0m \u001b[38;5;28mprint\u001b[39m(\u001b[38;5;124mf\u001b[39m\u001b[38;5;124m'\u001b[39m\u001b[38;5;124mDimensioni del dataset (righe, colonne) --> \u001b[39m\u001b[38;5;132;01m{\u001b[39;00mcovid_df\u001b[38;5;241m.\u001b[39mshape\u001b[38;5;132;01m}\u001b[39;00m\u001b[38;5;130;01m\\n\u001b[39;00m\u001b[38;5;124m'\u001b[39m)\n",
      "File \u001b[1;32m~\\anaconda3\\Lib\\site-packages\\pandas\\io\\parsers\\readers.py:1026\u001b[0m, in \u001b[0;36mread_csv\u001b[1;34m(filepath_or_buffer, sep, delimiter, header, names, index_col, usecols, dtype, engine, converters, true_values, false_values, skipinitialspace, skiprows, skipfooter, nrows, na_values, keep_default_na, na_filter, verbose, skip_blank_lines, parse_dates, infer_datetime_format, keep_date_col, date_parser, date_format, dayfirst, cache_dates, iterator, chunksize, compression, thousands, decimal, lineterminator, quotechar, quoting, doublequote, escapechar, comment, encoding, encoding_errors, dialect, on_bad_lines, delim_whitespace, low_memory, memory_map, float_precision, storage_options, dtype_backend)\u001b[0m\n\u001b[0;32m   1013\u001b[0m kwds_defaults \u001b[38;5;241m=\u001b[39m _refine_defaults_read(\n\u001b[0;32m   1014\u001b[0m     dialect,\n\u001b[0;32m   1015\u001b[0m     delimiter,\n\u001b[1;32m   (...)\u001b[0m\n\u001b[0;32m   1022\u001b[0m     dtype_backend\u001b[38;5;241m=\u001b[39mdtype_backend,\n\u001b[0;32m   1023\u001b[0m )\n\u001b[0;32m   1024\u001b[0m kwds\u001b[38;5;241m.\u001b[39mupdate(kwds_defaults)\n\u001b[1;32m-> 1026\u001b[0m \u001b[38;5;28;01mreturn\u001b[39;00m _read(filepath_or_buffer, kwds)\n",
      "File \u001b[1;32m~\\anaconda3\\Lib\\site-packages\\pandas\\io\\parsers\\readers.py:620\u001b[0m, in \u001b[0;36m_read\u001b[1;34m(filepath_or_buffer, kwds)\u001b[0m\n\u001b[0;32m    617\u001b[0m _validate_names(kwds\u001b[38;5;241m.\u001b[39mget(\u001b[38;5;124m\"\u001b[39m\u001b[38;5;124mnames\u001b[39m\u001b[38;5;124m\"\u001b[39m, \u001b[38;5;28;01mNone\u001b[39;00m))\n\u001b[0;32m    619\u001b[0m \u001b[38;5;66;03m# Create the parser.\u001b[39;00m\n\u001b[1;32m--> 620\u001b[0m parser \u001b[38;5;241m=\u001b[39m TextFileReader(filepath_or_buffer, \u001b[38;5;241m*\u001b[39m\u001b[38;5;241m*\u001b[39mkwds)\n\u001b[0;32m    622\u001b[0m \u001b[38;5;28;01mif\u001b[39;00m chunksize \u001b[38;5;129;01mor\u001b[39;00m iterator:\n\u001b[0;32m    623\u001b[0m     \u001b[38;5;28;01mreturn\u001b[39;00m parser\n",
      "File \u001b[1;32m~\\anaconda3\\Lib\\site-packages\\pandas\\io\\parsers\\readers.py:1620\u001b[0m, in \u001b[0;36mTextFileReader.__init__\u001b[1;34m(self, f, engine, **kwds)\u001b[0m\n\u001b[0;32m   1617\u001b[0m     \u001b[38;5;28mself\u001b[39m\u001b[38;5;241m.\u001b[39moptions[\u001b[38;5;124m\"\u001b[39m\u001b[38;5;124mhas_index_names\u001b[39m\u001b[38;5;124m\"\u001b[39m] \u001b[38;5;241m=\u001b[39m kwds[\u001b[38;5;124m\"\u001b[39m\u001b[38;5;124mhas_index_names\u001b[39m\u001b[38;5;124m\"\u001b[39m]\n\u001b[0;32m   1619\u001b[0m \u001b[38;5;28mself\u001b[39m\u001b[38;5;241m.\u001b[39mhandles: IOHandles \u001b[38;5;241m|\u001b[39m \u001b[38;5;28;01mNone\u001b[39;00m \u001b[38;5;241m=\u001b[39m \u001b[38;5;28;01mNone\u001b[39;00m\n\u001b[1;32m-> 1620\u001b[0m \u001b[38;5;28mself\u001b[39m\u001b[38;5;241m.\u001b[39m_engine \u001b[38;5;241m=\u001b[39m \u001b[38;5;28mself\u001b[39m\u001b[38;5;241m.\u001b[39m_make_engine(f, \u001b[38;5;28mself\u001b[39m\u001b[38;5;241m.\u001b[39mengine)\n",
      "File \u001b[1;32m~\\anaconda3\\Lib\\site-packages\\pandas\\io\\parsers\\readers.py:1880\u001b[0m, in \u001b[0;36mTextFileReader._make_engine\u001b[1;34m(self, f, engine)\u001b[0m\n\u001b[0;32m   1878\u001b[0m     \u001b[38;5;28;01mif\u001b[39;00m \u001b[38;5;124m\"\u001b[39m\u001b[38;5;124mb\u001b[39m\u001b[38;5;124m\"\u001b[39m \u001b[38;5;129;01mnot\u001b[39;00m \u001b[38;5;129;01min\u001b[39;00m mode:\n\u001b[0;32m   1879\u001b[0m         mode \u001b[38;5;241m+\u001b[39m\u001b[38;5;241m=\u001b[39m \u001b[38;5;124m\"\u001b[39m\u001b[38;5;124mb\u001b[39m\u001b[38;5;124m\"\u001b[39m\n\u001b[1;32m-> 1880\u001b[0m \u001b[38;5;28mself\u001b[39m\u001b[38;5;241m.\u001b[39mhandles \u001b[38;5;241m=\u001b[39m get_handle(\n\u001b[0;32m   1881\u001b[0m     f,\n\u001b[0;32m   1882\u001b[0m     mode,\n\u001b[0;32m   1883\u001b[0m     encoding\u001b[38;5;241m=\u001b[39m\u001b[38;5;28mself\u001b[39m\u001b[38;5;241m.\u001b[39moptions\u001b[38;5;241m.\u001b[39mget(\u001b[38;5;124m\"\u001b[39m\u001b[38;5;124mencoding\u001b[39m\u001b[38;5;124m\"\u001b[39m, \u001b[38;5;28;01mNone\u001b[39;00m),\n\u001b[0;32m   1884\u001b[0m     compression\u001b[38;5;241m=\u001b[39m\u001b[38;5;28mself\u001b[39m\u001b[38;5;241m.\u001b[39moptions\u001b[38;5;241m.\u001b[39mget(\u001b[38;5;124m\"\u001b[39m\u001b[38;5;124mcompression\u001b[39m\u001b[38;5;124m\"\u001b[39m, \u001b[38;5;28;01mNone\u001b[39;00m),\n\u001b[0;32m   1885\u001b[0m     memory_map\u001b[38;5;241m=\u001b[39m\u001b[38;5;28mself\u001b[39m\u001b[38;5;241m.\u001b[39moptions\u001b[38;5;241m.\u001b[39mget(\u001b[38;5;124m\"\u001b[39m\u001b[38;5;124mmemory_map\u001b[39m\u001b[38;5;124m\"\u001b[39m, \u001b[38;5;28;01mFalse\u001b[39;00m),\n\u001b[0;32m   1886\u001b[0m     is_text\u001b[38;5;241m=\u001b[39mis_text,\n\u001b[0;32m   1887\u001b[0m     errors\u001b[38;5;241m=\u001b[39m\u001b[38;5;28mself\u001b[39m\u001b[38;5;241m.\u001b[39moptions\u001b[38;5;241m.\u001b[39mget(\u001b[38;5;124m\"\u001b[39m\u001b[38;5;124mencoding_errors\u001b[39m\u001b[38;5;124m\"\u001b[39m, \u001b[38;5;124m\"\u001b[39m\u001b[38;5;124mstrict\u001b[39m\u001b[38;5;124m\"\u001b[39m),\n\u001b[0;32m   1888\u001b[0m     storage_options\u001b[38;5;241m=\u001b[39m\u001b[38;5;28mself\u001b[39m\u001b[38;5;241m.\u001b[39moptions\u001b[38;5;241m.\u001b[39mget(\u001b[38;5;124m\"\u001b[39m\u001b[38;5;124mstorage_options\u001b[39m\u001b[38;5;124m\"\u001b[39m, \u001b[38;5;28;01mNone\u001b[39;00m),\n\u001b[0;32m   1889\u001b[0m )\n\u001b[0;32m   1890\u001b[0m \u001b[38;5;28;01massert\u001b[39;00m \u001b[38;5;28mself\u001b[39m\u001b[38;5;241m.\u001b[39mhandles \u001b[38;5;129;01mis\u001b[39;00m \u001b[38;5;129;01mnot\u001b[39;00m \u001b[38;5;28;01mNone\u001b[39;00m\n\u001b[0;32m   1891\u001b[0m f \u001b[38;5;241m=\u001b[39m \u001b[38;5;28mself\u001b[39m\u001b[38;5;241m.\u001b[39mhandles\u001b[38;5;241m.\u001b[39mhandle\n",
      "File \u001b[1;32m~\\anaconda3\\Lib\\site-packages\\pandas\\io\\common.py:873\u001b[0m, in \u001b[0;36mget_handle\u001b[1;34m(path_or_buf, mode, encoding, compression, memory_map, is_text, errors, storage_options)\u001b[0m\n\u001b[0;32m    868\u001b[0m \u001b[38;5;28;01melif\u001b[39;00m \u001b[38;5;28misinstance\u001b[39m(handle, \u001b[38;5;28mstr\u001b[39m):\n\u001b[0;32m    869\u001b[0m     \u001b[38;5;66;03m# Check whether the filename is to be opened in binary mode.\u001b[39;00m\n\u001b[0;32m    870\u001b[0m     \u001b[38;5;66;03m# Binary mode does not support 'encoding' and 'newline'.\u001b[39;00m\n\u001b[0;32m    871\u001b[0m     \u001b[38;5;28;01mif\u001b[39;00m ioargs\u001b[38;5;241m.\u001b[39mencoding \u001b[38;5;129;01mand\u001b[39;00m \u001b[38;5;124m\"\u001b[39m\u001b[38;5;124mb\u001b[39m\u001b[38;5;124m\"\u001b[39m \u001b[38;5;129;01mnot\u001b[39;00m \u001b[38;5;129;01min\u001b[39;00m ioargs\u001b[38;5;241m.\u001b[39mmode:\n\u001b[0;32m    872\u001b[0m         \u001b[38;5;66;03m# Encoding\u001b[39;00m\n\u001b[1;32m--> 873\u001b[0m         handle \u001b[38;5;241m=\u001b[39m \u001b[38;5;28mopen\u001b[39m(\n\u001b[0;32m    874\u001b[0m             handle,\n\u001b[0;32m    875\u001b[0m             ioargs\u001b[38;5;241m.\u001b[39mmode,\n\u001b[0;32m    876\u001b[0m             encoding\u001b[38;5;241m=\u001b[39mioargs\u001b[38;5;241m.\u001b[39mencoding,\n\u001b[0;32m    877\u001b[0m             errors\u001b[38;5;241m=\u001b[39merrors,\n\u001b[0;32m    878\u001b[0m             newline\u001b[38;5;241m=\u001b[39m\u001b[38;5;124m\"\u001b[39m\u001b[38;5;124m\"\u001b[39m,\n\u001b[0;32m    879\u001b[0m         )\n\u001b[0;32m    880\u001b[0m     \u001b[38;5;28;01melse\u001b[39;00m:\n\u001b[0;32m    881\u001b[0m         \u001b[38;5;66;03m# Binary mode\u001b[39;00m\n\u001b[0;32m    882\u001b[0m         handle \u001b[38;5;241m=\u001b[39m \u001b[38;5;28mopen\u001b[39m(handle, ioargs\u001b[38;5;241m.\u001b[39mmode)\n",
      "\u001b[1;31mFileNotFoundError\u001b[0m: [Errno 2] No such file or directory: 'owid-covid-data.csv'"
     ]
    }
   ],
   "source": [
    "covid_df = pd.read_csv('owid-covid-data.csv')\n",
    "\n",
    "# stampa dello shape del dataset per verificare il numero di righe e di colonne\n",
    "print(f'Dimensioni del dataset (righe, colonne) --> {covid_df.shape}\\n')\n",
    "\n",
    "# 3 righe casuali\n",
    "display(covid_df.sample(3))"
   ]
  },
  {
   "cell_type": "markdown",
   "id": "52a638d1-c4a0-4c03-8ff4-253499060fd5",
   "metadata": {},
   "source": [
    "#### Stampa dei Metadati"
   ]
  },
  {
   "cell_type": "code",
   "execution_count": null,
   "id": "97d6d9b7-9f47-4aad-9738-02a0131be078",
   "metadata": {},
   "outputs": [],
   "source": [
    "# get delle descrizioni dei metadati sul README.md di github\n",
    "try:\n",
    "    dataset_readme = requests.get('https://raw.githubusercontent.com/owid/covid-19-data/refs/heads/master/public/data/README.md').text\n",
    "except:\n",
    "    dataset_readme = meta_info = ''\n",
    "    \n",
    "# stampa dei metadati    \n",
    "print(\"METADATI:\")\n",
    "for meta in sorted(covid_df.columns.values):\n",
    "    \n",
    "    if dataset_readme:\n",
    "        meta_info = dataset_readme[dataset_readme.index(f'`{meta}`'):]\n",
    "        meta_info = meta_info[meta_info.index('|') + 1:]\n",
    "        meta_info = ' -->' + meta_info[:meta_info.index('|') - 1]\n",
    "\n",
    "    print('-'*len(meta))\n",
    "    print(f'\\033[01m{meta}\\033[0m\\033[31m{meta_info}\\033[0m')"
   ]
  },
  {
   "cell_type": "markdown",
   "id": "c2dafb17-7ef3-4588-8834-d260256568f5",
   "metadata": {},
   "source": [
    "## 2. Si chiede di trovare, per ogni continente:"
   ]
  },
  {
   "cell_type": "markdown",
   "id": "ebeb033d-885f-4e87-a16c-78f347d61b14",
   "metadata": {},
   "source": [
    "### a. il numero di casi fin dall'inizio della pandemia"
   ]
  },
  {
   "cell_type": "code",
   "execution_count": null,
   "id": "6d3d75cb-0d2d-40f3-8526-153eedbf989e",
   "metadata": {},
   "outputs": [],
   "source": [
    "# check dei valori nella colonna 'continent'\n",
    "covid_df.continent.unique()"
   ]
  },
  {
   "cell_type": "code",
   "execution_count": null,
   "id": "d072712f-bd7f-4758-abd4-b723c7ee436a",
   "metadata": {},
   "outputs": [],
   "source": [
    "# raggruppamento per continente con aggregazione 'somma'\n",
    "# il valore 'nan' non viene considerato nel raggruppamento\n",
    "cont_tot_cases = covid_df.groupby('continent').new_cases.sum()\n",
    "print(\"Numero di casi per ogni continente dall'inizio della pandemia:\",\n",
    "      cont_tot_cases.astype(int).to_string().replace('continent','\\n'))"
   ]
  },
  {
   "cell_type": "markdown",
   "id": "f61d226e-db8a-42bc-85f2-f341d2ba4cd2",
   "metadata": {},
   "source": [
    "### - Analisi dettagliata della colonna 'continent'"
   ]
  },
  {
   "cell_type": "code",
   "execution_count": null,
   "id": "48ffa9b7-c127-4cff-8818-306beb0a16a9",
   "metadata": {},
   "outputs": [],
   "source": [
    "# check dei valori della colonna 'location' in corrispondenza per i valori nulli di 'continent'\n",
    "covid_df[ covid_df.continent.isna() == True ].location.unique()"
   ]
  },
  {
   "cell_type": "code",
   "execution_count": null,
   "id": "f1c82a57-76b6-4600-a0ce-e84317e33173",
   "metadata": {},
   "outputs": [],
   "source": [
    "# raggruppamento con aggregazione 'somma' su new_cases per i valori 'nan' di 'continent'\n",
    "cont_nan_loc = covid_df[ covid_df.continent.isna() == True ].groupby('location').new_cases.sum()\n",
    "cont_nan_loc.astype(int)"
   ]
  },
  {
   "cell_type": "code",
   "execution_count": null,
   "id": "b12bd48d-fab3-4cfd-a3f3-36a1beada9c2",
   "metadata": {},
   "outputs": [],
   "source": [
    "print(f'Analisi raggruppamento \\'continent\\' uguale a \\'nan\\':')\n",
    "print(f' - totale per i valori di \\'location\\' uguali a \\'world\\':\\t\\t {cont_nan_loc.iloc[-1]:.0f}')\n",
    "print(f' - totale per i valori di \\'location\\' nella colonna \\'continent\\':\\t {cont_nan_loc[cont_tot_cases.index].sum():.0f}')\n",
    "print(f'Somma dei casi per continente (visti in precedenza):\\t\\t {cont_tot_cases.sum():.0f}')"
   ]
  },
  {
   "cell_type": "markdown",
   "id": "a087f728-1bb4-48cd-9cf8-8f46796f5411",
   "metadata": {},
   "source": [
    "<font size=\"4\">Come si può vedere, i totali corrispondono e quindi il valore *nan* nella colonna continent probabilmente indica una raccolta dati diversificata rispetto al resto del dataset.</font>"
   ]
  },
  {
   "cell_type": "code",
   "execution_count": null,
   "id": "12e3163b-4db8-4936-9906-c49a8e2374b8",
   "metadata": {},
   "outputs": [],
   "source": [
    "# drop dei valori nulli\n",
    "covid_df = covid_df.dropna(subset='continent')\n",
    "covid_df.continent.isna().value_counts()"
   ]
  },
  {
   "cell_type": "markdown",
   "id": "12790b9a-bcae-4624-a401-8a2477dcb02d",
   "metadata": {
    "jp-MarkdownHeadingCollapsed": true
   },
   "source": [
    "### b. la percentuale rispetto al totale mondiale del numero di casi"
   ]
  },
  {
   "cell_type": "code",
   "execution_count": null,
   "id": "ae61ee9e-3afd-40de-9ddb-a71346315304",
   "metadata": {},
   "outputs": [],
   "source": [
    "# calcolo della percentuale dei casi per continente\n",
    "cont_tot_cases = (cont_tot_cases / cont_tot_cases.sum() * 100)\n",
    "print('Percentuale dei casi totali nel mondo divisi per continente:', (round(cont_tot_cases, 2).astype(str) + ' %').to_string().replace('continent', ''))\n",
    "\n",
    "# plot\n",
    "plt.figure(figsize=(8,4.5))\n",
    "ax = sns.barplot(cont_tot_cases.to_frame(), x='continent', y='new_cases', hue='continent', hatch='...', alpha=0.7)\n",
    "\n",
    "# percentuali nel barplot\n",
    "for cont in ax.containers:\n",
    "    ax.bar_label(cont, fmt='%.2f%%', weight='bold', fontname='Consolas', size=14)\n",
    "    \n",
    "# labels degli assi\n",
    "ax.set(xlabel='', ylabel='Total cases')\n",
    "ax.yaxis.set_major_formatter(mtick.FormatStrFormatter('%1.0f%%'))\n",
    "plt.margins(y=0.1)\n",
    "plt.show()"
   ]
  },
  {
   "cell_type": "markdown",
   "id": "6a996d0b-ee91-49a0-b7d5-24af6772e57a",
   "metadata": {
    "jp-MarkdownHeadingCollapsed": true
   },
   "source": [
    "## 3. Selezionare i dati relativi all'Italia nel 2022 e mostrare con dei grafici adeguati:"
   ]
  },
  {
   "cell_type": "markdown",
   "id": "5b495929-8fdb-4083-8050-23bb2cd69bd9",
   "metadata": {
    "jp-MarkdownHeadingCollapsed": true
   },
   "source": [
    "### a. l'evoluzione del casi totali dall'inizio alla fine dell'anno"
   ]
  },
  {
   "cell_type": "code",
   "execution_count": null,
   "id": "913f5da2-962d-4208-81cc-effbf1f263b2",
   "metadata": {},
   "outputs": [],
   "source": [
    "# check valori nulli sulle date\n",
    "covid_df.date.isna().value_counts()"
   ]
  },
  {
   "cell_type": "code",
   "execution_count": null,
   "id": "3f93988f-a3ce-4d89-83f9-1ce9765c51f4",
   "metadata": {},
   "outputs": [],
   "source": [
    "# conversione colonna 'date' in datetime\n",
    "covid_df.date = pd.to_datetime(covid_df.date)"
   ]
  },
  {
   "cell_type": "code",
   "execution_count": null,
   "id": "fadd15fd-6a95-41f7-825f-60a91bb9e8d6",
   "metadata": {},
   "outputs": [],
   "source": [
    "# filtri per data = 2022 e per location = Italy\n",
    "date_flt = covid_df.date.dt.year == 2022\n",
    "italy_flt = covid_df.location.str.contains('Italy')\n",
    "\n",
    "# plot\n",
    "covid_df[ date_flt & italy_flt ].plot( x = 'date', y = 'total_cases', figsize=(7,4.5))\n",
    "plt.legend(loc='upper left', labels=['Total Cases'])\n",
    "plt.title('Evoluzione dei casi totali in Italia nel 2022', fontsize=12, fontweight='bold', fontname='Consolas')\n",
    "plt.xlabel('Date')\n",
    "plt.show()"
   ]
  },
  {
   "cell_type": "markdown",
   "id": "4345d90f-7010-4e92-b151-9d0d17287f2e",
   "metadata": {
    "jp-MarkdownHeadingCollapsed": true
   },
   "source": [
    "### b. il numero di nuovi casi rispetto alla data; poiché i nuovi casi vengono registrati settimanalmente, filtrare via i dati che non hanno misurazioni"
   ]
  },
  {
   "cell_type": "code",
   "execution_count": null,
   "id": "4da8cc4a-92c7-4b72-8e28-7aa9d77c5bc5",
   "metadata": {},
   "outputs": [],
   "source": [
    "# filtri per i dati uguali a 0\n",
    "new_cases_flt = covid_df[ date_flt & italy_flt ].new_cases != 0\n",
    "\n",
    "# plot\n",
    "covid_df[ date_flt & italy_flt & new_cases_flt ].plot( x = 'date', y = 'new_cases', figsize=(7,4.5))\n",
    "plt.legend(loc='upper right', labels=['New Cases'])\n",
    "plt.title('Andamento dei nuovi casi in Italia nel 2022', fontsize=12, fontweight='bold', fontname='Consolas')\n",
    "plt.xlabel('Date')\n",
    "plt.show()"
   ]
  },
  {
   "cell_type": "markdown",
   "id": "f1ef1cd9-933b-46a3-ad04-256e01d2e722",
   "metadata": {
    "jp-MarkdownHeadingCollapsed": true
   },
   "source": [
    "## 4. Riguardo le nazioni di Italia, Germania e Francia mostrare in un boxplot la differenza tra queste nazioni riguardo il numero di pazienti in terapia intensiva (Intensive Care Unit, ICU) da maggio 2022 (incluso) ad aprile 2023 (incluso)"
   ]
  },
  {
   "cell_type": "code",
   "execution_count": null,
   "id": "72f5add1-c0b4-4f0d-98e3-d9ef6efa0219",
   "metadata": {},
   "outputs": [],
   "source": [
    "# filtro per le date richieste\n",
    "start_date_flt = covid_df.date >= pd.to_datetime(\"2022/05/01\")\n",
    "end_date_flt = covid_df.date <= pd.to_datetime(\"2023/04/01\")\n",
    "date_flt = start_date_flt & end_date_flt\n",
    "\n",
    "# filtro per le nazioni richieste\n",
    "loc_flt = covid_df.location.str.contains('Italy|Germany|France')\n",
    "\n",
    "# boxplot\n",
    "fig, ax = plt.subplots(1, 2, figsize=(9,6), width_ratios=[3, 1.25], sharey=True)\n",
    "plt.subplots_adjust(wspace = 0.05)\n",
    "fig.suptitle('Differenza pazienti ICU dal 05/2022 al 04/2023', fontsize=12, fontweight='bold', y=0.925, fontname='Consolas')\n",
    "\n",
    "sns.boxplot(covid_df[ loc_flt & date_flt ], y='icu_patients', x='location', hue='location', ax=ax[0], boxprops=dict(alpha=.6))\n",
    "ax[0].set(ylabel = 'ICU Patients', xlabel = '')\n",
    "ax[0].xaxis.tick_bottom()\n",
    "ax[0].yaxis.tick_left() \n",
    "\n",
    "# istogramma\n",
    "sns.histplot(covid_df[ loc_flt & date_flt ], y='icu_patients', hue='location', bins=30, ax=ax[1]).set(ylabel='')\n",
    "ax[1].get_legend().set_title('')\n",
    "ax[1].yaxis.tick_left() \n",
    "ax[1].yaxis.set_label_position(\"right\")\n",
    "plt.show()"
   ]
  },
  {
   "cell_type": "markdown",
   "id": "0e4b5560-1964-4f91-b4ab-43b9238fbd20",
   "metadata": {
    "jp-MarkdownHeadingCollapsed": true
   },
   "source": [
    "### a. scrivere un breve commento a riguardo"
   ]
  },
  {
   "cell_type": "markdown",
   "id": "0a1a166e-f679-49b7-be18-3c5904f88adb",
   "metadata": {},
   "source": [
    "<font size=\"4\">**Commento**: la colonna `icu_patients` riporta giornalmente il numero di pazienti in terapia intensiva, dal grafico si può osservare che l'*Italia* presenta un numero di pazienti inferiore rispetto a *Francia* e *Germania*. Tale differenza viene confermata anche dal grafico sottostante, che riporta l'andamento temporale dei pazienti e la somma totale.</font>"
   ]
  },
  {
   "cell_type": "code",
   "execution_count": null,
   "id": "eaf48d2c-0ca3-476d-a4b9-48a133583834",
   "metadata": {},
   "outputs": [],
   "source": [
    "fig, ax = plt.subplots(1, 2, figsize=(9,6), width_ratios=[3, 1.25])\n",
    "plt.subplots_adjust(wspace = 0.05)\n",
    "fig.suptitle('Andamento dei pazienti ICU dal 05/2022 al 04/2023', fontsize=14, fontweight='bold', y=0.925, fontname='Consolas')\n",
    "\n",
    "# plot andamento 'icu_patients' per ogni nazione\n",
    "sns.lineplot(covid_df[ loc_flt & date_flt ], x='date', y='icu_patients', hue='location', ax=ax[0]).set(xlabel='', ylabel='ICU Patients')\n",
    "ax[0].legend(title='')\n",
    "\n",
    "# plot grafico a barre del totale di 'icu_patients' per ogni nazione\n",
    "sns.barplot(covid_df[ loc_flt & date_flt ], hatch='...', x='location', y='icu_patients',\n",
    "                 hue='location', estimator='sum', alpha=0.7, errorbar=None, ax=ax[1])\n",
    "ax[1].set(xlabel='', ylabel='Total ICU Patients')\n",
    "ax[1].yaxis.set_label_position(\"right\")\n",
    "ax[1].yaxis.tick_right()\n",
    "ax[1].ticklabel_format(axis=\"y\", style=\"sci\", scilimits=(0,0))\n",
    "\n",
    "# scritte del totale sulle barre\n",
    "for cont in ax[1].containers:\n",
    "    ax[1].bar_label(cont, fmt='%d', weight='bold', fontname='Consolas', size=12) \n",
    "plt.show()"
   ]
  },
  {
   "cell_type": "markdown",
   "id": "832ac6ee-9021-42d8-bdb3-d6c04d77c9b1",
   "metadata": {},
   "source": [
    "## 5. Riguardo le nazioni di Italia, Germania, Francia e Spagna in tutto il 2023:"
   ]
  },
  {
   "cell_type": "markdown",
   "id": "1d8196e5-971b-436c-bf4c-4af58ea7fee6",
   "metadata": {
    "jp-MarkdownHeadingCollapsed": true
   },
   "source": [
    "### a. mostrare la somma dei pazienti ospitalizzati per ognuna"
   ]
  },
  {
   "cell_type": "code",
   "execution_count": null,
   "id": "36206483-27e9-4748-8ab5-24b844044bfb",
   "metadata": {},
   "outputs": [],
   "source": [
    "# filtri data e nazioni\n",
    "date_flt = covid_df.date.dt.year == 2023\n",
    "loc_flt = covid_df.location.str.contains('Italy|Germany|France|Spain')\n",
    "\n",
    "# stampa dei dati\n",
    "print('Pazienti ospedalizzati:')\n",
    "print(covid_df[ loc_flt & date_flt ].groupby('location').hosp_patients.sum().astype(int).to_string().replace('location\\n',''))\n",
    "\n",
    "ax = sns.barplot(covid_df[ loc_flt & date_flt ], hatch='...', x='location', y='hosp_patients',\n",
    "                 hue='location', estimator='sum', alpha=0.7, errorbar=None)\n",
    "\n",
    "# scritte del totale sulle barre\n",
    "for cont in ax.containers:\n",
    "    ax.bar_label(cont, fmt='%d', weight='bold', fontname='Consolas', size=12) \n",
    "ax.set(xlabel='', ylabel='Hosp. Patients')    \n",
    "plt.show()"
   ]
  },
  {
   "cell_type": "markdown",
   "id": "32eb6efa-ddd8-49f0-8e58-13ac4b44ecfc",
   "metadata": {
    "jp-MarkdownHeadingCollapsed": true
   },
   "source": [
    "### b. se ci sono dati nulli, con un breve commento scrivere se può essere possibile gestirli tramite sostituzione o meno"
   ]
  },
  {
   "cell_type": "markdown",
   "id": "684e67d5-751d-4149-9333-0e04a2fa5d23",
   "metadata": {},
   "source": [
    "<font size=\"4\">**Commento**: la colonna `hosp_patients` riporta giornalmente il numero di pazienti ospedalizzati. Per la *Germania* sono riportate le ammissioni ospedaliere settimanali (colonna `weekly_hosp_admissions`) e non i pazienti giornalieri, quindi non è possibile sostiuire i dati mancanti.</font>"
   ]
  },
  {
   "cell_type": "code",
   "execution_count": null,
   "id": "011557e9-79b0-4707-807f-f1b6c0813d3a",
   "metadata": {},
   "outputs": [],
   "source": [
    "print('Ammissioni ospedaliere settimanali:')\n",
    "print(covid_df[ loc_flt & date_flt ].groupby('location').weekly_hosp_admissions.sum().to_string().replace('location\\n',''))\n",
    "\n",
    "ax = sns.barplot(covid_df[ loc_flt & date_flt ], hatch='...', x='location', y='weekly_hosp_admissions',\n",
    "                 hue='location', estimator='sum', alpha=0.7, errorbar=None)\n",
    "\n",
    "# scritte del totale sulle barre\n",
    "for cont in ax.containers:\n",
    "    ax.bar_label(cont, fmt='%d', weight='bold', fontname='Consolas', size=12) \n",
    "ax.set(xlabel='', ylabel='Weekly Hosp. Admissions')    \n",
    "plt.show()"
   ]
  },
  {
   "cell_type": "markdown",
   "id": "686fd503-5146-4720-bb64-7fc18a53a24b",
   "metadata": {},
   "source": [
    " "
   ]
  }
 ],
 "metadata": {
  "kernelspec": {
   "display_name": "Python 3 (ipykernel)",
   "language": "python",
   "name": "python3"
  },
  "language_info": {
   "codemirror_mode": {
    "name": "ipython",
    "version": 3
   },
   "file_extension": ".py",
   "mimetype": "text/x-python",
   "name": "python",
   "nbconvert_exporter": "python",
   "pygments_lexer": "ipython3",
   "version": "3.12.3"
  }
 },
 "nbformat": 4,
 "nbformat_minor": 5
}
