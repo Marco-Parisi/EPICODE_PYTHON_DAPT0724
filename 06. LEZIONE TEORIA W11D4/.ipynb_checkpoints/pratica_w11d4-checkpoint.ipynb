{
 "cells": [
  {
   "cell_type": "markdown",
   "id": "e3ccd002-e70e-47d5-bd9c-238789d53a95",
   "metadata": {
    "jp-MarkdownHeadingCollapsed": true
   },
   "source": [
    "# Esercizio 1\n",
    "Dal database AdventureWorks estraiamo la tabella dimproduct \n",
    "- Sulla colonna DealerPrice, utilizzando il metodo .round(), arrotondiamo i valori alle due cifre decimali, e poi al valore intero più vicino\n",
    "-  Utilizzando il metodo .clip(), facciamo in modo che i valori siano compresi tra un minimo di 0 e un massimo di 1000"
   ]
  },
  {
   "cell_type": "code",
   "execution_count": 32,
   "id": "4cb66254-aa8a-4425-b8fd-9d4c845f281c",
   "metadata": {},
   "outputs": [
    {
     "name": "stdout",
     "output_type": "stream",
     "text": [
      "connected\n"
     ]
    }
   ],
   "source": [
    "from pathlib import Path\n",
    "import pandas as pd\n",
    "import numpy as np\n",
    "import os\n",
    "\n",
    "path = str(Path(os.path.abspath(\"\")).parents[0]) + '\\\\' + \"adventureworks_connection.ipynb\"\n",
    "path = path.replace('\\\\', '/')\n",
    "%run {path}"
   ]
  },
  {
   "cell_type": "code",
   "execution_count": 8,
   "id": "ff4ab045-30c3-4883-91dc-29d18629f654",
   "metadata": {},
   "outputs": [
    {
     "name": "stdout",
     "output_type": "stream",
     "text": [
      "adw_dimproduct shape: (606, 36)\n",
      "adw_dimproduct columns: Index(['ProductKey', 'ProductAlternateKey', 'ProductSubcategoryKey',\n",
      "       'WeightUnitMeasureCode', 'SizeUnitMeasureCode', 'EnglishProductName',\n",
      "       'SpanishProductName', 'FrenchProductName', 'StandardCost',\n",
      "       'FinishedGoodsFlag', 'Color', 'SafetyStockLevel', 'ReorderPoint',\n",
      "       'ListPrice', 'Size', 'SizeRange', 'Weight', 'DaysToManufacture',\n",
      "       'ProductLine', 'DealerPrice', 'Class', 'Style', 'ModelName',\n",
      "       'LargePhoto', 'EnglishDescription', 'FrenchDescription',\n",
      "       'ChineseDescription', 'ArabicDescription', 'HebrewDescription',\n",
      "       'ThaiDescription', 'GermanDescription', 'JapaneseDescription',\n",
      "       'TurkishDescription', 'StartDate', 'EndDate', 'Status'],\n",
      "      dtype='object')\n"
     ]
    }
   ],
   "source": [
    "adw_dimproduct = pd.read_sql('SELECT * FROM dimproduct', db_engine)\n",
    "\n",
    "print('adw_dimproduct shape:', adw_dimproduct.shape)\n",
    "print('adw_dimproduct columns:', adw_dimproduct.columns)"
   ]
  },
  {
   "cell_type": "code",
   "execution_count": 23,
   "id": "d41b8b50-8d93-4523-b738-0005f1863328",
   "metadata": {},
   "outputs": [
    {
     "data": {
      "text/plain": [
       "0        NaN\n",
       "1        NaN\n",
       "2        NaN\n",
       "3        NaN\n",
       "4        NaN\n",
       "       ...  \n",
       "601     61.0\n",
       "602     73.0\n",
       "603    324.0\n",
       "604    324.0\n",
       "605    324.0\n",
       "Name: DealerPrice, Length: 606, dtype: float64"
      ]
     },
     "execution_count": 23,
     "metadata": {},
     "output_type": "execute_result"
    }
   ],
   "source": [
    "adw_dimproduct['DealerPrice'].round(2).round(0)#.dropna().astype(int)"
   ]
  },
  {
   "cell_type": "code",
   "execution_count": 29,
   "id": "97cf268f-b803-4fda-9035-70214ebab7d7",
   "metadata": {},
   "outputs": [
    {
     "data": {
      "text/plain": [
       "0          NaN\n",
       "1          NaN\n",
       "2          NaN\n",
       "3          NaN\n",
       "4          NaN\n",
       "        ...   \n",
       "601     60.744\n",
       "602     72.894\n",
       "603    323.994\n",
       "604    323.994\n",
       "605    323.994\n",
       "Name: DealerPrice, Length: 606, dtype: float64"
      ]
     },
     "execution_count": 29,
     "metadata": {},
     "output_type": "execute_result"
    }
   ],
   "source": [
    "adw_dimproduct['DealerPrice'].clip(0, 1000)"
   ]
  },
  {
   "cell_type": "markdown",
   "id": "a7abf947-c0b7-43cf-8712-2df8e4cc6e22",
   "metadata": {},
   "source": [
    "# Esercizio 2\n",
    "Creiamo un DataFrame sintetico, che contiene i guadagni mensili di diverse annate, con il seguente codice: \n",
    "\n",
    "```python \n",
    "years = 5\n",
    "a = pd.DataFrame({\"Mese\": list(\"GFMAMGLASOND\"*years), \"Anno\": np.repeat(list(range(years)), 12), \"Guadagni\": np.random.randint(800, 5000, 12*years)})\n",
    "```\n",
    "\n",
    "- Calcola la somma cumulativa delle vendite per ogni mese utilizzando il metodo .cumsum()\n",
    "- Come sopra, ma raggruppato per ogni anno usando prima un .groupby()"
   ]
  },
  {
   "cell_type": "code",
   "execution_count": 37,
   "id": "d815eb18-83d1-4102-9147-820414d2c715",
   "metadata": {},
   "outputs": [
    {
     "name": "stdout",
     "output_type": "stream",
     "text": [
      "   Mese  Anno  Guadagni\n",
      "0     G     0      2300\n",
      "1     F     0      2946\n",
      "2     M     0      2351\n",
      "3     A     0      3352\n",
      "4     M     0      1272\n",
      "5     G     0      4560\n",
      "6     L     0      3982\n",
      "7     A     0      2394\n",
      "8     S     0      4434\n",
      "9     O     0      4882\n",
      "10    N     0      2142\n",
      "11    D     0      4268\n",
      "12    G     1      2718\n",
      "13    F     1      3844\n",
      "14    M     1      2263\n",
      "15    A     1      2280\n",
      "16    M     1      2100\n",
      "17    G     1      1653\n",
      "18    L     1      3094\n",
      "19    A     1      2771\n",
      "20    S     1      3076\n",
      "21    O     1      3044\n",
      "22    N     1      2662\n",
      "23    D     1      1362\n",
      "24    G     2      1931\n",
      "25    F     2      4711\n",
      "26    M     2      1807\n",
      "27    A     2      3373\n",
      "28    M     2      4032\n",
      "29    G     2      2159\n",
      "30    L     2      1385\n",
      "31    A     2      2565\n",
      "32    S     2      2028\n",
      "33    O     2      1211\n",
      "34    N     2      2058\n",
      "35    D     2       982\n",
      "36    G     3      4563\n",
      "37    F     3      3639\n",
      "38    M     3      1152\n",
      "39    A     3      2577\n",
      "40    M     3      1403\n",
      "41    G     3      3876\n",
      "42    L     3      4104\n",
      "43    A     3      1974\n",
      "44    S     3      2642\n",
      "45    O     3      2536\n",
      "46    N     3      4875\n",
      "47    D     3      1916\n",
      "48    G     4      4605\n",
      "49    F     4      2726\n",
      "50    M     4      4014\n",
      "51    A     4      3001\n",
      "52    M     4      3177\n",
      "53    G     4      2318\n",
      "54    L     4      2258\n",
      "55    A     4      3690\n",
      "56    S     4      3813\n",
      "57    O     4      2018\n",
      "58    N     4      2346\n",
      "59    D     4      3523\n"
     ]
    }
   ],
   "source": [
    "years = 5\n",
    "a = pd.DataFrame({\"Mese\": list(\"GFMAMGLASOND\"*years), \"Anno\": np.repeat(list(range(years)), 12), \"Guadagni\": np.random.randint(800, 5000, 12*years)})\n",
    "\n",
    "print(a)"
   ]
  },
  {
   "cell_type": "markdown",
   "id": "8310e29f-7795-4b52-8bdb-b9901390034c",
   "metadata": {},
   "source": [
    "# Esercizio 3 1/2 \n",
    "Dal database AdventureWorks estraiamo la tabella dimcustomer \n",
    "- Trasformiamo i nomi dei clienti in modo che abbiano solo lettere minuscole, e i cognomi in modo che abbiano solo lettere maiuscole\n",
    "- Sulla colonna EmailAddress, utilizzando il metodo .str.split(), estraiamo nome utente e dominio\n",
    "- Sulla colonna Phone, estraiamo ogni parte del numero (ad es. da \"1 (11) 500 555-0162\" a [\"1\", \"(11)\", \"500\", \"555-0162\"])\n",
    "- Utilizzando il metodo .str.contains(), estraiamo tutti gli indirizzi e-mail che contengono il numero \"21\""
   ]
  },
  {
   "cell_type": "code",
   "execution_count": null,
   "id": "3d27a986-8038-413e-a335-7063c50616a6",
   "metadata": {},
   "outputs": [],
   "source": []
  },
  {
   "cell_type": "markdown",
   "id": "5397f630-2ded-4e77-96fe-97579a92e90e",
   "metadata": {},
   "source": [
    "# Esercizio 3 2/2 \n",
    "- Estraiamo tutti gli indirizzi e-mail che contengono il numero \"20\" oppure il numero \"10\"\n",
    "- Calcolare la lunghezza di ogni indirizzo e-mail ed estrarre i dieci più lunghi e i dieci più corti\n",
    "- Modificare il dominio degli indirizzi e-mail da \"adventure-works.com\" a \"aw-db.com\" mediante il metodo .str.replace()\n",
    "- Dalla colonna AddressLine1 estraiamo tutti gli indirizzi che contengono la sottostringa \"Street\""
   ]
  },
  {
   "cell_type": "code",
   "execution_count": null,
   "id": "c90c92c7-b049-42da-95b8-2f811a82e56c",
   "metadata": {},
   "outputs": [],
   "source": []
  },
  {
   "cell_type": "markdown",
   "id": "9a79fea6-cd1e-458f-8dd6-c6e3ca2350bc",
   "metadata": {},
   "source": [
    "# Esercizio 4 1/2 \n",
    "Dai beginner_datasets carichiamo in un DataFrame il file facebook.csv, che contiene dei post con data di pubblicazione, tipo (foto, video, …) e numero di reactions raccolte: \n",
    "- Con la funzione pd.to_datetime() convertiamo la colonna status_published in formato Timestamp\n",
    "- Utilizzando gli attributi .dt.year , .dt.month , .dt.day , .dt.dayofweek , .dt.dayofyear, ottieniamo informazioni specifiche sulle date delle transazioni, come l'anno, il mese, il giorno della settimana, il giorno dell'anno, eccetera"
   ]
  },
  {
   "cell_type": "code",
   "execution_count": null,
   "id": "e97c91b5-fcab-4273-8b57-d29885a4c1b5",
   "metadata": {},
   "outputs": [],
   "source": []
  },
  {
   "cell_type": "markdown",
   "id": "9491aff7-1473-46bf-94af-621b48d0f64e",
   "metadata": {},
   "source": [
    "# Esercizio 4 2/2 \n",
    "- Estraiamo solo i post relativi al 2012\n",
    "- Estraiamo solo i post relativi a maggio 2018\n",
    "- Confrontiamo il numero di post pubblicati nei weekend rispetto al numero di post pubblicati nel resto della settimana\n",
    "- Troviamo il primo e ultimo post pubblicati in ogni anno\n",
    "- Quanti tipi di post ci sono? E quanti per ogni tipo?"
   ]
  },
  {
   "cell_type": "code",
   "execution_count": null,
   "id": "149f8b1f-81b1-4171-8b9f-dbdfe492be6c",
   "metadata": {},
   "outputs": [],
   "source": []
  },
  {
   "cell_type": "markdown",
   "id": "d389893f-6792-41b1-98a6-68e8e247d187",
   "metadata": {},
   "source": [
    "# Esercizio 5\n",
    "Dai beginner_dataset carichiamo in un DataFrame il file pokemon.csv: \n",
    "- Tramite i metodi .isnull() e .sum() controlliamo se ci sono valori nulli nel dataset e contiamo quanti valori nulli ci sono in ogni colonna\n",
    "- Ci sono valori nulli?\n",
    "- Se sì, avrebbe senso cercare di riempirli?\n",
    "- Eliminiamo le righe che contengono valori nulli"
   ]
  },
  {
   "cell_type": "code",
   "execution_count": null,
   "id": "a15a6980-20ab-4ff3-8ed0-50b848b50fc1",
   "metadata": {},
   "outputs": [],
   "source": []
  },
  {
   "cell_type": "markdown",
   "id": "f2a0048a-68d6-4863-a6e3-54b4dd126912",
   "metadata": {},
   "source": [
    "# Esercizio 6\n",
    "Dai beginner_dataset carichiamo in un DataFrame il file automobile.csv: \n",
    "- Ci sono valori nulli? Dove? Quanti?\n",
    "- Quali righe hanno un valore nullo nella colonna num-of-doors?\n",
    "- Esaminando i dati nel dataset, cerchiamo una logica per sostituire i valori nulli nella colonna num-of-doors"
   ]
  },
  {
   "cell_type": "code",
   "execution_count": null,
   "id": "cf8a6395-6a67-4042-8384-14982d23db74",
   "metadata": {},
   "outputs": [],
   "source": []
  },
  {
   "cell_type": "markdown",
   "id": "08877b1c-cad7-4111-a33b-39fc8f693893",
   "metadata": {},
   "source": [
    "# Esercizio 7\n",
    "Abbiamo il seguente DataFrame che raccoglie le misurazioni di un sensore che misura la temperatura atmosferica giornaliera: \n",
    "\n",
    "```python\n",
    "import numpy as np, pandas as pd\n",
    "temp = pd.DataFrame({\"Giorno\": [0, 1, 2, 3, 4, 5, 6 7, 8, 9, 10, 11, 12], \"Temperature\": [18, 19, 18, np.nan, 21, 20, 20, np.nan, 21, 23, np.nan, 23, 24]})\n",
    "```\n",
    "- Il sensore a volte non funziona, dunque alcuni dati sono mancanti: quale sarebbe la migliore strategia per gestirli? "
   ]
  },
  {
   "cell_type": "code",
   "execution_count": null,
   "id": "abf543fd-f83d-43e5-87e7-35c78d280d36",
   "metadata": {},
   "outputs": [],
   "source": []
  },
  {
   "cell_type": "markdown",
   "id": "4187f3a4-5f14-4d8a-a84b-b4a3a8a2bb6c",
   "metadata": {},
   "source": [
    "# Esercizio 8 1/2 \n",
    "Nel pacchetto os della standard library c'è la funzione os.listdir() che permette di avere la lista dei nomi di file all'interno di una directory; senza input di default li cerca nella directory di lavoro corrente, altrimenti si può passare un path per esaminare una directory specifica, ad esempio os.listdir(\"mio_progetto/beginner_datasets/\") \n",
    "- Nella directory dei beginner_datasets, quali sono i dataset che contengono dati nulli?"
   ]
  },
  {
   "cell_type": "code",
   "execution_count": null,
   "id": "c8025add-b573-4b3b-a1f4-34dcb22f6b7c",
   "metadata": {},
   "outputs": [],
   "source": []
  },
  {
   "cell_type": "markdown",
   "id": "75819812-f37b-40e4-b268-fa0f21c509e6",
   "metadata": {},
   "source": [
    "# Esercizio 8 2/2 \n",
    "1. Dovremo usare un ciclo for per esaminare tutti i nomi dei file\n",
    "2. Dovremo selezionare solo i nomi di file con estensione .csv (quindi usare un costrutto if)\n",
    "3. Nel corpo dovremo leggere di volta in volta il file in esame, e caricarlo in un DataFrame con la funzione .read_csv()\n",
    "4. Sul DataFrame dovremo utilizzare il metodo .isna() per trovare la maschera booleana dei dati nulli\n",
    "5. Dovremo contare i dati nulli, utilizzando .sum(); potremmo doverlo utilizzare più di una volta\n",
    "6. Dovremo stampare, o memorizzare in una list, solo i nomi dei file che contengono dati nulli"
   ]
  },
  {
   "cell_type": "code",
   "execution_count": null,
   "id": "23f4b237-9d85-4964-a8fb-f99c65c98167",
   "metadata": {},
   "outputs": [],
   "source": []
  }
 ],
 "metadata": {
  "kernelspec": {
   "display_name": "Python 3 (ipykernel)",
   "language": "python",
   "name": "python3"
  },
  "language_info": {
   "codemirror_mode": {
    "name": "ipython",
    "version": 3
   },
   "file_extension": ".py",
   "mimetype": "text/x-python",
   "name": "python",
   "nbconvert_exporter": "python",
   "pygments_lexer": "ipython3",
   "version": "3.12.3"
  }
 },
 "nbformat": 4,
 "nbformat_minor": 5
}
