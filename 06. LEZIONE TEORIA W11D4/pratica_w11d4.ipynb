{
 "cells": [
  {
   "cell_type": "markdown",
   "id": "e3ccd002-e70e-47d5-bd9c-238789d53a95",
   "metadata": {
    "jp-MarkdownHeadingCollapsed": true
   },
   "source": [
    "# Esercizio 1\n",
    "Dal database AdventureWorks estraiamo la tabella dimproduct \n",
    "- Sulla colonna DealerPrice, utilizzando il metodo .round(), arrotondiamo i valori alle due cifre decimali, e poi al valore intero più vicino\n",
    "-  Utilizzando il metodo .clip(), facciamo in modo che i valori siano compresi tra un minimo di 0 e un massimo di 1000"
   ]
  },
  {
   "cell_type": "code",
   "execution_count": null,
   "id": "4cb66254-aa8a-4425-b8fd-9d4c845f281c",
   "metadata": {},
   "outputs": [],
   "source": [
    "from pathlib import Path\n",
    "import pandas as pd\n",
    "import numpy as np\n",
    "import os\n",
    "\n",
    "path = str(Path(os.path.abspath(\"\")).parents[0]) + '\\\\' + \"adventureworks_connection.ipynb\"\n",
    "path = path.replace('\\\\', '/')\n",
    "%run {path}"
   ]
  },
  {
   "cell_type": "code",
   "execution_count": null,
   "id": "ff4ab045-30c3-4883-91dc-29d18629f654",
   "metadata": {},
   "outputs": [],
   "source": [
    "adw_dimproduct = pd.read_sql('SELECT * FROM dimproduct', db_engine)\n",
    "\n",
    "print('adw_dimproduct shape:', adw_dimproduct.shape)\n",
    "print('adw_dimproduct columns:', adw_dimproduct.columns)"
   ]
  },
  {
   "cell_type": "code",
   "execution_count": null,
   "id": "d41b8b50-8d93-4523-b738-0005f1863328",
   "metadata": {},
   "outputs": [],
   "source": [
    "adw_dimproduct['DealerPrice'].round(2).round(0)#.dropna().astype(int)"
   ]
  },
  {
   "cell_type": "code",
   "execution_count": null,
   "id": "97cf268f-b803-4fda-9035-70214ebab7d7",
   "metadata": {},
   "outputs": [],
   "source": [
    "adw_dimproduct['DealerPrice'].clip(0, 1000)"
   ]
  },
  {
   "cell_type": "markdown",
   "id": "a7abf947-c0b7-43cf-8712-2df8e4cc6e22",
   "metadata": {
    "jp-MarkdownHeadingCollapsed": true
   },
   "source": [
    "# Esercizio 2\n",
    "Creiamo un DataFrame sintetico, che contiene i guadagni mensili di diverse annate, con il seguente codice: \n",
    "\n",
    "```python \n",
    "years = 5\n",
    "a = pd.DataFrame({\"Mese\": list(\"GFMAMGLASOND\"*years), \"Anno\": np.repeat(list(range(years)), 12), \"Guadagni\": np.random.randint(800, 5000, 12*years)})\n",
    "```\n",
    "\n",
    "- Calcola la somma cumulativa delle vendite per ogni mese utilizzando il metodo .cumsum()\n",
    "- Come sopra, ma raggruppato per ogni anno usando prima un .groupby()"
   ]
  },
  {
   "cell_type": "code",
   "execution_count": null,
   "id": "d815eb18-83d1-4102-9147-820414d2c715",
   "metadata": {},
   "outputs": [],
   "source": [
    "years = 5\n",
    "a = pd.DataFrame({\"Mese\": list(\"GFMAMGLASOND\"*years), \"Anno\": np.repeat(list(range(years)), 12), \"Guadagni\": np.random.randint(800, 5000, 12*years)})\n",
    "\n",
    "a.cumsum()"
   ]
  },
  {
   "cell_type": "code",
   "execution_count": null,
   "id": "e453e215-2b0c-4936-acdf-71c0a8206a37",
   "metadata": {},
   "outputs": [],
   "source": [
    "a['year_cumsum'] = a.groupby('Anno').Guadagni.cumsum()\n",
    "a"
   ]
  },
  {
   "cell_type": "markdown",
   "id": "8310e29f-7795-4b52-8bdb-b9901390034c",
   "metadata": {
    "jp-MarkdownHeadingCollapsed": true
   },
   "source": [
    "# Esercizio 3 1/2 \n",
    "Dal database AdventureWorks estraiamo la tabella dimcustomer \n",
    "- Trasformiamo i nomi dei clienti in modo che abbiano solo lettere minuscole, e i cognomi in modo che abbiano solo lettere maiuscole\n",
    "- Sulla colonna EmailAddress, utilizzando il metodo .str.split(), estraiamo nome utente e dominio\n",
    "- Sulla colonna Phone, estraiamo ogni parte del numero (ad es. da \"1 (11) 500 555-0162\" a [\"1\", \"(11)\", \"500\", \"555-0162\"])\n",
    "- Utilizzando il metodo .str.contains(), estraiamo tutti gli indirizzi e-mail che contengono il numero \"21\""
   ]
  },
  {
   "cell_type": "code",
   "execution_count": null,
   "id": "3d27a986-8038-413e-a335-7063c50616a6",
   "metadata": {},
   "outputs": [],
   "source": [
    "adw_dimcustomer = pd.read_sql('SELECT * FROM dimcustomer', db_engine)\n",
    "\n",
    "print('adw_dimcustomer shape:', adw_dimcustomer.shape)\n",
    "print('adw_dimcustomer columns:', adw_dimcustomer.columns)"
   ]
  },
  {
   "cell_type": "code",
   "execution_count": null,
   "id": "1cce029a-e7d8-448e-b3f4-9efd92dd43af",
   "metadata": {},
   "outputs": [],
   "source": [
    "adw_dimcustomer.FirstName = adw_dimcustomer.FirstName.str.lower()\n",
    "adw_dimcustomer.LastName = adw_dimcustomer.LastName.str.upper()\n",
    "adw_dimcustomer[['FirstName','LastName']]"
   ]
  },
  {
   "cell_type": "code",
   "execution_count": null,
   "id": "14e4db90-b90a-48a8-ba6a-937cc5931094",
   "metadata": {},
   "outputs": [],
   "source": [
    "adw_dimcustomer.EmailAddress.str.split('@')"
   ]
  },
  {
   "cell_type": "code",
   "execution_count": null,
   "id": "04b58be7-3b07-4dc9-bcd1-38c012f714a3",
   "metadata": {},
   "outputs": [],
   "source": [
    "adw_dimcustomer.Phone.str.split(' ')"
   ]
  },
  {
   "cell_type": "code",
   "execution_count": null,
   "id": "026e368b-ff15-450a-9b16-94bd6ddcf180",
   "metadata": {},
   "outputs": [],
   "source": [
    "email_flt = adw_dimcustomer.EmailAddress.str.contains('21')\n",
    "adw_dimcustomer.EmailAddress[ email_flt ]"
   ]
  },
  {
   "cell_type": "markdown",
   "id": "5397f630-2ded-4e77-96fe-97579a92e90e",
   "metadata": {
    "jp-MarkdownHeadingCollapsed": true
   },
   "source": [
    "# Esercizio 3 2/2 \n",
    "- Estraiamo tutti gli indirizzi e-mail che contengono il numero \"20\" oppure il numero \"10\"\n",
    "- Calcolare la lunghezza di ogni indirizzo e-mail ed estrarre i dieci più lunghi e i dieci più corti\n",
    "- Modificare il dominio degli indirizzi e-mail da \"adventure-works.com\" a \"aw-db.com\" mediante il metodo .str.replace()\n",
    "- Dalla colonna AddressLine1 estraiamo tutti gli indirizzi che contengono la sottostringa \"Street\""
   ]
  },
  {
   "cell_type": "code",
   "execution_count": null,
   "id": "c90c92c7-b049-42da-95b8-2f811a82e56c",
   "metadata": {},
   "outputs": [],
   "source": [
    "email_flt_20 = adw_dimcustomer.EmailAddress.str.contains('20')\n",
    "email_flt_10 = adw_dimcustomer.EmailAddress.str.contains('10')\n",
    "\n",
    "adw_dimcustomer.EmailAddress[ email_flt_20 | email_flt_10 ]"
   ]
  },
  {
   "cell_type": "code",
   "execution_count": null,
   "id": "3a15150c-d8f1-4d2d-8f44-ec5d53a42bd2",
   "metadata": {},
   "outputs": [],
   "source": [
    "adw_dimcustomer.EmailAddress.str.len()"
   ]
  },
  {
   "cell_type": "code",
   "execution_count": null,
   "id": "58fbb460-921b-4088-b49a-50f9b533fa50",
   "metadata": {},
   "outputs": [],
   "source": [
    "adw_dimcustomer.EmailAddress.sort_values()[:10]"
   ]
  },
  {
   "cell_type": "code",
   "execution_count": null,
   "id": "4e6dc9f4-90b9-4284-be2e-01d815b58e06",
   "metadata": {},
   "outputs": [],
   "source": [
    "adw_dimcustomer.EmailAddress.sort_values()[-10:]"
   ]
  },
  {
   "cell_type": "code",
   "execution_count": null,
   "id": "942be7e2-679f-47df-9c1b-ee3ab208170b",
   "metadata": {},
   "outputs": [],
   "source": [
    "adw_dimcustomer.EmailAddress = adw_dimcustomer.EmailAddress.str.replace(\"adventure-works.com\", \"aw-db.com\")\n",
    "adw_dimcustomer.EmailAddress"
   ]
  },
  {
   "cell_type": "code",
   "execution_count": null,
   "id": "b72f8f00-525e-4860-b91f-e4b0b9d319a4",
   "metadata": {},
   "outputs": [],
   "source": [
    "adw_dimcustomer.AddressLine1[ adw_dimcustomer.AddressLine1.str.contains(\"Street\") ]"
   ]
  },
  {
   "cell_type": "markdown",
   "id": "9a79fea6-cd1e-458f-8dd6-c6e3ca2350bc",
   "metadata": {
    "jp-MarkdownHeadingCollapsed": true
   },
   "source": [
    "# Esercizio 4 1/2 \n",
    "Dai beginner_datasets carichiamo in un DataFrame il file facebook.csv, che contiene dei post con data di pubblicazione, tipo (foto, video, …) e numero di reactions raccolte: \n",
    "- Con la funzione pd.to_datetime() convertiamo la colonna status_published in formato Timestamp\n",
    "- Utilizzando gli attributi .dt.year , .dt.month , .dt.day , .dt.dayofweek , .dt.dayofyear, ottieniamo informazioni specifiche sulle date delle transazioni, come l'anno, il mese, il giorno della settimana, il giorno dell'anno, eccetera"
   ]
  },
  {
   "cell_type": "code",
   "execution_count": null,
   "id": "e97c91b5-fcab-4273-8b57-d29885a4c1b5",
   "metadata": {},
   "outputs": [],
   "source": [
    "parent_folder = str(Path(os.path.abspath(\"\")).parents[0]) + '\\\\'\n",
    "facebook_df = pd.read_csv(parent_folder + 'datasets/beginner_datasets/facebook.csv')\n",
    "\n",
    "facebook_df"
   ]
  },
  {
   "cell_type": "code",
   "execution_count": null,
   "id": "aaa21f4a-48e1-4901-8422-4e2a48e52913",
   "metadata": {},
   "outputs": [],
   "source": [
    "facebook_df['status_published'] = pd.to_datetime(facebook_df['status_published'])"
   ]
  },
  {
   "cell_type": "code",
   "execution_count": null,
   "id": "d4cd3f40-ca6b-4aa7-a058-852c3b38b957",
   "metadata": {},
   "outputs": [],
   "source": [
    "months_group = facebook_df['status_published'].dt.month\n",
    "facebook_df['status_published'].groupby(months_group).count().sort_values()"
   ]
  },
  {
   "cell_type": "code",
   "execution_count": null,
   "id": "c01bc2eb-9a61-40dd-92b6-04b60ae7ed7c",
   "metadata": {},
   "outputs": [],
   "source": [
    "years_group = facebook_df['status_published'].dt.year\n",
    "facebook_df['status_published'].groupby(years_group).count().sort_values()"
   ]
  },
  {
   "cell_type": "code",
   "execution_count": null,
   "id": "457b92e3-c48d-4ba7-a344-4681754ce35c",
   "metadata": {},
   "outputs": [],
   "source": [
    "days_group = facebook_df['status_published'].dt.day\n",
    "facebook_df['status_published'].groupby(days_group).count().sort_values()"
   ]
  },
  {
   "cell_type": "code",
   "execution_count": null,
   "id": "e655c0ac-72b5-4029-aa66-3d7639a20300",
   "metadata": {},
   "outputs": [],
   "source": [
    "daysofweek_group = facebook_df['status_published'].dt.dayofweek\n",
    "facebook_df['status_published'].groupby(daysofweek_group).count().sort_values()"
   ]
  },
  {
   "cell_type": "code",
   "execution_count": null,
   "id": "0bd8d57a-419a-4b3c-8e0e-82511a7508f3",
   "metadata": {},
   "outputs": [],
   "source": [
    "daysofyear_group = facebook_df['status_published'].dt.dayofyear\n",
    "facebook_df['status_published'].groupby(daysofyear_group).count().sort_values()"
   ]
  },
  {
   "cell_type": "markdown",
   "id": "9491aff7-1473-46bf-94af-621b48d0f64e",
   "metadata": {
    "jp-MarkdownHeadingCollapsed": true
   },
   "source": [
    "# Esercizio 4 2/2 \n",
    "- Estraiamo solo i post relativi al 2012\n",
    "- Estraiamo solo i post relativi a maggio 2018\n",
    "- Confrontiamo il numero di post pubblicati nei weekend rispetto al numero di post pubblicati nel resto della settimana\n",
    "- Troviamo il primo e ultimo post pubblicati in ogni anno\n",
    "- Quanti tipi di post ci sono? E quanti per ogni tipo?"
   ]
  },
  {
   "cell_type": "code",
   "execution_count": null,
   "id": "149f8b1f-81b1-4171-8b9f-dbdfe492be6c",
   "metadata": {},
   "outputs": [],
   "source": [
    "post_year_flt = facebook_df['status_published'].dt.year == 2012\n",
    "\n",
    "facebook_df[ post_year_flt ].sample(5)"
   ]
  },
  {
   "cell_type": "code",
   "execution_count": null,
   "id": "b16dc96b-ab77-47af-b7ad-d04305f1a6be",
   "metadata": {},
   "outputs": [],
   "source": [
    "post_year_flt = facebook_df['status_published'].dt.year == 2018\n",
    "post_month_flt = facebook_df['status_published'].dt.month == 5\n",
    "\n",
    "facebook_df[ post_year_flt & post_month_flt ]"
   ]
  },
  {
   "cell_type": "code",
   "execution_count": null,
   "id": "d9fe59ba-72a0-46fd-8af4-5b3cf2cb9723",
   "metadata": {},
   "outputs": [],
   "source": [
    "post_weekdays_flt = facebook_df['status_published'].dt.dayofweek < 5\n",
    "post_weekend_flt = facebook_df['status_published'].dt.dayofweek >= 5\n",
    "\n",
    "print('numero di post nel weekend: ', facebook_df[ post_weekend_flt ].shape[0])\n",
    "print('numero di post negli altri giorni: ', facebook_df[ post_weekdays_flt ].shape[0])"
   ]
  },
  {
   "cell_type": "code",
   "execution_count": null,
   "id": "5df2d2bf-4430-4632-b2cc-dd2bda9be790",
   "metadata": {},
   "outputs": [],
   "source": [
    "post_year = facebook_df['status_published'].dt.year\n",
    "facebook_df_year = facebook_df.groupby(post_year)\n",
    "\n",
    "display('Primo post per ogni anno:', facebook_df_year.head(1))\n",
    "display('Ultimo post per ogni anno:', facebook_df_year.tail(1))"
   ]
  },
  {
   "cell_type": "code",
   "execution_count": 275,
   "id": "3bab4a7c-2878-4e18-8e1d-07813f2064af",
   "metadata": {},
   "outputs": [
    {
     "name": "stdout",
     "output_type": "stream",
     "text": [
      "Tipi di post: ['video' 'photo' 'link' 'status'] \tnum: 4\n",
      "status_type\n",
      "link        63\n",
      "photo     4288\n",
      "status     365\n",
      "video     2334\n",
      "Name: status_type, dtype: int64\n"
     ]
    }
   ],
   "source": [
    "print('Tipi di post:', facebook_df['status_type'].unique(), '\\tnum:', facebook_df['status_type'].nunique())\n",
    "print(facebook_df.groupby('status_type').status_type.count())"
   ]
  },
  {
   "cell_type": "markdown",
   "id": "d389893f-6792-41b1-98a6-68e8e247d187",
   "metadata": {},
   "source": [
    "# Esercizio 5\n",
    "Dai beginner_dataset carichiamo in un DataFrame il file pokemon.csv: \n",
    "- Tramite i metodi .isnull() e .sum() controlliamo se ci sono valori nulli nel dataset e contiamo quanti valori nulli ci sono in ogni colonna\n",
    "- Ci sono valori nulli?\n",
    "- Se sì, avrebbe senso cercare di riempirli?\n",
    "- Eliminiamo le righe che contengono valori nulli"
   ]
  },
  {
   "cell_type": "code",
   "execution_count": 336,
   "id": "a15a6980-20ab-4ff3-8ed0-50b848b50fc1",
   "metadata": {},
   "outputs": [
    {
     "data": {
      "text/html": [
       "<div>\n",
       "<style scoped>\n",
       "    .dataframe tbody tr th:only-of-type {\n",
       "        vertical-align: middle;\n",
       "    }\n",
       "\n",
       "    .dataframe tbody tr th {\n",
       "        vertical-align: top;\n",
       "    }\n",
       "\n",
       "    .dataframe thead th {\n",
       "        text-align: right;\n",
       "    }\n",
       "</style>\n",
       "<table border=\"1\" class=\"dataframe\">\n",
       "  <thead>\n",
       "    <tr style=\"text-align: right;\">\n",
       "      <th></th>\n",
       "      <th>#</th>\n",
       "      <th>Name</th>\n",
       "      <th>Type 1</th>\n",
       "      <th>Type 2</th>\n",
       "      <th>Total</th>\n",
       "      <th>HP</th>\n",
       "      <th>Attack</th>\n",
       "      <th>Defense</th>\n",
       "      <th>Sp. Atk</th>\n",
       "      <th>Sp. Def</th>\n",
       "      <th>Speed</th>\n",
       "      <th>Generation</th>\n",
       "      <th>Legendary</th>\n",
       "    </tr>\n",
       "  </thead>\n",
       "  <tbody>\n",
       "    <tr>\n",
       "      <th>0</th>\n",
       "      <td>1</td>\n",
       "      <td>Bulbasaur</td>\n",
       "      <td>Grass</td>\n",
       "      <td>Poison</td>\n",
       "      <td>318</td>\n",
       "      <td>45</td>\n",
       "      <td>49</td>\n",
       "      <td>49</td>\n",
       "      <td>65</td>\n",
       "      <td>65</td>\n",
       "      <td>45</td>\n",
       "      <td>1</td>\n",
       "      <td>False</td>\n",
       "    </tr>\n",
       "    <tr>\n",
       "      <th>1</th>\n",
       "      <td>2</td>\n",
       "      <td>Ivysaur</td>\n",
       "      <td>Grass</td>\n",
       "      <td>Poison</td>\n",
       "      <td>405</td>\n",
       "      <td>60</td>\n",
       "      <td>62</td>\n",
       "      <td>63</td>\n",
       "      <td>80</td>\n",
       "      <td>80</td>\n",
       "      <td>60</td>\n",
       "      <td>1</td>\n",
       "      <td>False</td>\n",
       "    </tr>\n",
       "    <tr>\n",
       "      <th>2</th>\n",
       "      <td>3</td>\n",
       "      <td>Venusaur</td>\n",
       "      <td>Grass</td>\n",
       "      <td>Poison</td>\n",
       "      <td>525</td>\n",
       "      <td>80</td>\n",
       "      <td>82</td>\n",
       "      <td>83</td>\n",
       "      <td>100</td>\n",
       "      <td>100</td>\n",
       "      <td>80</td>\n",
       "      <td>1</td>\n",
       "      <td>False</td>\n",
       "    </tr>\n",
       "    <tr>\n",
       "      <th>3</th>\n",
       "      <td>3</td>\n",
       "      <td>VenusaurMega Venusaur</td>\n",
       "      <td>Grass</td>\n",
       "      <td>Poison</td>\n",
       "      <td>625</td>\n",
       "      <td>80</td>\n",
       "      <td>100</td>\n",
       "      <td>123</td>\n",
       "      <td>122</td>\n",
       "      <td>120</td>\n",
       "      <td>80</td>\n",
       "      <td>1</td>\n",
       "      <td>False</td>\n",
       "    </tr>\n",
       "    <tr>\n",
       "      <th>4</th>\n",
       "      <td>4</td>\n",
       "      <td>Charmander</td>\n",
       "      <td>Fire</td>\n",
       "      <td>NaN</td>\n",
       "      <td>309</td>\n",
       "      <td>39</td>\n",
       "      <td>52</td>\n",
       "      <td>43</td>\n",
       "      <td>60</td>\n",
       "      <td>50</td>\n",
       "      <td>65</td>\n",
       "      <td>1</td>\n",
       "      <td>False</td>\n",
       "    </tr>\n",
       "    <tr>\n",
       "      <th>...</th>\n",
       "      <td>...</td>\n",
       "      <td>...</td>\n",
       "      <td>...</td>\n",
       "      <td>...</td>\n",
       "      <td>...</td>\n",
       "      <td>...</td>\n",
       "      <td>...</td>\n",
       "      <td>...</td>\n",
       "      <td>...</td>\n",
       "      <td>...</td>\n",
       "      <td>...</td>\n",
       "      <td>...</td>\n",
       "      <td>...</td>\n",
       "    </tr>\n",
       "    <tr>\n",
       "      <th>795</th>\n",
       "      <td>719</td>\n",
       "      <td>Diancie</td>\n",
       "      <td>Rock</td>\n",
       "      <td>Fairy</td>\n",
       "      <td>600</td>\n",
       "      <td>50</td>\n",
       "      <td>100</td>\n",
       "      <td>150</td>\n",
       "      <td>100</td>\n",
       "      <td>150</td>\n",
       "      <td>50</td>\n",
       "      <td>6</td>\n",
       "      <td>True</td>\n",
       "    </tr>\n",
       "    <tr>\n",
       "      <th>796</th>\n",
       "      <td>719</td>\n",
       "      <td>DiancieMega Diancie</td>\n",
       "      <td>Rock</td>\n",
       "      <td>Fairy</td>\n",
       "      <td>700</td>\n",
       "      <td>50</td>\n",
       "      <td>160</td>\n",
       "      <td>110</td>\n",
       "      <td>160</td>\n",
       "      <td>110</td>\n",
       "      <td>110</td>\n",
       "      <td>6</td>\n",
       "      <td>True</td>\n",
       "    </tr>\n",
       "    <tr>\n",
       "      <th>797</th>\n",
       "      <td>720</td>\n",
       "      <td>HoopaHoopa Confined</td>\n",
       "      <td>Psychic</td>\n",
       "      <td>Ghost</td>\n",
       "      <td>600</td>\n",
       "      <td>80</td>\n",
       "      <td>110</td>\n",
       "      <td>60</td>\n",
       "      <td>150</td>\n",
       "      <td>130</td>\n",
       "      <td>70</td>\n",
       "      <td>6</td>\n",
       "      <td>True</td>\n",
       "    </tr>\n",
       "    <tr>\n",
       "      <th>798</th>\n",
       "      <td>720</td>\n",
       "      <td>HoopaHoopa Unbound</td>\n",
       "      <td>Psychic</td>\n",
       "      <td>Dark</td>\n",
       "      <td>680</td>\n",
       "      <td>80</td>\n",
       "      <td>160</td>\n",
       "      <td>60</td>\n",
       "      <td>170</td>\n",
       "      <td>130</td>\n",
       "      <td>80</td>\n",
       "      <td>6</td>\n",
       "      <td>True</td>\n",
       "    </tr>\n",
       "    <tr>\n",
       "      <th>799</th>\n",
       "      <td>721</td>\n",
       "      <td>Volcanion</td>\n",
       "      <td>Fire</td>\n",
       "      <td>Water</td>\n",
       "      <td>600</td>\n",
       "      <td>80</td>\n",
       "      <td>110</td>\n",
       "      <td>120</td>\n",
       "      <td>130</td>\n",
       "      <td>90</td>\n",
       "      <td>70</td>\n",
       "      <td>6</td>\n",
       "      <td>True</td>\n",
       "    </tr>\n",
       "  </tbody>\n",
       "</table>\n",
       "<p>800 rows × 13 columns</p>\n",
       "</div>"
      ],
      "text/plain": [
       "       #                   Name   Type 1  Type 2  Total  HP  Attack  Defense  \\\n",
       "0      1              Bulbasaur    Grass  Poison    318  45      49       49   \n",
       "1      2                Ivysaur    Grass  Poison    405  60      62       63   \n",
       "2      3               Venusaur    Grass  Poison    525  80      82       83   \n",
       "3      3  VenusaurMega Venusaur    Grass  Poison    625  80     100      123   \n",
       "4      4             Charmander     Fire     NaN    309  39      52       43   \n",
       "..   ...                    ...      ...     ...    ...  ..     ...      ...   \n",
       "795  719                Diancie     Rock   Fairy    600  50     100      150   \n",
       "796  719    DiancieMega Diancie     Rock   Fairy    700  50     160      110   \n",
       "797  720    HoopaHoopa Confined  Psychic   Ghost    600  80     110       60   \n",
       "798  720     HoopaHoopa Unbound  Psychic    Dark    680  80     160       60   \n",
       "799  721              Volcanion     Fire   Water    600  80     110      120   \n",
       "\n",
       "     Sp. Atk  Sp. Def  Speed  Generation  Legendary  \n",
       "0         65       65     45           1      False  \n",
       "1         80       80     60           1      False  \n",
       "2        100      100     80           1      False  \n",
       "3        122      120     80           1      False  \n",
       "4         60       50     65           1      False  \n",
       "..       ...      ...    ...         ...        ...  \n",
       "795      100      150     50           6       True  \n",
       "796      160      110    110           6       True  \n",
       "797      150      130     70           6       True  \n",
       "798      170      130     80           6       True  \n",
       "799      130       90     70           6       True  \n",
       "\n",
       "[800 rows x 13 columns]"
      ]
     },
     "execution_count": 336,
     "metadata": {},
     "output_type": "execute_result"
    }
   ],
   "source": [
    "pokemon_df = pd.read_csv(parent_folder + 'datasets/beginner_datasets/pokemon.csv')\n",
    "\n",
    "pokemon_df"
   ]
  },
  {
   "cell_type": "code",
   "execution_count": 322,
   "id": "b3dc9d1c-7c76-466e-9899-5324f882fa3c",
   "metadata": {},
   "outputs": [
    {
     "data": {
      "text/plain": [
       "#               0\n",
       "Name            0\n",
       "Type 1          0\n",
       "Type 2        386\n",
       "Total           0\n",
       "HP              0\n",
       "Attack          0\n",
       "Defense         0\n",
       "Sp. Atk         0\n",
       "Sp. Def         0\n",
       "Speed           0\n",
       "Generation      0\n",
       "Legendary       0\n",
       "dtype: int64"
      ]
     },
     "execution_count": 322,
     "metadata": {},
     "output_type": "execute_result"
    }
   ],
   "source": [
    "pokemon_df.isnull().sum()"
   ]
  },
  {
   "cell_type": "code",
   "execution_count": 335,
   "id": "18ac73ef-7255-400a-813e-8ad75b7495a7",
   "metadata": {},
   "outputs": [
    {
     "data": {
      "text/html": [
       "<div>\n",
       "<style scoped>\n",
       "    .dataframe tbody tr th:only-of-type {\n",
       "        vertical-align: middle;\n",
       "    }\n",
       "\n",
       "    .dataframe tbody tr th {\n",
       "        vertical-align: top;\n",
       "    }\n",
       "\n",
       "    .dataframe thead th {\n",
       "        text-align: right;\n",
       "    }\n",
       "</style>\n",
       "<table border=\"1\" class=\"dataframe\">\n",
       "  <thead>\n",
       "    <tr style=\"text-align: right;\">\n",
       "      <th></th>\n",
       "      <th>#</th>\n",
       "      <th>Name</th>\n",
       "      <th>Type 1</th>\n",
       "      <th>Type 2</th>\n",
       "      <th>Total</th>\n",
       "      <th>HP</th>\n",
       "      <th>Attack</th>\n",
       "      <th>Defense</th>\n",
       "      <th>Sp. Atk</th>\n",
       "      <th>Sp. Def</th>\n",
       "      <th>Speed</th>\n",
       "      <th>Generation</th>\n",
       "      <th>Legendary</th>\n",
       "    </tr>\n",
       "  </thead>\n",
       "  <tbody>\n",
       "    <tr>\n",
       "      <th>0</th>\n",
       "      <td>1</td>\n",
       "      <td>Bulbasaur</td>\n",
       "      <td>Grass</td>\n",
       "      <td>NaN</td>\n",
       "      <td>318</td>\n",
       "      <td>45</td>\n",
       "      <td>49</td>\n",
       "      <td>49</td>\n",
       "      <td>65</td>\n",
       "      <td>65</td>\n",
       "      <td>45</td>\n",
       "      <td>1</td>\n",
       "      <td>False</td>\n",
       "    </tr>\n",
       "    <tr>\n",
       "      <th>1</th>\n",
       "      <td>2</td>\n",
       "      <td>Ivysaur</td>\n",
       "      <td>Grass</td>\n",
       "      <td>NaN</td>\n",
       "      <td>405</td>\n",
       "      <td>60</td>\n",
       "      <td>62</td>\n",
       "      <td>63</td>\n",
       "      <td>80</td>\n",
       "      <td>80</td>\n",
       "      <td>60</td>\n",
       "      <td>1</td>\n",
       "      <td>False</td>\n",
       "    </tr>\n",
       "    <tr>\n",
       "      <th>2</th>\n",
       "      <td>3</td>\n",
       "      <td>Venusaur</td>\n",
       "      <td>Grass</td>\n",
       "      <td>NaN</td>\n",
       "      <td>525</td>\n",
       "      <td>80</td>\n",
       "      <td>82</td>\n",
       "      <td>83</td>\n",
       "      <td>100</td>\n",
       "      <td>100</td>\n",
       "      <td>80</td>\n",
       "      <td>1</td>\n",
       "      <td>False</td>\n",
       "    </tr>\n",
       "    <tr>\n",
       "      <th>3</th>\n",
       "      <td>3</td>\n",
       "      <td>VenusaurMega Venusaur</td>\n",
       "      <td>Grass</td>\n",
       "      <td>NaN</td>\n",
       "      <td>625</td>\n",
       "      <td>80</td>\n",
       "      <td>100</td>\n",
       "      <td>123</td>\n",
       "      <td>122</td>\n",
       "      <td>120</td>\n",
       "      <td>80</td>\n",
       "      <td>1</td>\n",
       "      <td>False</td>\n",
       "    </tr>\n",
       "    <tr>\n",
       "      <th>4</th>\n",
       "      <td>4</td>\n",
       "      <td>Charmander</td>\n",
       "      <td>Fire</td>\n",
       "      <td>-</td>\n",
       "      <td>309</td>\n",
       "      <td>39</td>\n",
       "      <td>52</td>\n",
       "      <td>43</td>\n",
       "      <td>60</td>\n",
       "      <td>50</td>\n",
       "      <td>65</td>\n",
       "      <td>1</td>\n",
       "      <td>False</td>\n",
       "    </tr>\n",
       "    <tr>\n",
       "      <th>...</th>\n",
       "      <td>...</td>\n",
       "      <td>...</td>\n",
       "      <td>...</td>\n",
       "      <td>...</td>\n",
       "      <td>...</td>\n",
       "      <td>...</td>\n",
       "      <td>...</td>\n",
       "      <td>...</td>\n",
       "      <td>...</td>\n",
       "      <td>...</td>\n",
       "      <td>...</td>\n",
       "      <td>...</td>\n",
       "      <td>...</td>\n",
       "    </tr>\n",
       "    <tr>\n",
       "      <th>795</th>\n",
       "      <td>719</td>\n",
       "      <td>Diancie</td>\n",
       "      <td>Rock</td>\n",
       "      <td>NaN</td>\n",
       "      <td>600</td>\n",
       "      <td>50</td>\n",
       "      <td>100</td>\n",
       "      <td>150</td>\n",
       "      <td>100</td>\n",
       "      <td>150</td>\n",
       "      <td>50</td>\n",
       "      <td>6</td>\n",
       "      <td>True</td>\n",
       "    </tr>\n",
       "    <tr>\n",
       "      <th>796</th>\n",
       "      <td>719</td>\n",
       "      <td>DiancieMega Diancie</td>\n",
       "      <td>Rock</td>\n",
       "      <td>NaN</td>\n",
       "      <td>700</td>\n",
       "      <td>50</td>\n",
       "      <td>160</td>\n",
       "      <td>110</td>\n",
       "      <td>160</td>\n",
       "      <td>110</td>\n",
       "      <td>110</td>\n",
       "      <td>6</td>\n",
       "      <td>True</td>\n",
       "    </tr>\n",
       "    <tr>\n",
       "      <th>797</th>\n",
       "      <td>720</td>\n",
       "      <td>HoopaHoopa Confined</td>\n",
       "      <td>Psychic</td>\n",
       "      <td>NaN</td>\n",
       "      <td>600</td>\n",
       "      <td>80</td>\n",
       "      <td>110</td>\n",
       "      <td>60</td>\n",
       "      <td>150</td>\n",
       "      <td>130</td>\n",
       "      <td>70</td>\n",
       "      <td>6</td>\n",
       "      <td>True</td>\n",
       "    </tr>\n",
       "    <tr>\n",
       "      <th>798</th>\n",
       "      <td>720</td>\n",
       "      <td>HoopaHoopa Unbound</td>\n",
       "      <td>Psychic</td>\n",
       "      <td>NaN</td>\n",
       "      <td>680</td>\n",
       "      <td>80</td>\n",
       "      <td>160</td>\n",
       "      <td>60</td>\n",
       "      <td>170</td>\n",
       "      <td>130</td>\n",
       "      <td>80</td>\n",
       "      <td>6</td>\n",
       "      <td>True</td>\n",
       "    </tr>\n",
       "    <tr>\n",
       "      <th>799</th>\n",
       "      <td>721</td>\n",
       "      <td>Volcanion</td>\n",
       "      <td>Fire</td>\n",
       "      <td>NaN</td>\n",
       "      <td>600</td>\n",
       "      <td>80</td>\n",
       "      <td>110</td>\n",
       "      <td>120</td>\n",
       "      <td>130</td>\n",
       "      <td>90</td>\n",
       "      <td>70</td>\n",
       "      <td>6</td>\n",
       "      <td>True</td>\n",
       "    </tr>\n",
       "  </tbody>\n",
       "</table>\n",
       "<p>800 rows × 13 columns</p>\n",
       "</div>"
      ],
      "text/plain": [
       "       #                   Name   Type 1 Type 2  Total  HP  Attack  Defense  \\\n",
       "0      1              Bulbasaur    Grass    NaN    318  45      49       49   \n",
       "1      2                Ivysaur    Grass    NaN    405  60      62       63   \n",
       "2      3               Venusaur    Grass    NaN    525  80      82       83   \n",
       "3      3  VenusaurMega Venusaur    Grass    NaN    625  80     100      123   \n",
       "4      4             Charmander     Fire      -    309  39      52       43   \n",
       "..   ...                    ...      ...    ...    ...  ..     ...      ...   \n",
       "795  719                Diancie     Rock    NaN    600  50     100      150   \n",
       "796  719    DiancieMega Diancie     Rock    NaN    700  50     160      110   \n",
       "797  720    HoopaHoopa Confined  Psychic    NaN    600  80     110       60   \n",
       "798  720     HoopaHoopa Unbound  Psychic    NaN    680  80     160       60   \n",
       "799  721              Volcanion     Fire    NaN    600  80     110      120   \n",
       "\n",
       "     Sp. Atk  Sp. Def  Speed  Generation  Legendary  \n",
       "0         65       65     45           1      False  \n",
       "1         80       80     60           1      False  \n",
       "2        100      100     80           1      False  \n",
       "3        122      120     80           1      False  \n",
       "4         60       50     65           1      False  \n",
       "..       ...      ...    ...         ...        ...  \n",
       "795      100      150     50           6       True  \n",
       "796      160      110    110           6       True  \n",
       "797      150      130     70           6       True  \n",
       "798      170      130     80           6       True  \n",
       "799      130       90     70           6       True  \n",
       "\n",
       "[800 rows x 13 columns]"
      ]
     },
     "execution_count": 335,
     "metadata": {},
     "output_type": "execute_result"
    }
   ],
   "source": [
    "pokemon_df[ pokemon_df[ 'Type 2' ].isnull() ][ 'Type 2' ] = pokemon_df[ pokemon_df[ 'Type 2' ].isnull() ][ 'Type 2' ].replace(np.nan, '-')\n",
    "pokemon_df"
   ]
  },
  {
   "cell_type": "markdown",
   "id": "f2a0048a-68d6-4863-a6e3-54b4dd126912",
   "metadata": {},
   "source": [
    "# Esercizio 6\n",
    "Dai beginner_dataset carichiamo in un DataFrame il file automobile.csv: \n",
    "- Ci sono valori nulli? Dove? Quanti?\n",
    "- Quali righe hanno un valore nullo nella colonna num-of-doors?\n",
    "- Esaminando i dati nel dataset, cerchiamo una logica per sostituire i valori nulli nella colonna num-of-doors"
   ]
  },
  {
   "cell_type": "code",
   "execution_count": null,
   "id": "cf8a6395-6a67-4042-8384-14982d23db74",
   "metadata": {},
   "outputs": [],
   "source": []
  },
  {
   "cell_type": "markdown",
   "id": "08877b1c-cad7-4111-a33b-39fc8f693893",
   "metadata": {},
   "source": [
    "# Esercizio 7\n",
    "Abbiamo il seguente DataFrame che raccoglie le misurazioni di un sensore che misura la temperatura atmosferica giornaliera: \n",
    "\n",
    "```python\n",
    "import numpy as np, pandas as pd\n",
    "temp = pd.DataFrame({\"Giorno\": [0, 1, 2, 3, 4, 5, 6 7, 8, 9, 10, 11, 12], \"Temperature\": [18, 19, 18, np.nan, 21, 20, 20, np.nan, 21, 23, np.nan, 23, 24]})\n",
    "```\n",
    "- Il sensore a volte non funziona, dunque alcuni dati sono mancanti: quale sarebbe la migliore strategia per gestirli? "
   ]
  },
  {
   "cell_type": "code",
   "execution_count": null,
   "id": "abf543fd-f83d-43e5-87e7-35c78d280d36",
   "metadata": {},
   "outputs": [],
   "source": []
  },
  {
   "cell_type": "markdown",
   "id": "4187f3a4-5f14-4d8a-a84b-b4a3a8a2bb6c",
   "metadata": {},
   "source": [
    "# Esercizio 8 1/2 \n",
    "Nel pacchetto os della standard library c'è la funzione os.listdir() che permette di avere la lista dei nomi di file all'interno di una directory; senza input di default li cerca nella directory di lavoro corrente, altrimenti si può passare un path per esaminare una directory specifica, ad esempio os.listdir(\"mio_progetto/beginner_datasets/\") \n",
    "- Nella directory dei beginner_datasets, quali sono i dataset che contengono dati nulli?"
   ]
  },
  {
   "cell_type": "code",
   "execution_count": null,
   "id": "c8025add-b573-4b3b-a1f4-34dcb22f6b7c",
   "metadata": {},
   "outputs": [],
   "source": []
  },
  {
   "cell_type": "markdown",
   "id": "75819812-f37b-40e4-b268-fa0f21c509e6",
   "metadata": {},
   "source": [
    "# Esercizio 8 2/2 \n",
    "1. Dovremo usare un ciclo for per esaminare tutti i nomi dei file\n",
    "2. Dovremo selezionare solo i nomi di file con estensione .csv (quindi usare un costrutto if)\n",
    "3. Nel corpo dovremo leggere di volta in volta il file in esame, e caricarlo in un DataFrame con la funzione .read_csv()\n",
    "4. Sul DataFrame dovremo utilizzare il metodo .isna() per trovare la maschera booleana dei dati nulli\n",
    "5. Dovremo contare i dati nulli, utilizzando .sum(); potremmo doverlo utilizzare più di una volta\n",
    "6. Dovremo stampare, o memorizzare in una list, solo i nomi dei file che contengono dati nulli"
   ]
  },
  {
   "cell_type": "code",
   "execution_count": null,
   "id": "23f4b237-9d85-4964-a8fb-f99c65c98167",
   "metadata": {},
   "outputs": [],
   "source": []
  }
 ],
 "metadata": {
  "kernelspec": {
   "display_name": "Python 3 (ipykernel)",
   "language": "python",
   "name": "python3"
  },
  "language_info": {
   "codemirror_mode": {
    "name": "ipython",
    "version": 3
   },
   "file_extension": ".py",
   "mimetype": "text/x-python",
   "name": "python",
   "nbconvert_exporter": "python",
   "pygments_lexer": "ipython3",
   "version": "3.12.3"
  }
 },
 "nbformat": 4,
 "nbformat_minor": 5
}
